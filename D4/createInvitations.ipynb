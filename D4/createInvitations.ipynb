{
 "cells": [
  {
   "cell_type": "code",
   "execution_count": 3,
   "metadata": {},
   "outputs": [],
   "source": [
    "from docx import Document\n",
    "from docx.shared import Pt, RGBColor #字体大小和颜色\n",
    "from docx.enum.text import WD_ALIGN_PARAGRAPH #调整段落居中\n",
    "import datetime\n",
    "def create_autoinvitation(guest_name):\n",
    "    doc = Document()\n",
    "    header = doc.add_paragraph()\n",
    "    header_run = header.add_run('INVITATION')\n",
    "    header_run.font.bold = True\n",
    "    header_run.font.size = Pt(30)\n",
    "    header.alignment = WD_ALIGN_PARAGRAPH.CENTER\n",
    "\n",
    "    title = doc.add_paragraph()\n",
    "    title_run = title.add_run(guest_name.title()+' :')\n",
    "    title_run.font.size = Pt(20)\n",
    "    title_run.font.name = 'Segoe Script'\n",
    "    content = doc.add_paragraph()\n",
    "    content_run = content.add_run(\"Welcome to my party that will\"\\\n",
    "    \" begin at 17:00 on April 1st:\"\\\n",
    "    \"It will take place at No.123 Nanjing Road, Shanghai. \"\n",
    "    \"I would really like you could\"\\\n",
    "    \"come and enjoy the time with us.\" #字符串太长，使用\\来连接多行\n",
    "    )\n",
    "    content_run.font.size = Pt(12)\n",
    "    content_run.font.name = 'Segoe Script'\n",
    "    content.paragraph_format.line_spacing = 2.0\n",
    "    signature = doc.add_paragraph()\n",
    "    signature_run = signature.add_run('Dr.Wu\\n')\n",
    "    signature_run.font.name = 'Segoe Script'\n",
    "    signature_run.font.size = Pt(18)\n",
    "    now_time = datetime.datetime.now().strftime('%Y-%m-%d')\n",
    "    sign_time_run = signature.add_run(now_time)\n",
    "    sign_time_run.font.size = Pt(12)\n",
    "    sign_time_run.font.name = 'Segoe Script'\n",
    "    signature.alignment = WD_ALIGN_PARAGRAPH.RIGHT\n",
    "    doc.save('invitation_to_'+guest_name+'.docx')"
   ]
  },
  {
   "cell_type": "code",
   "execution_count": 4,
   "metadata": {},
   "outputs": [],
   "source": [
    "name_list = ['michael jordan','lebron james','kobe bryant',\n",
    "'tracy magrady','yao ming','steve nash','charles barkley']\n",
    "for guest_name in name_list: \n",
    "    create_autoinvitation(guest_name)"
   ]
  },
  {
   "cell_type": "code",
   "execution_count": null,
   "metadata": {},
   "outputs": [],
   "source": []
  }
 ],
 "metadata": {
  "kernelspec": {
   "display_name": "Python 3",
   "language": "python",
   "name": "python3"
  },
  "language_info": {
   "codemirror_mode": {
    "name": "ipython",
    "version": 3
   },
   "file_extension": ".py",
   "mimetype": "text/x-python",
   "name": "python",
   "nbconvert_exporter": "python",
   "pygments_lexer": "ipython3",
   "version": "3.6.5"
  }
 },
 "nbformat": 4,
 "nbformat_minor": 4
}
