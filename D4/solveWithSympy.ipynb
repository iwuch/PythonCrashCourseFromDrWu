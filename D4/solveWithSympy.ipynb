{
 "cells": [
  {
   "cell_type": "code",
   "execution_count": 2,
   "metadata": {},
   "outputs": [
    {
     "name": "stdout",
     "output_type": "stream",
     "text": [
      "Defaulting to user installation because normal site-packages is not writeable\n",
      "Looking in indexes: https://mirrors.aliyun.com/pypi/simple\n",
      "Requirement already satisfied: sympy in /data/nas/workspace/envs/python3.6/site-packages (1.7.1)\n",
      "Requirement already satisfied: mpmath>=0.19 in /data/nas/workspace/envs/python3.6/site-packages (from sympy) (1.1.0)\n",
      "\u001b[33mWARNING: You are using pip version 20.3.3; however, version 21.0 is available.\n",
      "You should consider upgrading via the '/opt/conda/bin/python -m pip install --upgrade pip' command.\u001b[0m\n"
     ]
    }
   ],
   "source": [
    "#如果没有安装sympy可以使用以下的命令进行pip安装,然后重启kernel\n",
    "!pip install sympy"
   ]
  },
  {
   "cell_type": "code",
   "execution_count": 4,
   "metadata": {},
   "outputs": [
    {
     "name": "stdout",
     "output_type": "stream",
     "text": [
      "⎡3   √29  3   √29⎤\n",
      "⎢─ - ───, ─ + ───⎥\n",
      "⎣2    2   2    2 ⎦\n"
     ]
    }
   ],
   "source": [
    "#使用sympy来求解二元一次方程组\n",
    "from sympy import Symbol, solve, pprint\n",
    "x = Symbol('x')\n",
    "expr = x**2 -3*x -5\n",
    "solution = solve(expr,x)\n",
    "pprint(solution)"
   ]
  },
  {
   "cell_type": "code",
   "execution_count": 6,
   "metadata": {},
   "outputs": [
    {
     "name": "stdout",
     "output_type": "stream",
     "text": [
      "{x: 24/5, y: -6/5}\n"
     ]
    }
   ],
   "source": [
    "#使用sympy来求解二元一次方程组\n",
    "from sympy import Symbol, solve, pprint\n",
    "x = Symbol('x')\n",
    "y = Symbol('y')\n",
    "expr1 = 2*x + 3*y -6\n",
    "expr2 = 3*x + 2*y -12\n",
    "solution = solve((expr1,expr2))\n",
    "pprint(solution)"
   ]
  },
  {
   "cell_type": "code",
   "execution_count": 7,
   "metadata": {},
   "outputs": [
    {
     "name": "stdout",
     "output_type": "stream",
     "text": [
      "10⋅t + 3\n",
      "33\n"
     ]
    }
   ],
   "source": [
    "#使用sympy来求解导数\n",
    "from sympy import Symbol,Derivative,pprint\n",
    "t = Symbol('t')\n",
    "S = 5* t**2 + 3*t + 8\n",
    "der = Derivative(S,t)\n",
    "expr = der.doit()\n",
    "sol = expr.subs({t:3})\n",
    "pprint(expr)\n",
    "pprint(sol)"
   ]
  },
  {
   "cell_type": "code",
   "execution_count": 9,
   "metadata": {},
   "outputs": [
    {
     "name": "stdout",
     "output_type": "stream",
     "text": [
      "   2\n",
      "k⋅x \n",
      "────\n",
      " 2  \n",
      "4⋅k\n",
      "───\n",
      " 3 \n"
     ]
    }
   ],
   "source": [
    "#使用sympy求积分\n",
    "from sympy import Symbol,Integral,pprint\n",
    "x = Symbol('x')\n",
    "k = Symbol('k')\n",
    "f = k*x\n",
    "solution = Integral(f,x).doit()\n",
    "pprint(solution)\n",
    "result = Integral(f,x,(x,0,2)).doit()\n",
    "pprint(result)"
   ]
  },
  {
   "cell_type": "code",
   "execution_count": null,
   "metadata": {},
   "outputs": [],
   "source": []
  },
  {
   "cell_type": "code",
   "execution_count": null,
   "metadata": {},
   "outputs": [],
   "source": []
  }
 ],
 "metadata": {
  "kernelspec": {
   "display_name": "Python 3",
   "language": "python",
   "name": "python3"
  },
  "language_info": {
   "codemirror_mode": {
    "name": "ipython",
    "version": 3
   },
   "file_extension": ".py",
   "mimetype": "text/x-python",
   "name": "python",
   "nbconvert_exporter": "python",
   "pygments_lexer": "ipython3",
   "version": "3.6.5"
  }
 },
 "nbformat": 4,
 "nbformat_minor": 4
}
