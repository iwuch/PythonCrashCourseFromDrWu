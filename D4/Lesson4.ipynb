{
 "cells": [
  {
   "cell_type": "code",
   "execution_count": null,
   "metadata": {},
   "outputs": [],
   "source": [
    "#使用列表来查询电话号码\n",
    "names = [\"李雷\",\"韩梅梅\",\"马冬梅\"]\n",
    "phones = [\"1234\",\"3456\",\"0123\"]\n",
    "print(phones[names.index(\"李雷\")])"
   ]
  },
  {
   "cell_type": "code",
   "execution_count": null,
   "metadata": {},
   "outputs": [],
   "source": [
    "#使用字典来查询电话号码\n",
    "phone_numbers = {\"李雷\":\"1234\",\"韩梅梅\":\"3456\",\"马冬梅\":\"0123\"}\n",
    "print(phone_numbers[\"李雷\"])"
   ]
  },
  {
   "cell_type": "code",
   "execution_count": null,
   "metadata": {},
   "outputs": [],
   "source": [
    "#字典的键是不可变的hashable/immutable\n",
    "dictionary = {\n",
    "    1:\"one\",\n",
    "    \"1\":\"two\",\n",
    "    (1,1):\"Three\",\n",
    "#     [1,1]:\"Four\",\n",
    "#     {1:1}:\"Five\",\n",
    "}"
   ]
  },
  {
   "cell_type": "code",
   "execution_count": null,
   "metadata": {},
   "outputs": [],
   "source": [
    "#通过花括号来创建字典\n",
    "d = {\n",
    "    \"lilei\":98,\n",
    "    \"hanmeimei\":99\n",
    "}"
   ]
  },
  {
   "cell_type": "code",
   "execution_count": null,
   "metadata": {},
   "outputs": [],
   "source": [
    "# 如果之前自定义了dict，需要通过del dict来删除自定义内容\n",
    "# 通过元组对列表来创建字典\n",
    "message = [(\"lilei\",98),(\"hanmeimei\",99)]\n",
    "d = dict(message)\n",
    "print(d)"
   ]
  },
  {
   "cell_type": "code",
   "execution_count": null,
   "metadata": {},
   "outputs": [],
   "source": [
    "#通过关键词参数来通过dict创建\n",
    "d = dict(lilei = 98, hanmeimei = 99)\n",
    "print(d)"
   ]
  },
  {
   "cell_type": "code",
   "execution_count": null,
   "metadata": {},
   "outputs": [],
   "source": [
    "#访问字典中的元素\n",
    "grade = {\"李雷\":'98',\"韩梅梅\":\"99\"}\n",
    "print(grade[\"李雷\"])\n",
    "print(grade.__getitem__(\"韩梅梅\"))"
   ]
  },
  {
   "cell_type": "code",
   "execution_count": null,
   "metadata": {},
   "outputs": [],
   "source": [
    "#更新字典中的元素\n",
    "grade = {\"李雷\":'98',\"韩梅梅\":\"99\"}\n",
    "grade[\"马冬梅\"] = 99\n",
    "grade[\"韩梅梅\"] = 100\n",
    "grade.__setitem__(\"李雷\",97)\n",
    "grade"
   ]
  },
  {
   "cell_type": "code",
   "execution_count": null,
   "metadata": {},
   "outputs": [],
   "source": [
    "#字典中的删除操作\n",
    "grade = {\"李雷\":'98',\"韩梅梅\":\"99\",\"马冬梅\":\"100\"}\n",
    "del grade[\"李雷\"]\n",
    "grade.__delitem__(\"马冬梅\")\n",
    "print(grade)\n",
    "# del grade\n",
    "grade"
   ]
  },
  {
   "cell_type": "code",
   "execution_count": null,
   "metadata": {},
   "outputs": [],
   "source": [
    "#创建一个最喜欢语言的列表\n",
    "favorite_languages = {\n",
    "    'jen':'python',\n",
    "    'sarah':'c',\n",
    "    'edward':'ruby',\n",
    "    'phil':'python'\n",
    "}"
   ]
  },
  {
   "cell_type": "code",
   "execution_count": null,
   "metadata": {},
   "outputs": [],
   "source": [
    "#遍历键key\n",
    "for friend in favorite_languages:\n",
    "    print(friend.title())"
   ]
  },
  {
   "cell_type": "code",
   "execution_count": null,
   "metadata": {},
   "outputs": [],
   "source": [
    "#遍历值value\n",
    "for language in favorite_languages.values():\n",
    "    print(language)"
   ]
  },
  {
   "cell_type": "code",
   "execution_count": null,
   "metadata": {},
   "outputs": [],
   "source": [
    "#遍历每一项item\n",
    "for item in favorite_languages.items():\n",
    "    print(item)"
   ]
  },
  {
   "cell_type": "code",
   "execution_count": null,
   "metadata": {},
   "outputs": [],
   "source": [
    "#字典列表\n",
    "student1 = {'name':'李雷','age':18,'grade':98}\n",
    "student2 = {'name':'韩梅梅','age':19,'grade':99}\n",
    "student3 = {'name':'马冬梅','age':18,'grade':95}\n",
    "students = [student1,student2,student3]\n",
    "students"
   ]
  },
  {
   "cell_type": "code",
   "execution_count": null,
   "metadata": {},
   "outputs": [],
   "source": [
    "#列表作为字典的值\n",
    "favorite_classes = {\n",
    "    '李雷':['数学','英语'],\n",
    "    '韩梅梅':['语文'],\n",
    "    '马冬梅':['计算机','物理','数学'],\n",
    "}\n",
    "print(favorite_classes['李雷'])\n",
    "print(favorite_classes['李雷'][0])"
   ]
  },
  {
   "cell_type": "code",
   "execution_count": null,
   "metadata": {},
   "outputs": [],
   "source": [
    "#字典作为字典的值\n",
    "class1 = {\n",
    "    '李雷':{'成绩':98,'实验班':True},\n",
    "    '韩梅梅':{'成绩':95,'实验班':False}\n",
    "}\n",
    "print(class1['李雷'])\n",
    "print(class1['李雷']['成绩'])"
   ]
  },
  {
   "cell_type": "code",
   "execution_count": null,
   "metadata": {},
   "outputs": [],
   "source": [
    "#字典的排序\n",
    "d = {\n",
    "    'a':2,\n",
    "    'b':5,\n",
    "    'c':3\n",
    "}\n",
    "for k in sorted(d.keys()):\n",
    "    print(k,d[k])"
   ]
  },
  {
   "cell_type": "code",
   "execution_count": null,
   "metadata": {},
   "outputs": [],
   "source": [
    "#以d.__getitem__作为评价指标对字典d进行排序\n",
    "for k in sorted(d,key=d.__getitem__,reverse=True):\n",
    "    print(k,d[k])"
   ]
  },
  {
   "cell_type": "code",
   "execution_count": null,
   "metadata": {},
   "outputs": [],
   "source": [
    "#以d.get作为评价指标对字典d进行排序\n",
    "for k in sorted(d,key=d.get,reverse=True):\n",
    "    print(k,d[k])"
   ]
  },
  {
   "cell_type": "code",
   "execution_count": null,
   "metadata": {},
   "outputs": [],
   "source": [
    "#对d.items()进行排序，排序的指标是元组的第1号位\n",
    "#此处我们使用了lambda表达式来表示匿名函数\n",
    "res = sorted(d.items(),key = lambda d:d[1],reverse = True)\n",
    "print(res)"
   ]
  },
  {
   "cell_type": "code",
   "execution_count": null,
   "metadata": {},
   "outputs": [],
   "source": [
    "#我们也可以显性地把函数定义好之后实现上述功能\n",
    "def get_value(d):\n",
    "    return d[1]\n",
    "res = sorted(d.items(),key=get_value,reverse =True)\n",
    "print(res)"
   ]
  },
  {
   "cell_type": "code",
   "execution_count": null,
   "metadata": {},
   "outputs": [],
   "source": [
    "#集合的创建\n",
    "set1 = {1,9,3,2,5}\n",
    "print(set1)"
   ]
  },
  {
   "cell_type": "code",
   "execution_count": null,
   "metadata": {},
   "outputs": [],
   "source": [
    "#列表的集合化,注意务必使用set函数\n",
    "set2 = set([1,2,4,1,2,8,5,5])\n",
    "print(set2)"
   ]
  },
  {
   "cell_type": "code",
   "execution_count": null,
   "metadata": {},
   "outputs": [],
   "source": [
    "#求集合的交集/并集/差集/对称差集\n",
    "print(set1 & set2)\n",
    "print(set1 | set2)\n",
    "print(set1 - set2)\n",
    "print(set2 - set1)\n",
    "print(set1 ^ set2)"
   ]
  },
  {
   "cell_type": "code",
   "execution_count": null,
   "metadata": {},
   "outputs": [],
   "source": [
    "#break语句退出循环\n",
    "nums = set(range(10))\n",
    "for num in nums:\n",
    "    if num == 5:\n",
    "        break \n",
    "    print(num)"
   ]
  },
  {
   "cell_type": "code",
   "execution_count": null,
   "metadata": {},
   "outputs": [],
   "source": [
    "#continue语句跳过循环的这一次迭代\n",
    "nums = set(range(10))\n",
    "for num in nums:\n",
    "    if num == 5:\n",
    "        continue \n",
    "    print(num)"
   ]
  },
  {
   "cell_type": "code",
   "execution_count": 36,
   "metadata": {},
   "outputs": [
    {
     "name": "stdin",
     "output_type": "stream",
     "text": [
      " move\n"
     ]
    },
    {
     "name": "stdout",
     "output_type": "stream",
     "text": [
      "dog_x is 10\n",
      "cat_x is 10\n"
     ]
    }
   ],
   "source": [
    "dog_x = 0\n",
    "cat_x = 0\n",
    "\n",
    "def dog_move():\n",
    "    global dog_x\n",
    "    dog_x = dog_x + 10\n",
    "    \n",
    "def cat_move():\n",
    "    global cat_x\n",
    "    cat_x = cat_x + 10\n",
    "    \n",
    "user_input = input()\n",
    "\n",
    "if user_input == \"move\":\n",
    "    dog_move()\n",
    "    print(f\"dog_x is {dog_x}\")\n",
    "    cat_move()\n",
    "    print(f\"cat_x is {cat_x}\")"
   ]
  },
  {
   "cell_type": "code",
   "execution_count": 39,
   "metadata": {},
   "outputs": [
    {
     "name": "stdin",
     "output_type": "stream",
     "text": [
      " move\n"
     ]
    },
    {
     "name": "stdout",
     "output_type": "stream",
     "text": [
      "Dog positino:10\n",
      "Dog positino:10\n"
     ]
    }
   ],
   "source": [
    "class Animal():\n",
    "    def __init__(self):\n",
    "        self.x = 0\n",
    "    def move(self):\n",
    "        self.x += 10\n",
    "\n",
    "dog = Animal()\n",
    "cat = Animal()\n",
    "\n",
    "user_input = input()\n",
    "if user_input == \"move\":\n",
    "    dog.move()\n",
    "    print(f\"Dog positino:{dog.x}\")\n",
    "    cat.move()\n",
    "    print(f\"Dog positino:{cat.x}\")"
   ]
  },
  {
   "cell_type": "code",
   "execution_count": 40,
   "metadata": {},
   "outputs": [
    {
     "name": "stdout",
     "output_type": "stream",
     "text": [
      "Hi\n"
     ]
    }
   ],
   "source": [
    "class Student():\n",
    "    def say_hi(self):\n",
    "        print(\"Hi\")\n",
    "lilei = Student()\n",
    "lilei.say_hi()"
   ]
  },
  {
   "cell_type": "code",
   "execution_count": 43,
   "metadata": {},
   "outputs": [
    {
     "name": "stdout",
     "output_type": "stream",
     "text": [
      "Hi! I'm hanmeimei\n"
     ]
    }
   ],
   "source": [
    "class Student():\n",
    "    def __init__(self,name):\n",
    "        self.name = name\n",
    "    def say_hi(self):\n",
    "        print(f\"Hi! I'm {self.name}\")\n",
    "lilei = Student(\"hanmeimei\")\n",
    "lilei.say_hi()"
   ]
  },
  {
   "cell_type": "code",
   "execution_count": 44,
   "metadata": {},
   "outputs": [
    {
     "name": "stdout",
     "output_type": "stream",
     "text": [
      "The HP of Bai Qi is 440\n",
      "The HP of Lu Ban is 277\n",
      "The HP of Bai Qi is 388\n",
      "The HP of Lu Ban is 255\n",
      "The HP of Bai Qi is 330\n",
      "The HP of Lu Ban is 230\n",
      "The HP of Bai Qi is 277\n",
      "The HP of Lu Ban is 202\n",
      "The HP of Bai Qi is 220\n",
      "The HP of Lu Ban is 176\n",
      "The HP of Bai Qi is 161\n",
      "The HP of Lu Ban is 150\n",
      "The HP of Bai Qi is 110\n",
      "The HP of Lu Ban is 120\n",
      "The HP of Bai Qi is 53\n",
      "The HP of Lu Ban is 100\n",
      "The HP of Bai Qi is 3\n",
      "The HP of Lu Ban is 80\n",
      "The HP of Bai Qi is -51\n",
      "Bai Qi has been slained.\n"
     ]
    }
   ],
   "source": [
    "from random import randint\n",
    "class Hero():\n",
    "    def __init__(self,name,hp=100,ad=20):\n",
    "        self.name = name\n",
    "        self.hp = hp\n",
    "        self.ad = ad\n",
    "    def attack(self,enemy):\n",
    "        enemy.hp -= self.ad+randint(0,10)\n",
    "    def show_hp(self):\n",
    "        print(f'The HP of {self.name} is {self.hp}')\n",
    "        if self.is_alive()==False:\n",
    "            print(f'{self.name} has been slained.')\n",
    "    def is_alive(self):\n",
    "        if self.hp>0:\n",
    "            return True\n",
    "        else:\n",
    "            return False\n",
    "\n",
    "luban = Hero('Lu Ban',hp=300,ad=50) \n",
    "baiqi = Hero('Bai Qi',hp=500,ad=20)\n",
    "game_over = False\n",
    "gameround = 0\n",
    "while(game_over==False):\n",
    "    gameround += 1\n",
    "    if gameround%2 == 1:\n",
    "        luban.attack(baiqi)\n",
    "        if baiqi.is_alive()==False:\n",
    "            game_over = True\n",
    "        baiqi.show_hp()\n",
    "    else:\n",
    "        baiqi.attack(luban)\n",
    "        if luban.is_alive()==False:\n",
    "            game_over = True\n",
    "        luban.show_hp()"
   ]
  },
  {
   "cell_type": "code",
   "execution_count": null,
   "metadata": {},
   "outputs": [],
   "source": []
  }
 ],
 "metadata": {
  "kernelspec": {
   "display_name": "Python 3",
   "language": "python",
   "name": "python3"
  },
  "language_info": {
   "codemirror_mode": {
    "name": "ipython",
    "version": 3
   },
   "file_extension": ".py",
   "mimetype": "text/x-python",
   "name": "python",
   "nbconvert_exporter": "python",
   "pygments_lexer": "ipython3",
   "version": "3.6.5"
  }
 },
 "nbformat": 4,
 "nbformat_minor": 4
}
