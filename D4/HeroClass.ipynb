{
 "cells": [
  {
   "cell_type": "code",
   "execution_count": null,
   "metadata": {},
   "outputs": [],
   "source": [
    "import random\n",
    "GAME_OVER = False\n",
    "class Hero():\n",
    "    '''我们封装了一个英雄类，定义了游戏中一个英雄有用的属性和可以操作的方法'''\n",
    "    def __init__(self,name,health=3000,attack=200,defence=100,penertration=50,pepercentage=0.1):\n",
    "        '''\n",
    "        name属性表示英雄的名字;\n",
    "        health属性表示英雄的血量；\n",
    "        attack属性表示英雄的物理攻击；\n",
    "        defence属性表示英雄的物理防御；\n",
    "        penertration表示英雄的物理穿透值；\n",
    "        pepercentage表示英雄的物理百分比穿透值；\n",
    "        '''\n",
    "        self.name = name\n",
    "        self.health = health\n",
    "        self.attack = attack\n",
    "        self.defence = defence\n",
    "        self.penertration = penertration\n",
    "        self.pepercentage = pepercentage\n",
    "\n",
    "    def attack_enemy(self,enemy):\n",
    "        '''\n",
    "        根据伤害结算规则计算每次攻击造成的伤害，并且打印伤害信息\n",
    "        '''\n",
    "        r_defence = (enemy.defence-self.penertration)*(1-self.pepercentage)\n",
    "        remission = r_defence/(602+r_defence)\n",
    "        damage = int(self.attack*(1-remission)) + random.randint(-3,3)\n",
    "        enemy.health -= damage\n",
    "        print(f\"{self.name}对{enemy.name}造成了{damage}点伤害,{enemy.name}目前的血量为{enemy.health}。\")\n",
    "\n",
    "    def is_alive(self):\n",
    "        '''\n",
    "        通过is_alive函数来判断英雄是否死亡，如果死亡，则游戏结束\n",
    "        '''\n",
    "        if self.health > 0:\n",
    "            return True\n",
    "        else:\n",
    "            global GAME_OVER \n",
    "            GAME_OVER = True\n",
    "            print(f\"{self.name} is dead.\")\n",
    "            return False"
   ]
  },
  {
   "cell_type": "code",
   "execution_count": null,
   "metadata": {},
   "outputs": [],
   "source": [
    "#新建两个英雄：李白和项羽\n",
    "#李白作为刺客，攻击力可以调高一些\n",
    "libai = Hero('李白',attack=300)\n",
    "#项羽作为坦克，生命值可以大一些\n",
    "xiang = Hero('项羽',health=4740)\n",
    "#我们就可以使用以下代码来用面向对象的方法编写模拟程序了\n",
    "libai.attack_enemy(xiang)\n",
    "xiang.attack_enemy(libai)"
   ]
  },
  {
   "cell_type": "code",
   "execution_count": null,
   "metadata": {},
   "outputs": [],
   "source": [
    "GAME_OVER = False\n",
    "libai = Hero('李白',attack=300)\n",
    "xiang = Hero('项羽',health=4740)\n",
    "#把这两个英雄放入一个列表中\n",
    "players = [libai,xiang]\n",
    "#通过index来访问列表中的元素\n",
    "attacker_index = 0\n",
    "while not GAME_OVER:\n",
    "    defender_index = 1 - attacker_index\n",
    "    players[attacker_index].attack_enemy(players[defender_index])\n",
    "    players[defender_index].is_alive()\n",
    "    attacker_index = defender_index"
   ]
  },
  {
   "cell_type": "code",
   "execution_count": null,
   "metadata": {},
   "outputs": [],
   "source": []
  }
 ],
 "metadata": {
  "kernelspec": {
   "display_name": "Python 3",
   "language": "python",
   "name": "python3"
  },
  "language_info": {
   "codemirror_mode": {
    "name": "ipython",
    "version": 3
   },
   "file_extension": ".py",
   "mimetype": "text/x-python",
   "name": "python",
   "nbconvert_exporter": "python",
   "pygments_lexer": "ipython3",
   "version": "3.6.5"
  }
 },
 "nbformat": 4,
 "nbformat_minor": 4
}
