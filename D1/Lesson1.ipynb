{
 "cells": [
  {
   "cell_type": "code",
   "execution_count": null,
   "metadata": {},
   "outputs": [],
   "source": [
    "#使用import来调用系统自带的模块和自编的模块\n",
    "import this\n",
    "import hello"
   ]
  },
  {
   "cell_type": "code",
   "execution_count": null,
   "metadata": {},
   "outputs": [],
   "source": [
    "#如果要安装相关的模块，使用以下指令\n",
    "# !pip install certimaker\n",
    "# !pip install pinyin\n",
    "# !pip install python-docx\n",
    "#我们也可以使用以下指令将requirements.txt中的包批量安装到环境中\n",
    "# !pip install -r ./requirements.txt\n",
    "#如果要卸载相关的模块，使用以下指令，注意-y表示回答默认都是填y，不然在jupyter中无法输入相应\n",
    "# !pip uninstall certimaker -y\n",
    "# !pip uninstall pinyin -y\n",
    "# !pip uninstall python-docx -y\n",
    "#如果需要看安装包的具体代码，我们可以在terminal中使用find指令查看文件所在的位置，然后使用cd指令进入用vi查看\n",
    "from certimaker.certimaker import author\n",
    "from certimaker.certimaker import make_certificate as mc\n",
    "print(author())\n",
    "mc('Dr.Wu','三好学生')"
   ]
  },
  {
   "cell_type": "code",
   "execution_count": null,
   "metadata": {},
   "outputs": [],
   "source": [
    "#拓展训练，使用字典来批量生成人名对应的荣誉奖状\n",
    "names = {\n",
    "    '张三':'学习积极分子',\n",
    "    '李四':'劳动积极分子',\n",
    "    '王五':'美术积极分子',\n",
    "    '赵六':'体育积极分子',\n",
    "}\n",
    "for name,award in names.items():\n",
    "    mc(name,award)"
   ]
  }
 ],
 "metadata": {
  "kernelspec": {
   "display_name": "Python 3",
   "language": "python",
   "name": "python3"
  },
  "language_info": {
   "codemirror_mode": {
    "name": "ipython",
    "version": 3
   },
   "file_extension": ".py",
   "mimetype": "text/x-python",
   "name": "python",
   "nbconvert_exporter": "python",
   "pygments_lexer": "ipython3",
   "version": "3.6.5"
  }
 },
 "nbformat": 4,
 "nbformat_minor": 4
}
