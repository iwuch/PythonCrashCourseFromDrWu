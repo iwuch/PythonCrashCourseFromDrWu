{
 "cells": [
  {
   "cell_type": "code",
   "execution_count": null,
   "metadata": {},
   "outputs": [],
   "source": [
    "#使用open和close来打开/关闭文件\n",
    "f = open(\"./helloworld.txt\",'r')\n",
    "# lines = f.readlines()\n",
    "# print(lines)\n",
    "for line in f.readlines():\n",
    "    print(line)\n",
    "f.close()"
   ]
  },
  {
   "cell_type": "code",
   "execution_count": null,
   "metadata": {},
   "outputs": [],
   "source": [
    "#使用with关键字来进行文件的开关\n",
    "with open(\"./helloworld.txt\",'r') as lines:\n",
    "    for line in lines:\n",
    "        print(line)"
   ]
  },
  {
   "cell_type": "code",
   "execution_count": null,
   "metadata": {},
   "outputs": [],
   "source": [
    "#使用Write方法来进行文件的写入\n",
    "with open(\"./helloworld.txt\",'w') as file:\n",
    "    file.write(\"I love python!\\n\")"
   ]
  },
  {
   "cell_type": "code",
   "execution_count": null,
   "metadata": {},
   "outputs": [],
   "source": [
    "#使用append的方式进行文件的写入\n",
    "with open(\"./helloworld.txt\",'a') as file:\n",
    "    file.write(\"I love python!\\n\")"
   ]
  },
  {
   "cell_type": "code",
   "execution_count": null,
   "metadata": {},
   "outputs": [],
   "source": [
    "#SyntaxError: invalid character in identifier\n",
    "# print(\"Hello\"）"
   ]
  },
  {
   "cell_type": "code",
   "execution_count": null,
   "metadata": {},
   "outputs": [],
   "source": [
    "#SyntaxError: invalid syntax\n",
    "# name = \"lilei\"\n",
    "# if name == \"lilei\"\n",
    "#     print(\"hello\")"
   ]
  },
  {
   "cell_type": "code",
   "execution_count": null,
   "metadata": {},
   "outputs": [],
   "source": [
    "# IndentationError: unexpected indent\n",
    "# string = \"Hello World!\"\n",
    "#  print(string)"
   ]
  },
  {
   "cell_type": "code",
   "execution_count": null,
   "metadata": {},
   "outputs": [],
   "source": [
    "# IndentationError: expected an indented block\n",
    "# names = [\"jack\",\"rose\",\"lilei\"]\n",
    "# for name in names:\n",
    "# print(name)"
   ]
  },
  {
   "cell_type": "code",
   "execution_count": null,
   "metadata": {},
   "outputs": [],
   "source": [
    "# TypeError: must be str, not int\n",
    "# age = 18\n",
    "# string = \"我今年\" + age + \"喜欢音乐\""
   ]
  },
  {
   "cell_type": "code",
   "execution_count": null,
   "metadata": {},
   "outputs": [],
   "source": [
    "# TypeError: 'int' object is not callable\n",
    "# square = 3\n",
    "# square(3)"
   ]
  },
  {
   "cell_type": "code",
   "execution_count": null,
   "metadata": {},
   "outputs": [],
   "source": [
    "# TypeError: addnumber() missing 1 required positional argument: 'b'\n",
    "# def addnumber(a,b):\n",
    "#     c = a + b\n",
    "#     return c\n",
    "# addnumber(6)"
   ]
  },
  {
   "cell_type": "code",
   "execution_count": null,
   "metadata": {},
   "outputs": [],
   "source": [
    "# TypeError: addnumber() takes 2 positional arguments but 3 were given\n",
    "# def addnumber(a,b):\n",
    "#     c = a + b\n",
    "#     return c\n",
    "# addnumber(6,3,3)"
   ]
  },
  {
   "cell_type": "code",
   "execution_count": null,
   "metadata": {},
   "outputs": [],
   "source": [
    "#IndexError: list index out of range\n",
    "# names = [\"jack\",\"rose\",\"lilei\"]\n",
    "# print(names[3])"
   ]
  },
  {
   "cell_type": "code",
   "execution_count": null,
   "metadata": {},
   "outputs": [],
   "source": [
    "# NameError: name 'x' is not defined\n",
    "# y = x + 3"
   ]
  },
  {
   "cell_type": "code",
   "execution_count": null,
   "metadata": {},
   "outputs": [],
   "source": [
    "# ValueError: invalid literal for int() with base 10: 'd'\n",
    "# string = \"d\"\n",
    "# print(int(string))"
   ]
  },
  {
   "cell_type": "code",
   "execution_count": null,
   "metadata": {},
   "outputs": [],
   "source": [
    "# FileNotFoundError: [Errno 2] No such file or directory: 'python.txt'\n",
    "# with open(\"python.txt\",\"r\") as file:\n",
    "#     pass"
   ]
  },
  {
   "cell_type": "code",
   "execution_count": null,
   "metadata": {},
   "outputs": [],
   "source": [
    "# ZeroDivisionError: division by zero\n",
    "# print(5/0)"
   ]
  },
  {
   "cell_type": "code",
   "execution_count": null,
   "metadata": {},
   "outputs": [],
   "source": [
    "# 使用try-except语句来处理异常\n",
    "try:\n",
    "    print(5/0)\n",
    "except ZeroDivisionError:\n",
    "    print(\"You can't divide a nubmer by zero\")"
   ]
  },
  {
   "cell_type": "code",
   "execution_count": null,
   "metadata": {},
   "outputs": [],
   "source": [
    "# Input two numbers, this program will divide them\n",
    "# Enter q to quit this program\n",
    "while True:\n",
    "    numerator = input(\"Please enter the numerator:\")\n",
    "    if numerator == \"q\":\n",
    "        break\n",
    "    denominator = input(\"Please enter the denominator:\")\n",
    "    if denominator == \"q\":\n",
    "        break\n",
    "    try:\n",
    "        answer = int(numerator)/int(denominator)\n",
    "    except ZeroDivisionError:\n",
    "        print(\"You can't divide a nubmer by zero\")\n",
    "    except ValueError:\n",
    "        print(\"You should print numbers or the lower letter 'q'\")\n",
    "    else:\n",
    "        print(answer)"
   ]
  },
  {
   "cell_type": "code",
   "execution_count": null,
   "metadata": {},
   "outputs": [],
   "source": [
    "#使用字符串的split方法来进行单词的记数\n",
    "contents = \"Alice was an American girl.\"\n",
    "wordlist = contents.split()\n",
    "print(wordlist)\n",
    "print(len(wordlist))"
   ]
  },
  {
   "cell_type": "code",
   "execution_count": null,
   "metadata": {},
   "outputs": [],
   "source": [
    "def count_word(filepath,filename):\n",
    "        try:\n",
    "            with open(filepath+filename,\"r\",encoding=\"utf-8\") as f:\n",
    "                contents = f.read()\n",
    "        except FileNotFoundError:\n",
    "                return f\"The file {filename} does not exist.\"\n",
    "        except UnicodeDecodeError:\n",
    "                return f\"Please encode the file with utf-8 format.\"\n",
    "        words = contents.split()\n",
    "        return len(words)"
   ]
  },
  {
   "cell_type": "code",
   "execution_count": null,
   "metadata": {},
   "outputs": [],
   "source": [
    "books =[\"alice.txt\",\"princess.txt\",\"siddhartha.txt\",\"moby.txt\"]\n",
    "for book in books:\n",
    "    print(count_word(\"./books/\",book))"
   ]
  },
  {
   "cell_type": "code",
   "execution_count": null,
   "metadata": {},
   "outputs": [],
   "source": []
  },
  {
   "cell_type": "code",
   "execution_count": null,
   "metadata": {},
   "outputs": [],
   "source": []
  }
 ],
 "metadata": {
  "kernelspec": {
   "display_name": "Python 3",
   "language": "python",
   "name": "python3"
  },
  "language_info": {
   "codemirror_mode": {
    "name": "ipython",
    "version": 3
   },
   "file_extension": ".py",
   "mimetype": "text/x-python",
   "name": "python",
   "nbconvert_exporter": "python",
   "pygments_lexer": "ipython3",
   "version": "3.6.5"
  }
 },
 "nbformat": 4,
 "nbformat_minor": 4
}
