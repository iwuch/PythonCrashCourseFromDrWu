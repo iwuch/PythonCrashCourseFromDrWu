{
 "cells": [
  {
   "cell_type": "code",
   "execution_count": 7,
   "metadata": {},
   "outputs": [
    {
     "name": "stdout",
     "output_type": "stream",
     "text": [
      "passage:320\n",
      "meaning:313\n",
      "closest:306\n",
      "their:250\n",
      "which:227\n",
      "following:206\n",
      "other:152\n",
      "According:146\n",
      "species:118\n",
      "century:118\n",
      "about:117\n",
      "United:115\n",
      "States:111\n",
      "author:104\n",
      "PASSAGE:100\n",
      "between:96\n",
      "refers:92\n",
      "large:92\n",
      "American:90\n",
      "people:89\n",
      "cities:86\n",
      "water:83\n",
      "Which:82\n",
      "mainly:82\n",
      "Earth:75\n",
      "first:74\n",
      "important:73\n",
      "early:72\n",
      "these:72\n",
      "animals:68\n",
      "different:67\n",
      "discuss:67\n",
      "paragraph:65\n",
      "development:65\n",
      "inferred:62\n",
      "during:61\n",
      "nineteenth:60\n",
      "because:60\n",
      "small:60\n",
      "years:59\n",
      "mentions:57\n",
      "North:57\n",
      "became:56\n",
      "EXCEPT:56\n",
      "found:54\n",
      "example:54\n",
      "there:53\n",
      "often:52\n",
      "glass:52\n",
      "artists:51\n"
     ]
    }
   ],
   "source": [
    "from genwc import *\n",
    "filepath = \"./books/\"\n",
    "filename = \"toefl100.txt\"\n",
    "titlename = \"toefl\"\n",
    "stopwords =['little','again','herself','could','would','There','thought',\n",
    "            'The','And','You','What','She','But','March','according','united','states'\n",
    "           ]\n",
    "wordslen = 50\n",
    "iscsv = True\n",
    "istitle = False\n",
    "generateWordCloud(filepath,filename,titlename,stopwords,wordslen,iscsv,istitle)"
   ]
  },
  {
   "cell_type": "code",
   "execution_count": null,
   "metadata": {},
   "outputs": [],
   "source": []
  },
  {
   "cell_type": "code",
   "execution_count": null,
   "metadata": {},
   "outputs": [],
   "source": []
  }
 ],
 "metadata": {
  "kernelspec": {
   "display_name": "Python 3",
   "language": "python",
   "name": "python3"
  },
  "language_info": {
   "codemirror_mode": {
    "name": "ipython",
    "version": 3
   },
   "file_extension": ".py",
   "mimetype": "text/x-python",
   "name": "python",
   "nbconvert_exporter": "python",
   "pygments_lexer": "ipython3",
   "version": "3.6.5"
  }
 },
 "nbformat": 4,
 "nbformat_minor": 4
}
