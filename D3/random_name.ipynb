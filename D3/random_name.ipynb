{
 "cells": [
  {
   "cell_type": "code",
   "execution_count": 4,
   "metadata": {},
   "outputs": [],
   "source": [
    "from random import sample,randint\n",
    "from names import givenames,surnames"
   ]
  },
  {
   "cell_type": "code",
   "execution_count": 5,
   "metadata": {},
   "outputs": [],
   "source": [
    "def generate_name(surname=None):\n",
    "    '''\n",
    "    可以通过surname来指定姓氏\n",
    "    '''\n",
    "    names = givenames\n",
    "    #如果没有填入surname参数，则随机生成一个姓氏\n",
    "    if surname == None:\n",
    "        surname = sample(surnames,1)\n",
    "    #随机生成名字的长度，中文名要么是1个字的，要么是2个字的\n",
    "    num = randint(1,2)\n",
    "    name = sample(names,num)\n",
    "    #以下代码表示有一定的概率生成形式为ABB的名字，其中使用pabb来表示生成abb这样名字的可能性大小\n",
    "    #pabb越大，可能性越小，这个可以通过简单的数学计算推导\n",
    "    pabb = randint(0,100)\n",
    "    if pabb > 70 and num == 1:\n",
    "        name = name*2\n",
    "    print(''.join(surname+name))"
   ]
  },
  {
   "cell_type": "code",
   "execution_count": 6,
   "metadata": {},
   "outputs": [
    {
     "name": "stdout",
     "output_type": "stream",
     "text": [
      "随机创作十名少侠的名字：\n",
      "温彤晴\n",
      "戴倩\n",
      "南门雄雄\n",
      "穆嘉明\n",
      "欧阳淳卿\n",
      "顾尧\n",
      "任鸿卿\n",
      "红静孜\n",
      "闻哲\n",
      "公西彤若\n"
     ]
    }
   ],
   "source": [
    "print('随机创作十名少侠的名字：')\n",
    "for i in range(10):\n",
    "    generate_name()"
   ]
  },
  {
   "cell_type": "code",
   "execution_count": 5,
   "metadata": {
    "collapsed": true,
    "jupyter": {
     "outputs_hidden": true
    }
   },
   "outputs": [
    {
     "name": "stdout",
     "output_type": "stream",
     "text": [
      "随机创作十名何姓的少侠：\n",
      "何沂沂\n",
      "何冰婕\n",
      "何彤\n",
      "何晨\n",
      "何毅鸿\n",
      "何伊伊\n",
      "何文明\n",
      "何惠\n",
      "何菁\n",
      "何洁妤\n"
     ]
    }
   ],
   "source": [
    "print('随机创作十名何姓的少侠：')\n",
    "surname = [\"何\"]\n",
    "for i in range(10):\n",
    "    generate_name(surname)"
   ]
  },
  {
   "cell_type": "code",
   "execution_count": null,
   "metadata": {},
   "outputs": [],
   "source": []
  }
 ],
 "metadata": {
  "kernelspec": {
   "display_name": "Python 3",
   "language": "python",
   "name": "python3"
  },
  "language_info": {
   "codemirror_mode": {
    "name": "ipython",
    "version": 3
   },
   "file_extension": ".py",
   "mimetype": "text/x-python",
   "name": "python",
   "nbconvert_exporter": "python",
   "pygments_lexer": "ipython3",
   "version": "3.6.5"
  }
 },
 "nbformat": 4,
 "nbformat_minor": 4
}
