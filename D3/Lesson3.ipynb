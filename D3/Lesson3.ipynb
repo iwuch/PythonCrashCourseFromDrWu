{
 "cells": [
  {
   "cell_type": "code",
   "execution_count": 46,
   "metadata": {},
   "outputs": [
    {
     "name": "stdout",
     "output_type": "stream",
     "text": [
      "['lilei', 18, 'class01', 201901]\n",
      "['hanmeimei', 19, 'class02', 201902]\n"
     ]
    }
   ],
   "source": [
    "#列表的结构\n",
    "student1 = ['lilei',18,'class01',201901]\n",
    "student2 = ['hanmeimei',19,'class02',201902]\n",
    "print(student1)\n",
    "print(student2)"
   ]
  },
  {
   "cell_type": "code",
   "execution_count": 43,
   "metadata": {},
   "outputs": [
    {
     "data": {
      "text/plain": [
       "['H', 'e', 'l', 'l', 'o']"
      ]
     },
     "execution_count": 43,
     "metadata": {},
     "output_type": "execute_result"
    }
   ],
   "source": [
    "#字符串的列表化\n",
    "list(\"Hello\")"
   ]
  },
  {
   "cell_type": "code",
   "execution_count": 47,
   "metadata": {},
   "outputs": [
    {
     "name": "stdout",
     "output_type": "stream",
     "text": [
      "98\n",
      "178\n"
     ]
    }
   ],
   "source": [
    "grade = [98,99,95,80]\n",
    "#获取列表中的某个元素\n",
    "#列表中的索引从0开始\n",
    "print(grade[0])\n",
    "print(grade[0]+grade[3])"
   ]
  },
  {
   "cell_type": "code",
   "execution_count": 49,
   "metadata": {},
   "outputs": [
    {
     "name": "stdout",
     "output_type": "stream",
     "text": [
      "[2, 3, 4, 5]\n"
     ]
    }
   ],
   "source": [
    "#列表的切片\n",
    "numbers = [0,1,2,3,4,5,6,7,8,9]\n",
    "print(numbers[2:6])"
   ]
  },
  {
   "cell_type": "code",
   "execution_count": 52,
   "metadata": {},
   "outputs": [
    {
     "name": "stdout",
     "output_type": "stream",
     "text": [
      "['P', 'y', 't', 'h', 'o', 'n']\n",
      "['P', 'y', 'a', 'b', 'c']\n"
     ]
    }
   ],
   "source": [
    "#字符串列表的切片赋值\n",
    "name = list(\"Python\")\n",
    "print(name)\n",
    "name[2:] = list(\"abc\")\n",
    "print(name)"
   ]
  },
  {
   "cell_type": "code",
   "execution_count": 55,
   "metadata": {},
   "outputs": [
    {
     "name": "stdout",
     "output_type": "stream",
     "text": [
      "[1, 2, 3, 4, 5]\n",
      "[1, 5]\n"
     ]
    }
   ],
   "source": [
    "#数值列表的切片赋值\n",
    "numbers = [1,5]\n",
    "numbers[1:1] = [2,3,4]\n",
    "print(numbers)\n",
    "numbers[1:4] = []\n",
    "print(numbers)"
   ]
  },
  {
   "cell_type": "code",
   "execution_count": 57,
   "metadata": {},
   "outputs": [
    {
     "name": "stdout",
     "output_type": "stream",
     "text": [
      "3\n"
     ]
    }
   ],
   "source": [
    "#获取列表的长度\n",
    "students = ['李雷','韩梅梅','马冬梅']\n",
    "print(len(students))"
   ]
  },
  {
   "cell_type": "code",
   "execution_count": 59,
   "metadata": {},
   "outputs": [
    {
     "name": "stdout",
     "output_type": "stream",
     "text": [
      "['lilei', 'hanmeimei']\n"
     ]
    }
   ],
   "source": [
    "#修改列表中的元素\n",
    "name = [\"lilei\",\"hanmeimei\"]\n",
    "print(name)\n",
    "name[0] = \"madongmei\""
   ]
  },
  {
   "cell_type": "code",
   "execution_count": 61,
   "metadata": {},
   "outputs": [
    {
     "name": "stdout",
     "output_type": "stream",
     "text": [
      "['钥匙', '毒药']\n",
      "['钥匙', '毒药', '解药']\n"
     ]
    }
   ],
   "source": [
    "#向列表末尾添加元素\n",
    "inventory = [\"钥匙\",\"毒药\"]\n",
    "print(inventory)\n",
    "inventory.append('解药')\n",
    "print(inventory)"
   ]
  },
  {
   "cell_type": "code",
   "execution_count": 3,
   "metadata": {},
   "outputs": [
    {
     "name": "stdout",
     "output_type": "stream",
     "text": [
      "['钥匙', '毒药'] ['铜锁', '解药']\n",
      "['钥匙', '毒药', '铜锁', '解药']\n",
      "['钥匙', '毒药'] ['铜锁', '解药', '铜锁', '解药']\n"
     ]
    }
   ],
   "source": [
    "#列表的拼接\n",
    "inventory1 = [\"钥匙\",\"毒药\"]\n",
    "inventory2 = [\"铜锁\",\"解药\"]\n",
    "print(inventory1,inventory2)\n",
    "inventory2.extend(inventory2)\n",
    "print(inventory1,inventory2)"
   ]
  },
  {
   "cell_type": "code",
   "execution_count": 5,
   "metadata": {},
   "outputs": [
    {
     "name": "stdout",
     "output_type": "stream",
     "text": [
      "[0, 1, 2, 3, 4, 5, 6, 7, 8, 9]\n"
     ]
    }
   ],
   "source": [
    "#列表的+运算实现拼接\n",
    "number1 = [0,1,2,3,4]\n",
    "number2 = [5,6,7,8,9]\n",
    "print(number1+number2)"
   ]
  },
  {
   "cell_type": "code",
   "execution_count": 6,
   "metadata": {},
   "outputs": [
    {
     "name": "stdout",
     "output_type": "stream",
     "text": [
      "['钥匙', '毒药']\n",
      "['钥匙', '万灵药', '毒药']\n"
     ]
    }
   ],
   "source": [
    "inventory = [\"钥匙\",\"毒药\"]\n",
    "print(inventory)\n",
    "inventory.insert(1,\"万灵药\")\n",
    "print(inventory)"
   ]
  },
  {
   "cell_type": "code",
   "execution_count": 7,
   "metadata": {},
   "outputs": [
    {
     "name": "stdout",
     "output_type": "stream",
     "text": [
      "['韩梅梅', '马冬梅']\n"
     ]
    }
   ],
   "source": [
    "student_list = ['李雷','韩梅梅','马冬梅']\n",
    "del student_list[0]\n",
    "print(student_list)"
   ]
  },
  {
   "cell_type": "code",
   "execution_count": 8,
   "metadata": {},
   "outputs": [
    {
     "name": "stdout",
     "output_type": "stream",
     "text": [
      "['韩梅梅', '马冬梅']\n"
     ]
    }
   ],
   "source": [
    "#删除列表元素\n",
    "student_list = ['李雷','韩梅梅','马冬梅']\n",
    "del student_list[0]\n",
    "print(student_list)"
   ]
  },
  {
   "cell_type": "code",
   "execution_count": 9,
   "metadata": {},
   "outputs": [
    {
     "name": "stdout",
     "output_type": "stream",
     "text": [
      "Yes\n"
     ]
    }
   ],
   "source": [
    "#判断某个元素是否在列表中\n",
    "inventory = ['钥匙','毒药','解药']\n",
    "if '解药' in inventory:\n",
    "    print(\"Yes\")\n",
    "else:\n",
    "    print(\"No\")"
   ]
  },
  {
   "cell_type": "code",
   "execution_count": 11,
   "metadata": {},
   "outputs": [
    {
     "name": "stdout",
     "output_type": "stream",
     "text": [
      "3\n"
     ]
    }
   ],
   "source": [
    "#获取列表中某个元素的重复次数\n",
    "numbers1 = [0,1,1,2,3,4,1]\n",
    "print(numbers1.count(1))"
   ]
  },
  {
   "cell_type": "code",
   "execution_count": 12,
   "metadata": {},
   "outputs": [
    {
     "name": "stdout",
     "output_type": "stream",
     "text": [
      "1\n"
     ]
    }
   ],
   "source": [
    "#获取列表中某个元素第一次出现的位置\n",
    "numbers1 = [0,1,1,2,3,4,1]\n",
    "print(number1.index(1))"
   ]
  },
  {
   "cell_type": "code",
   "execution_count": 1,
   "metadata": {},
   "outputs": [
    {
     "name": "stdout",
     "output_type": "stream",
     "text": [
      "[6, 5, 4, 3, 2, 1]\n"
     ]
    }
   ],
   "source": [
    "#永久排序\n",
    "test_list = [3,2,6,5,4,1]\n",
    "#reverse参数表示是否为降序排序\n",
    "test_list.sort(reverse = True)\n",
    "print(test_list)"
   ]
  },
  {
   "cell_type": "code",
   "execution_count": 2,
   "metadata": {},
   "outputs": [
    {
     "name": "stdout",
     "output_type": "stream",
     "text": [
      "[6, 5, 4, 3, 2, 1]\n",
      "[3, 2, 6, 5, 4, 1]\n"
     ]
    }
   ],
   "source": [
    "#sorted函数不改变原来列表的顺序，而返回一个新的列表\n",
    "test_list = [3,2,6,5,4,1]\n",
    "print(sorted(test_list,reverse=True))\n",
    "print(test_list)"
   ]
  },
  {
   "cell_type": "code",
   "execution_count": 10,
   "metadata": {},
   "outputs": [
    {
     "name": "stdout",
     "output_type": "stream",
     "text": [
      "['8', '2', '6', '5', '4', '9', '3', '7', '1']\n"
     ]
    }
   ],
   "source": [
    "#将一串字符串’132569874‘转换成列表并将其输出；\n",
    "#对其中偶数下标的元素进行降序排列，奇数下标的元素不变。\n",
    "test_str = '123569874'\n",
    "str_list = list(test_str)\n",
    "even_str = str_list[::2]\n",
    "even_str.sort(reverse=True)\n",
    "str_list[::2] = even_str\n",
    "print(str_list)"
   ]
  },
  {
   "cell_type": "code",
   "execution_count": 14,
   "metadata": {},
   "outputs": [
    {
     "name": "stdout",
     "output_type": "stream",
     "text": [
      "[1, 'hanmeimei', 18]\n",
      "(2, 'lilei', 19)\n",
      "19\n",
      "(2, 'lilei')\n"
     ]
    }
   ],
   "source": [
    "#列表v.s.元组\n",
    "a = [1,'hanmeimei',18]\n",
    "b = (2,'lilei',19)\n",
    "print(a)\n",
    "print(b)\n",
    "print(b[2])\n",
    "print(b[0:2])"
   ]
  },
  {
   "cell_type": "code",
   "execution_count": 17,
   "metadata": {},
   "outputs": [
    {
     "name": "stdout",
     "output_type": "stream",
     "text": [
      "李雷？到！\n",
      "韩梅梅？到！\n",
      "马冬梅？到！\n"
     ]
    }
   ],
   "source": [
    "#使用for循环来遍历字符串列表\n",
    "students = [\"李雷\",\"韩梅梅\",\"马冬梅\"]\n",
    "for student in students:\n",
    "    print(f\"{student}？到！\")"
   ]
  },
  {
   "cell_type": "code",
   "execution_count": 22,
   "metadata": {},
   "outputs": [
    {
     "name": "stdout",
     "output_type": "stream",
     "text": [
      "0\n",
      "1\n",
      "2\n",
      "3\n",
      "4\n",
      "5\n",
      "6\n",
      "7\n",
      "8\n",
      "9\n",
      "**********\n",
      "0\n",
      "2\n",
      "4\n",
      "6\n",
      "8\n"
     ]
    }
   ],
   "source": [
    "#使用for循环来遍历等差数列\n",
    "for i in range(10):\n",
    "    print(i)\n",
    "print(\"*\"*10)\n",
    "for i in range(0,10,2):\n",
    "    print(i)"
   ]
  },
  {
   "cell_type": "code",
   "execution_count": 24,
   "metadata": {},
   "outputs": [
    {
     "name": "stdout",
     "output_type": "stream",
     "text": [
      "[0, 1, 2, 3, 4, 5, 6, 7, 8, 9]\n",
      "[0, 1, 2, 3, 4, 5, 6, 7, 8, 9]\n"
     ]
    }
   ],
   "source": [
    "#使用列表生成式（推导式）\n",
    "lst = []\n",
    "for i in range(10):\n",
    "    lst.append(i)\n",
    "print(lst)\n",
    "print([i for i in range(10)])"
   ]
  },
  {
   "cell_type": "code",
   "execution_count": 25,
   "metadata": {},
   "outputs": [
    {
     "name": "stdout",
     "output_type": "stream",
     "text": [
      "5\n",
      "3\n",
      "5\n",
      "False\n"
     ]
    }
   ],
   "source": [
    "#布尔表达式的返回值\n",
    "print(3 and 5)\n",
    "print(3 or 5)\n",
    "print(0 or 5)\n",
    "print(3 and not 5)"
   ]
  },
  {
   "cell_type": "code",
   "execution_count": 29,
   "metadata": {},
   "outputs": [
    {
     "name": "stdout",
     "output_type": "stream",
     "text": [
      "Adding mushroom.\n",
      "Sorry, we don't have french fries\n",
      "Adding extra cheese.\n",
      "Finish making your Pizza\n"
     ]
    }
   ],
   "source": [
    "availables = [\"mushroom\",\"olives\",\"green peppers\",\n",
    "             \"pepperoni\",\"pineapple\",\"extra cheese\"]\n",
    "requests = [\"mushroom\",\"french fries\",\"extra cheese\"]\n",
    "for request in requests:\n",
    "    if request in availables:\n",
    "        print(f\"Adding {request}.\")\n",
    "    else:\n",
    "        print(f\"Sorry, we don't have {request}\")\n",
    "print(\"Finish making your Pizza\")"
   ]
  },
  {
   "cell_type": "code",
   "execution_count": 5,
   "metadata": {},
   "outputs": [
    {
     "name": "stdout",
     "output_type": "stream",
     "text": [
      "1234\n"
     ]
    }
   ],
   "source": [
    "#使用列表来查询电话号码\n",
    "names = [\"李雷\",\"韩梅梅\",\"马冬梅\"]\n",
    "phones = [\"1234\",\"3456\",\"0123\"]\n",
    "print(phones[names.index(\"李雷\")])"
   ]
  },
  {
   "cell_type": "code",
   "execution_count": 6,
   "metadata": {},
   "outputs": [
    {
     "name": "stdout",
     "output_type": "stream",
     "text": [
      "1234\n"
     ]
    }
   ],
   "source": [
    "#使用字典来查询电话号码\n",
    "phone_numbers = {\"李雷\":\"1234\",\"韩梅梅\":\"3456\",\"马冬梅\":\"0123\"}\n",
    "print(phone_numbers[\"李雷\"])"
   ]
  },
  {
   "cell_type": "code",
   "execution_count": 14,
   "metadata": {},
   "outputs": [],
   "source": [
    "#字典的键是不可变的hashable/immutable\n",
    "dictionary = {\n",
    "    1:\"one\",\n",
    "    \"1\":\"two\",\n",
    "    (1,1):\"Three\",\n",
    "#     [1,1]:\"Four\",\n",
    "#     {1:1}:\"Five\",\n",
    "}"
   ]
  },
  {
   "cell_type": "code",
   "execution_count": 36,
   "metadata": {},
   "outputs": [],
   "source": [
    "#通过花括号来创建字典\n",
    "d = {\n",
    "    \"lilei\":98,\n",
    "    \"hanmeimei\":99\n",
    "}"
   ]
  },
  {
   "cell_type": "code",
   "execution_count": 20,
   "metadata": {},
   "outputs": [
    {
     "name": "stdout",
     "output_type": "stream",
     "text": [
      "{'lilei': 98, 'hanmeimei': 99}\n"
     ]
    }
   ],
   "source": [
    "# 如果之前自定义了dict，需要通过del dict来删除自定义内容\n",
    "# 通过元组对列表来创建字典\n",
    "message = [(\"lilei\",98),(\"hanmeimei\",99)]\n",
    "d = dict(message)\n",
    "print(d)"
   ]
  },
  {
   "cell_type": "code",
   "execution_count": 21,
   "metadata": {},
   "outputs": [
    {
     "name": "stdout",
     "output_type": "stream",
     "text": [
      "{'lilei': 98, 'hanmeimei': 99}\n"
     ]
    }
   ],
   "source": [
    "#通过关键词参数来通过dict创建\n",
    "d = dict(lilei = 98, hanmeimei = 99)\n",
    "print(d)"
   ]
  },
  {
   "cell_type": "code",
   "execution_count": 23,
   "metadata": {},
   "outputs": [
    {
     "name": "stdout",
     "output_type": "stream",
     "text": [
      "98\n",
      "99\n"
     ]
    }
   ],
   "source": [
    "#访问字典中的元素\n",
    "grade = {\"李雷\":'98',\"韩梅梅\":\"99\"}\n",
    "print(grade[\"李雷\"])\n",
    "print(grade.__getitem__(\"韩梅梅\"))"
   ]
  },
  {
   "cell_type": "code",
   "execution_count": 26,
   "metadata": {},
   "outputs": [
    {
     "data": {
      "text/plain": [
       "{'李雷': 97, '韩梅梅': 100, '马冬梅': 99}"
      ]
     },
     "execution_count": 26,
     "metadata": {},
     "output_type": "execute_result"
    }
   ],
   "source": [
    "#更新字典中的元素\n",
    "grade = {\"李雷\":'98',\"韩梅梅\":\"99\"}\n",
    "grade[\"马冬梅\"] = 99\n",
    "grade[\"韩梅梅\"] = 100\n",
    "grade.__setitem__(\"李雷\",97)\n",
    "grade"
   ]
  },
  {
   "cell_type": "code",
   "execution_count": 34,
   "metadata": {},
   "outputs": [
    {
     "name": "stdout",
     "output_type": "stream",
     "text": [
      "{'韩梅梅': '99'}\n"
     ]
    },
    {
     "data": {
      "text/plain": [
       "{'韩梅梅': '99'}"
      ]
     },
     "execution_count": 34,
     "metadata": {},
     "output_type": "execute_result"
    }
   ],
   "source": [
    "#字典中的删除操作\n",
    "grade = {\"李雷\":'98',\"韩梅梅\":\"99\",\"马冬梅\":\"100\"}\n",
    "del grade[\"李雷\"]\n",
    "grade.__delitem__(\"马冬梅\")\n",
    "print(grade)\n",
    "# del grade\n",
    "grade"
   ]
  },
  {
   "cell_type": "code",
   "execution_count": 40,
   "metadata": {},
   "outputs": [],
   "source": [
    "#创建一个最喜欢语言的列表\n",
    "favorite_languages = {\n",
    "    'jen':'python',\n",
    "    'sarah':'c',\n",
    "    'edward':'ruby',\n",
    "    'phil':'python'\n",
    "}"
   ]
  },
  {
   "cell_type": "code",
   "execution_count": 41,
   "metadata": {},
   "outputs": [
    {
     "name": "stdout",
     "output_type": "stream",
     "text": [
      "Jen\n",
      "Sarah\n",
      "Edward\n",
      "Phil\n"
     ]
    }
   ],
   "source": [
    "#遍历键key\n",
    "for friend in favorite_languages:\n",
    "    print(friend.title())"
   ]
  },
  {
   "cell_type": "code",
   "execution_count": 42,
   "metadata": {},
   "outputs": [
    {
     "name": "stdout",
     "output_type": "stream",
     "text": [
      "python\n",
      "c\n",
      "ruby\n",
      "python\n"
     ]
    }
   ],
   "source": [
    "#遍历值value\n",
    "for language in favorite_languages.values():\n",
    "    print(language)"
   ]
  },
  {
   "cell_type": "code",
   "execution_count": 44,
   "metadata": {},
   "outputs": [
    {
     "name": "stdout",
     "output_type": "stream",
     "text": [
      "('jen', 'python')\n",
      "('sarah', 'c')\n",
      "('edward', 'ruby')\n",
      "('phil', 'python')\n"
     ]
    }
   ],
   "source": [
    "#遍历每一项item\n",
    "for item in favorite_languages.items():\n",
    "    print(item)"
   ]
  },
  {
   "cell_type": "code",
   "execution_count": 46,
   "metadata": {},
   "outputs": [
    {
     "data": {
      "text/plain": [
       "[{'name': '李雷', 'age': 18, 'grade': 98},\n",
       " {'name': '韩梅梅', 'age': 19, 'grade': 99},\n",
       " {'name': '马冬梅', 'age': 18, 'grade': 95}]"
      ]
     },
     "execution_count": 46,
     "metadata": {},
     "output_type": "execute_result"
    }
   ],
   "source": [
    "#字典列表\n",
    "student1 = {'name':'李雷','age':18,'grade':98}\n",
    "student2 = {'name':'韩梅梅','age':19,'grade':99}\n",
    "student3 = {'name':'马冬梅','age':18,'grade':95}\n",
    "students = [student1,student2,student3]\n",
    "students"
   ]
  },
  {
   "cell_type": "code",
   "execution_count": 49,
   "metadata": {},
   "outputs": [
    {
     "name": "stdout",
     "output_type": "stream",
     "text": [
      "['数学', '英语']\n",
      "数学\n"
     ]
    }
   ],
   "source": [
    "#列表作为字典的值\n",
    "favorite_classes = {\n",
    "    '李雷':['数学','英语'],\n",
    "    '韩梅梅':['语文'],\n",
    "    '马冬梅':['计算机','物理','数学'],\n",
    "}\n",
    "print(favorite_classes['李雷'])\n",
    "print(favorite_classes['李雷'][0])"
   ]
  },
  {
   "cell_type": "code",
   "execution_count": 51,
   "metadata": {},
   "outputs": [
    {
     "name": "stdout",
     "output_type": "stream",
     "text": [
      "{'成绩': 98, '实验班': True}\n",
      "98\n"
     ]
    }
   ],
   "source": [
    "#字典作为字典的值\n",
    "class1 = {\n",
    "    '李雷':{'成绩':98,'实验班':True},\n",
    "    '韩梅梅':{'成绩':95,'实验班':False}\n",
    "}\n",
    "print(class1['李雷'])\n",
    "print(class1['李雷']['成绩'])"
   ]
  },
  {
   "cell_type": "code",
   "execution_count": 82,
   "metadata": {},
   "outputs": [
    {
     "name": "stdout",
     "output_type": "stream",
     "text": [
      "a 2\n",
      "b 5\n",
      "c 3\n"
     ]
    }
   ],
   "source": [
    "#字典的排序\n",
    "d = {\n",
    "    'a':2,\n",
    "    'b':5,\n",
    "    'c':3\n",
    "}\n",
    "for k in sorted(d.keys()):\n",
    "    print(k,d[k])"
   ]
  },
  {
   "cell_type": "code",
   "execution_count": 83,
   "metadata": {},
   "outputs": [
    {
     "name": "stdout",
     "output_type": "stream",
     "text": [
      "b 5\n",
      "c 3\n",
      "a 2\n"
     ]
    }
   ],
   "source": [
    "#以d.__getitem__作为评价指标对字典d进行排序\n",
    "for k in sorted(d,key=d.__getitem__,reverse=True):\n",
    "    print(k,d[k])"
   ]
  },
  {
   "cell_type": "code",
   "execution_count": 84,
   "metadata": {},
   "outputs": [
    {
     "name": "stdout",
     "output_type": "stream",
     "text": [
      "b 5\n",
      "c 3\n",
      "a 2\n"
     ]
    }
   ],
   "source": [
    "#以d.get作为评价指标对字典d进行排序\n",
    "for k in sorted(d,key=d.get,reverse=True):\n",
    "    print(k,d[k])"
   ]
  },
  {
   "cell_type": "code",
   "execution_count": 86,
   "metadata": {},
   "outputs": [
    {
     "name": "stdout",
     "output_type": "stream",
     "text": [
      "[('b', 5), ('c', 3), ('a', 2)]\n"
     ]
    }
   ],
   "source": [
    "#对d.items()进行排序，排序的指标是元组的第1号位\n",
    "#此处我们使用了lambda表达式来表示匿名函数\n",
    "res = sorted(d.items(),key = lambda d:d[1],reverse = True)\n",
    "print(res)"
   ]
  },
  {
   "cell_type": "code",
   "execution_count": 88,
   "metadata": {},
   "outputs": [
    {
     "name": "stdout",
     "output_type": "stream",
     "text": [
      "[('b', 5), ('c', 3), ('a', 2)]\n"
     ]
    }
   ],
   "source": [
    "#我们也可以显性地把函数定义好之后实现上述功能\n",
    "def get_value(d):\n",
    "    return d[1]\n",
    "res = sorted(d.items(),key=get_value,reverse =True)\n",
    "print(res)"
   ]
  },
  {
   "cell_type": "code",
   "execution_count": 92,
   "metadata": {},
   "outputs": [
    {
     "name": "stdout",
     "output_type": "stream",
     "text": [
      "{1, 2, 3, 5, 9}\n"
     ]
    }
   ],
   "source": [
    "#集合的创建\n",
    "set1 = {1,9,3,2,5}\n",
    "print(set1)"
   ]
  },
  {
   "cell_type": "code",
   "execution_count": 93,
   "metadata": {},
   "outputs": [
    {
     "name": "stdout",
     "output_type": "stream",
     "text": [
      "{1, 2, 4, 5, 8}\n"
     ]
    }
   ],
   "source": [
    "#列表的集合化,注意务必使用set函数\n",
    "set2 = set([1,2,4,1,2,8,5,5])\n",
    "print(set2)"
   ]
  },
  {
   "cell_type": "code",
   "execution_count": 99,
   "metadata": {},
   "outputs": [
    {
     "name": "stdout",
     "output_type": "stream",
     "text": [
      "{1, 2, 5}\n",
      "{1, 2, 3, 4, 5, 8, 9}\n",
      "{9, 3}\n",
      "{8, 4}\n",
      "{3, 4, 8, 9}\n"
     ]
    }
   ],
   "source": [
    "#求集合的交集/并集/差集/对称差集\n",
    "print(set1 & set2)\n",
    "print(set1 | set2)\n",
    "print(set1 - set2)\n",
    "print(set2 - set1)\n",
    "print(set1 ^ set2)"
   ]
  },
  {
   "cell_type": "code",
   "execution_count": null,
   "metadata": {},
   "outputs": [],
   "source": []
  }
 ],
 "metadata": {
  "kernelspec": {
   "display_name": "Python 3",
   "language": "python",
   "name": "python3"
  },
  "language_info": {
   "codemirror_mode": {
    "name": "ipython",
    "version": 3
   },
   "file_extension": ".py",
   "mimetype": "text/x-python",
   "name": "python",
   "nbconvert_exporter": "python",
   "pygments_lexer": "ipython3",
   "version": "3.6.5"
  }
 },
 "nbformat": 4,
 "nbformat_minor": 4
}
