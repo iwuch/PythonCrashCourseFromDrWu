{
 "cells": [
  {
   "cell_type": "code",
   "execution_count": 1,
   "metadata": {
    "uuid": "506d8563-1c49-483b-924a-d0b2fb82b4c8"
   },
   "outputs": [
    {
     "name": "stdout",
     "output_type": "stream",
     "text": [
      "It takes 94.23065185546875ms to do 1M multiplications using the builtin list\n"
     ]
    }
   ],
   "source": [
    "#使用time模块计时计算用原生列表进行100万次乘法的时间\n",
    "import numpy as np\n",
    "import time\n",
    "start = time.time()\n",
    "lst = list(range(int(1e6)))\n",
    "arr = [n*5 for n in lst]\n",
    "end = time.time()\n",
    "print(f\"It takes {(end-start)*1000}ms to do 1M multiplications using the builtin list\")"
   ]
  },
  {
   "cell_type": "code",
   "execution_count": 2,
   "metadata": {
    "uuid": "b682dd5e-a01e-4900-bcdc-0b1f4cac35cb"
   },
   "outputs": [
    {
     "name": "stdout",
     "output_type": "stream",
     "text": [
      "It takes 21.153688430786133ms to do 1M multiplications using the numpy array\n"
     ]
    }
   ],
   "source": [
    "#使用time模块计时计算用np数组进行100万次乘法的时间\n",
    "import numpy as np\n",
    "import time\n",
    "start = time.time()\n",
    "arr = np.arange(1e6)\n",
    "arr = arr*5\n",
    "end = time.time()\n",
    "print(f\"It takes {(end-start)*1000}ms to do 1M multiplications using the numpy array\")"
   ]
  },
  {
   "cell_type": "code",
   "execution_count": 3,
   "metadata": {
    "uuid": "c3351c04-88df-4e4f-b57a-51d0b3b21ecf"
   },
   "outputs": [
    {
     "name": "stdout",
     "output_type": "stream",
     "text": [
      "[1 2 3 4 5]\n",
      "<class 'numpy.ndarray'>\n"
     ]
    }
   ],
   "source": [
    "#使用列表作为np.array()方法的参数初始化一个数组\n",
    "import numpy as np\n",
    "data = np.array([1,2,3,4,5])\n",
    "print(data)\n",
    "print(type(data))"
   ]
  },
  {
   "cell_type": "code",
   "execution_count": 4,
   "metadata": {
    "uuid": "a4b1667f-7a69-49f3-b2f3-1209ef55dcdd"
   },
   "outputs": [
    {
     "name": "stdout",
     "output_type": "stream",
     "text": [
      "[[1 2 3]\n",
      " [4 5 6]]\n",
      "2\n",
      "(2, 3)\n"
     ]
    }
   ],
   "source": [
    "#创建np二维数组\n",
    "import numpy as np\n",
    "data = np.array([\n",
    "    [1,2,3],\n",
    "    [4,5,6]\n",
    "])\n",
    "print(data)\n",
    "#使用ndim属性查看数组的维度\n",
    "print(data.ndim)\n",
    "#使用shape查看数组各维度上的长度\n",
    "print(data.shape)"
   ]
  },
  {
   "cell_type": "code",
   "execution_count": 5,
   "metadata": {
    "uuid": "723d25eb-54c2-433a-971f-d53ee1f9f0eb"
   },
   "outputs": [
    {
     "name": "stdout",
     "output_type": "stream",
     "text": [
      "[0. 0. 0. 0. 0. 0. 0. 0. 0. 0.]\n"
     ]
    }
   ],
   "source": [
    "#使用zeros创建全零数组\n",
    "data = np.zeros(10)\n",
    "print(data)"
   ]
  },
  {
   "cell_type": "code",
   "execution_count": 6,
   "metadata": {
    "uuid": "f7a85897-dee4-4f52-a44f-8c1615331fde"
   },
   "outputs": [
    {
     "name": "stdout",
     "output_type": "stream",
     "text": [
      "[[1. 1. 1. 1. 1. 1. 1. 1. 1. 1.]\n",
      " [1. 1. 1. 1. 1. 1. 1. 1. 1. 1.]\n",
      " [1. 1. 1. 1. 1. 1. 1. 1. 1. 1.]]\n"
     ]
    }
   ],
   "source": [
    "#使用ones创建全1数组\n",
    "data = np.ones((3,10))\n",
    "print(data)"
   ]
  },
  {
   "cell_type": "code",
   "execution_count": 7,
   "metadata": {
    "uuid": "9b8da644-ee10-42b0-b86f-2aafd959e6d1"
   },
   "outputs": [
    {
     "name": "stdout",
     "output_type": "stream",
     "text": [
      "5\n"
     ]
    }
   ],
   "source": [
    "#通过索引的方式获取数组中的某个数字\n",
    "data = np.arange(10)\n",
    "print(data[5])"
   ]
  },
  {
   "cell_type": "code",
   "execution_count": 8,
   "metadata": {
    "uuid": "d934aa25-2c51-4d61-9a04-eaca06e4f82a"
   },
   "outputs": [
    {
     "name": "stdout",
     "output_type": "stream",
     "text": [
      "[3 5]\n"
     ]
    }
   ],
   "source": [
    "#通过切片来获取数组中的连续数字\n",
    "data = np.arange(10)\n",
    "print(data[3:6:2])\n",
    "#切片的参数规则start:end:step"
   ]
  },
  {
   "cell_type": "code",
   "execution_count": 9,
   "metadata": {
    "uuid": "0f2532a9-f374-4e01-a4ab-277ff1cb5582"
   },
   "outputs": [
    {
     "name": "stdout",
     "output_type": "stream",
     "text": [
      "[  0   1 100   3   4   5   6   7   8   9]\n"
     ]
    }
   ],
   "source": [
    "#在使用切片的时候会影响原来的数组\n",
    "data = np.arange(10)\n",
    "data_slice = data\n",
    "data_slice[2] = 100\n",
    "print(data)"
   ]
  },
  {
   "cell_type": "code",
   "execution_count": 10,
   "metadata": {
    "uuid": "82de5c0c-cdb2-4eb6-9bd2-39f469142d5d"
   },
   "outputs": [
    {
     "name": "stdout",
     "output_type": "stream",
     "text": [
      "[0 1 2 3 4 5 6 7 8 9]\n"
     ]
    }
   ],
   "source": [
    "#使用copy函数来避免修改原始数据\n",
    "data = np.arange(10)\n",
    "data_slice = data.copy()\n",
    "data_slice[2] = 100\n",
    "print(data)"
   ]
  },
  {
   "cell_type": "code",
   "execution_count": 11,
   "metadata": {
    "uuid": "a42769fc-8dda-4e2f-837a-a5e167690bf5"
   },
   "outputs": [
    {
     "name": "stdout",
     "output_type": "stream",
     "text": [
      "[[0 1 2 3 4]\n",
      " [5 6 7 8 9]]\n"
     ]
    }
   ],
   "source": [
    "#使用reshape函数变换数组的维度\n",
    "data = np.arange(10)\n",
    "print(data.reshape((2,5)))"
   ]
  },
  {
   "cell_type": "code",
   "execution_count": 12,
   "metadata": {
    "uuid": "5f5896c0-f82b-4347-8c2b-0af49363dbd5"
   },
   "outputs": [
    {
     "name": "stdout",
     "output_type": "stream",
     "text": [
      "[[0 1 2 3 4]\n",
      " [5 6 7 8 9]]\n",
      "[[0 5]\n",
      " [1 6]\n",
      " [2 7]\n",
      " [3 8]\n",
      " [4 9]]\n"
     ]
    }
   ],
   "source": [
    "#使用.T来进行转置变换\n",
    "data = np.arange(10)\n",
    "data1 = data.reshape((2,5))\n",
    "print(data1)\n",
    "data2 = data1.T\n",
    "print(data2)"
   ]
  },
  {
   "cell_type": "code",
   "execution_count": 13,
   "metadata": {
    "uuid": "8dd2377b-feac-4b2f-9aea-697a62c0bc62"
   },
   "outputs": [
    {
     "name": "stdout",
     "output_type": "stream",
     "text": [
      "[0.         1.         1.41421356 1.73205081 2.         2.23606798\n",
      " 2.44948974 2.64575131 2.82842712 3.        ]\n",
      "[0 1 2 3 4 5 6 7 8 9]\n",
      "[ 0  1  4  9 16 25 36 49 64 81]\n",
      "[1.00000000e+00 2.71828183e+00 7.38905610e+00 2.00855369e+01\n",
      " 5.45981500e+01 1.48413159e+02 4.03428793e+02 1.09663316e+03\n",
      " 2.98095799e+03 8.10308393e+03]\n",
      "[0 1 1 1 1 1 1 1 1 1]\n",
      "[0. 1. 2. 3. 4. 5. 6. 7. 8. 9.]\n",
      "[0. 1. 2. 3. 4. 5. 6. 7. 8. 9.]\n",
      "[0 1 2 3 4 5 6 7 8 9]\n",
      "[False False False False False False False False False False]\n"
     ]
    }
   ],
   "source": [
    "#对np数组进行数学运算\n",
    "data = np.arange(10)\n",
    "print(np.sqrt(data))\n",
    "print(np.abs(data))\n",
    "print(np.square(data))\n",
    "print(np.exp(data))\n",
    "print(np.sign(data))\n",
    "print(np.ceil(data))\n",
    "print(np.floor(data))\n",
    "print(np.round(data))\n",
    "print(np.isnan(data))"
   ]
  },
  {
   "cell_type": "code",
   "execution_count": 14,
   "metadata": {
    "uuid": "7e480e50-5b09-4136-ac3f-e55c80c60493"
   },
   "outputs": [
    {
     "name": "stdout",
     "output_type": "stream",
     "text": [
      "[ 3  7 11 15 19]\n",
      "[ 3  7 11 15 19]\n",
      "[-1 -1 -1 -1 -1]\n",
      "[ 2 12 30 56 90]\n",
      "[0.5        0.75       0.83333333 0.875      0.9       ]\n",
      "[         1         81      15625    5764801 3486784401]\n",
      "[ 2  4  6  8 10]\n",
      "[1 3 5 7 9]\n"
     ]
    }
   ],
   "source": [
    "#对np数组进行二元运算\n",
    "data1 = np.array([1,3,5,7,9])\n",
    "data2 = np.array([2,4,6,8,10])\n",
    "print(data1+data2)\n",
    "print(np.add(data1,data2))\n",
    "print(np.subtract(data1,data2))\n",
    "print(np.multiply(data1,data2))\n",
    "print(np.divide(data1,data2))\n",
    "print(np.power(data1,data2))\n",
    "print(np.fmax(data1,data2))\n",
    "print(np.fmin(data1,data2))"
   ]
  },
  {
   "cell_type": "code",
   "execution_count": 15,
   "metadata": {
    "uuid": "fb053e3e-3d23-4cb9-b8d4-cdecd2d6c187"
   },
   "outputs": [
    {
     "name": "stdout",
     "output_type": "stream",
     "text": [
      "45\n",
      "4.5\n",
      "2.8722813232690143\n",
      "0\n",
      "9\n",
      "9\n",
      "0\n"
     ]
    }
   ],
   "source": [
    "data = np.arange(10)\n",
    "print(data.sum())\n",
    "print(data.mean())\n",
    "print(data.std())\n",
    "print(data.min())\n",
    "print(data.max())\n",
    "print(data.argmax())\n",
    "print(data.argmin())"
   ]
  },
  {
   "cell_type": "code",
   "execution_count": 16,
   "metadata": {
    "uuid": "db3a2950-200d-4a42-9bd6-957b954d06bd"
   },
   "outputs": [
    {
     "name": "stdout",
     "output_type": "stream",
     "text": [
      "[1 2 3 4 5 6 7 8 9]\n"
     ]
    }
   ],
   "source": [
    "data = np.array([1,9,3,2,7,4,5,6,8])\n",
    "data.sort()\n",
    "print(data)"
   ]
  },
  {
   "cell_type": "code",
   "execution_count": 17,
   "metadata": {
    "uuid": "d563b391-0b74-4ba1-a3ae-208a0a40c354"
   },
   "outputs": [
    {
     "name": "stdout",
     "output_type": "stream",
     "text": [
      "[[ 1.  2.  3.  4.  5.]\n",
      " [ 6.  7.  8.  9. 10.]\n",
      " [11. 12. 13. 14. 15.]]\n",
      "[[ 1  2  3  4  5]\n",
      " [ 6  7  8  9 10]\n",
      " [11 12 13 14 15]]\n"
     ]
    }
   ],
   "source": [
    "data = np.genfromtxt('data.txt',delimiter=\",\")\n",
    "print(data)\n",
    "print(data.astype(int))"
   ]
  },
  {
   "cell_type": "code",
   "execution_count": 18,
   "metadata": {
    "uuid": "57c3de87-806b-4b32-8907-9c201797437b"
   },
   "outputs": [
    {
     "name": "stdout",
     "output_type": "stream",
     "text": [
      "[[    1   258     5]\n",
      " [    2  4081     4]\n",
      " [    2   260     5]\n",
      " ...\n",
      " [38411  5559     4]\n",
      " [38411  6254     3]\n",
      " [12322  2205     5]]\n",
      "[4.27998767 4.35006465 3.21572006 ... 4.32352941 3.71875    4.00900901]\n"
     ]
    },
    {
     "name": "stderr",
     "output_type": "stream",
     "text": [
      "/opt/conda/lib/python3.6/site-packages/ipykernel_launcher.py:13: RuntimeWarning: invalid value encountered in true_divide\n",
      "  del sys.path[0]\n"
     ]
    }
   ],
   "source": [
    "import numpy as np\n",
    "data = np.genfromtxt(\"./data/rating.txt\",delimiter=\",\")\n",
    "data = data.astype(int)\n",
    "print(data)\n",
    "rating_sum = np.zeros(10000)\n",
    "rating_count = np.zeros(10000)\n",
    "for rating in data:\n",
    "    book_id = rating[1]\n",
    "    book_index = book_id - 1\n",
    "    book_score = rating[2]\n",
    "    rating_sum[book_index] += book_score\n",
    "    rating_count[book_index] += 1\n",
    "rating_average = rating_sum/rating_count\n",
    "np.savetxt(\"./rating_average.txt\",list(zip(list(range(1,10001)),rating_average,rating_count)),fmt=\"%8d%8.3f%8d\")\n",
    "print(rating_average)"
   ]
  },
  {
   "cell_type": "code",
   "execution_count": null,
   "metadata": {
    "uuid": "dffa1fe6-268b-4964-a4d6-ed63d48ceacd"
   },
   "outputs": [],
   "source": []
  },
  {
   "cell_type": "code",
   "execution_count": null,
   "metadata": {
    "uuid": "83d24002-d5d2-4089-8599-1e391d2a1f84"
   },
   "outputs": [],
   "source": []
  }
 ],
 "metadata": {
  "kernelspec": {
   "display_name": "Python 3",
   "language": "python",
   "name": "python3"
  },
  "language_info": {
   "codemirror_mode": {
    "name": "ipython",
    "version": 3
   },
   "file_extension": ".py",
   "mimetype": "text/x-python",
   "name": "python",
   "nbconvert_exporter": "python",
   "pygments_lexer": "ipython3",
   "version": "3.6.4"
  }
 },
 "nbformat": 4,
 "nbformat_minor": 4
}
