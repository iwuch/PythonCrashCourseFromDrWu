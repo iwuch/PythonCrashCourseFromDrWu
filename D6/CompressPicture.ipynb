{
 "cells": [
  {
   "cell_type": "code",
   "execution_count": 1,
   "metadata": {
    "uuid": "82ad6587-4536-42ae-8e62-98d194fe5a80"
   },
   "outputs": [],
   "source": [
    "#如果没有安装pillow，使用pip install进行安装\n",
    "#!pip install pillow\n",
    "import numpy as np\n",
    "from PIL import Image"
   ]
  },
  {
   "attachments": {
    "75ae5334-a326-4f75-8385-a322ea74dac3.png": {
     "image/png": "[encoded data removed]"
    }
   },
   "cell_type": "markdown",
   "metadata": {
    "uuid": "d6c91253-d821-4697-a62d-0cf7358800c4"
   },
   "source": [
    "![image.png](attachment:75ae5334-a326-4f75-8385-a322ea74dac3.png)"
   ]
  },
  {
   "cell_type": "code",
   "execution_count": 2,
   "metadata": {
    "uuid": "18c68baf-7a55-4183-957a-2ab7c73e3f01"
   },
   "outputs": [],
   "source": [
    "#图片压缩函数\n",
    "def imgCompress(channel,percent):\n",
    "    U, sigma, V_T = np.linalg.svd(channel)\n",
    "    #m,n为压缩后矩阵的尺寸（行数和列数）\n",
    "    m = U.shape[0]\n",
    "    n = V_T.shape[0]\n",
    "    #压缩后的数据存储在reChannel矩阵当中，先初始化为一个全零的矩阵\n",
    "    reChannel = np.zeros((m,n))\n",
    "    #根据图像复原公式\n",
    "    for k in range(len(sigma)):\n",
    "        reChannel = reChannel + sigma[k]* np.dot(U[:,k].reshape(m,1),V_T[k,:].reshape(1,n))\n",
    "        #如果奇异值数量比例已经达到了要求，则退出循环\n",
    "        if float(k)/len(sigma) > percent:\n",
    "            reChannel[reChannel < 0] = 0\n",
    "            reChannel[reChannel > 255] = 255\n",
    "            break\n",
    "    #rint为四舍五入取整数，相当于round\n",
    "    return np.rint(reChannel).astype(\"uint8\")"
   ]
  },
  {
   "cell_type": "code",
   "execution_count": 4,
   "metadata": {
    "uuid": "d8f92b5f-55a4-4b62-8930-0cc9eb823063"
   },
   "outputs": [],
   "source": [
    "oriImage = Image.open(r'lisa.png', 'r')\n",
    "imgArray = np.array(oriImage)\n",
    "\n",
    "R = imgArray[:, :, 0]\n",
    "G = imgArray[:, :, 1]\n",
    "B = imgArray[:, :, 2]\n",
    "A = imgArray[:, :, 3]\n",
    "\n",
    "for p in [0.001,0.005,0.01,0.02,0.03,0.04,0.05,0.1,0.2,0.3,0.4,0.5,0.6,0.7,0.8,0.9]:\n",
    "    reR = imgCompress(R, p)\n",
    "    reG = imgCompress(G, p)\n",
    "    reB = imgCompress(B, p)\n",
    "    reA = imgCompress(A, p)\n",
    "    reI = np.stack((reR, reG, reB, reA), 2)\n",
    "\n",
    "    Image.fromarray(reI).save(\"./results/{}\".format(p)+\"img.png\")"
   ]
  },
  {
   "cell_type": "code",
   "execution_count": null,
   "metadata": {
    "uuid": "f8c551be-6cd7-4ce5-b7ca-5c8f3d024516"
   },
   "outputs": [],
   "source": []
  }
 ],
 "metadata": {
  "kernelspec": {
   "display_name": "Python 3",
   "language": "python",
   "name": "python3"
  },
  "language_info": {
   "codemirror_mode": {
    "name": "ipython",
    "version": 3
   },
   "file_extension": ".py",
   "mimetype": "text/x-python",
   "name": "python",
   "nbconvert_exporter": "python",
   "pygments_lexer": "ipython3",
   "version": "3.6.4"
  }
 },
 "nbformat": 4,
 "nbformat_minor": 4
}
