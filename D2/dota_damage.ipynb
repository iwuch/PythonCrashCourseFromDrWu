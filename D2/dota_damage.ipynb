{
 "cells": [
  {
   "cell_type": "code",
   "execution_count": 1,
   "metadata": {},
   "outputs": [
    {
     "name": "stdout",
     "output_type": "stream",
     "text": [
      "李白对项羽造成了380点伤害\n",
      "李白对项羽造成了380点伤害\n",
      "李白对项羽造成了386点伤害\n"
     ]
    }
   ],
   "source": [
    "# https://wenku.baidu.com/view/6c23d91314791711cc791733.html\n",
    "attack = 834\n",
    "defence = 1588\n",
    "penetrate = 300\n",
    "pencentage= 0.45\n",
    "r_defence = (defence-penetrate)*(1-pencentage)\n",
    "remission = r_defence/(602+r_defence)\n",
    "damage = int(attack*(1-remission))\n",
    "# print(f\"李白对项羽造成了{damage}点伤害\")\n",
    "import random\n",
    "\n",
    "def get_damage(attack,defence,penetrate,pencentage):\n",
    "    r_defence = (defence-penetrate)*(1-pencentage)\n",
    "    remission = r_defence/(602+r_defence)\n",
    "    damage = int(attack*(1-remission))+random.randint(-3,3)\n",
    "    return damage\n",
    "\n",
    "damage = get_damage(attack,defence,penetrate,pencentage)\n",
    "print(f\"李白对项羽造成了{damage}点伤害\")\n",
    "damage = get_damage(attack,defence,penetrate,pencentage)\n",
    "print(f\"李白对项羽造成了{damage}点伤害\")\n",
    "damage = get_damage(attack,defence,penetrate,pencentage)\n",
    "print(f\"李白对项羽造成了{damage}点伤害\")"
   ]
  },
  {
   "cell_type": "code",
   "execution_count": null,
   "metadata": {},
   "outputs": [],
   "source": []
  }
 ],
 "metadata": {
  "kernelspec": {
   "display_name": "Python 3",
   "language": "python",
   "name": "python3"
  },
  "language_info": {
   "codemirror_mode": {
    "name": "ipython",
    "version": 3
   },
   "file_extension": ".py",
   "mimetype": "text/x-python",
   "name": "python",
   "nbconvert_exporter": "python",
   "pygments_lexer": "ipython3",
   "version": "3.6.5"
  }
 },
 "nbformat": 4,
 "nbformat_minor": 4
}
