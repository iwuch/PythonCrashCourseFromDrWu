{
 "cells": [
  {
   "cell_type": "code",
   "execution_count": 29,
   "metadata": {},
   "outputs": [
    {
     "name": "stdout",
     "output_type": "stream",
     "text": [
      "11\n"
     ]
    }
   ],
   "source": [
    "#变量的赋值\n",
    "x = 1\n",
    "x = x + 10\n",
    "print(x)"
   ]
  },
  {
   "cell_type": "code",
   "execution_count": 30,
   "metadata": {},
   "outputs": [
    {
     "name": "stdout",
     "output_type": "stream",
     "text": [
      "lilei lilei\n"
     ]
    }
   ],
   "source": [
    "name1 = \"lilei\"\n",
    "name2 = name1\n",
    "print(name1,name2)"
   ]
  },
  {
   "cell_type": "code",
   "execution_count": 8,
   "metadata": {},
   "outputs": [
    {
     "data": {
      "text/plain": [
       "'hanmeimei'"
      ]
     },
     "execution_count": 8,
     "metadata": {},
     "output_type": "execute_result"
    }
   ],
   "source": [
    "name1 = \"lilei\"\n",
    "name1 = \"hanmeimei\"\n",
    "print(name1)"
   ]
  },
  {
   "cell_type": "code",
   "execution_count": 9,
   "metadata": {},
   "outputs": [
    {
     "data": {
      "text/plain": [
       "(100, 100, 100)"
      ]
     },
     "execution_count": 9,
     "metadata": {},
     "output_type": "execute_result"
    }
   ],
   "source": [
    "#同时给多个变量赋予相同的一个内容\n",
    "a = b = c = 100\n",
    "print(a,b,c)"
   ]
  },
  {
   "cell_type": "code",
   "execution_count": 31,
   "metadata": {},
   "outputs": [
    {
     "name": "stdout",
     "output_type": "stream",
     "text": [
      "1 2 3\n"
     ]
    }
   ],
   "source": [
    "#同时给多个变量赋予不同的内容\n",
    "a,b,c = 1,2,3\n",
    "print(a,b,c)"
   ]
  },
  {
   "cell_type": "code",
   "execution_count": 32,
   "metadata": {},
   "outputs": [
    {
     "name": "stdout",
     "output_type": "stream",
     "text": [
      "<class 'bool'> <class 'bool'>\n"
     ]
    }
   ],
   "source": [
    "#布尔型变量\n",
    "a = True\n",
    "b = False\n",
    "print(type(a),type(b))"
   ]
  },
  {
   "cell_type": "code",
   "execution_count": 38,
   "metadata": {},
   "outputs": [
    {
     "name": "stdout",
     "output_type": "stream",
     "text": [
      "<class 'int'> <class 'float'> <class 'str'>\n"
     ]
    }
   ],
   "source": [
    "#整型、浮点型、字符串型变量\n",
    "a = 1\n",
    "b = 2.0\n",
    "c = \"Hello Dr.Wu\"\n",
    "print(type(a),type(b),type(c))"
   ]
  },
  {
   "cell_type": "code",
   "execution_count": 39,
   "metadata": {},
   "outputs": [
    {
     "name": "stdout",
     "output_type": "stream",
     "text": [
      "<class 'list'>\n",
      "<class 'tuple'>\n",
      "<class 'dict'>\n",
      "<class 'set'>\n"
     ]
    }
   ],
   "source": [
    "#列表、元组、字段和集合\n",
    "a = [1,'two',3.0,'four']\n",
    "print(type(a))\n",
    "a = (1,'two',3.0,'four')\n",
    "print(type(a))\n",
    "a = {1:\"one\",2:\"two\"}\n",
    "print(type(a))\n",
    "a = set([1,2,3,4,2,3,4,])\n",
    "print(type(a))"
   ]
  },
  {
   "cell_type": "code",
   "execution_count": 40,
   "metadata": {},
   "outputs": [
    {
     "name": "stdout",
     "output_type": "stream",
     "text": [
      "This Dr.Wu\n",
      "This is Dr.Wu\n",
      "Hello,everyone.\n",
      "I'm Dr.Wu\n",
      "\n"
     ]
    }
   ],
   "source": [
    "#引号引用下的字符串\n",
    "str_sgq = 'This Dr.Wu'\n",
    "str_dbq = \"This is Dr.Wu\"\n",
    "str_trq = '''Hello,everyone.\n",
    "I'm Dr.Wu\n",
    "'''\n",
    "print(str_sgq)\n",
    "print(str_dbq)\n",
    "print(str_trq)"
   ]
  },
  {
   "cell_type": "code",
   "execution_count": 42,
   "metadata": {},
   "outputs": [
    {
     "name": "stdout",
     "output_type": "stream",
     "text": [
      "Allen is happy\n",
      "Allen is happy\n",
      "Allen is happy\n"
     ]
    }
   ],
   "source": [
    "#字符串中使用使用变量\n",
    "name = \"Allen\"\n",
    "emotion = \"happy\"\n",
    "print(\"%s is %s\" %(name,emotion))\n",
    "print(\"{} is {}\".format(name,emotion))\n",
    "print(f\"{name} is {emotion}\")"
   ]
  },
  {
   "cell_type": "code",
   "execution_count": 44,
   "metadata": {},
   "outputs": [
    {
     "name": "stdout",
     "output_type": "stream",
     "text": [
      "*\n",
      "********************我是分割线********************\n"
     ]
    }
   ],
   "source": [
    "#字符串的+和*运算符\n",
    "string1 = \"*\"\n",
    "string2 = string1*20 + \"我是分割线\" + string1*20\n",
    "print(string1)\n",
    "print(string2)"
   ]
  },
  {
   "cell_type": "code",
   "execution_count": 45,
   "metadata": {},
   "outputs": [
    {
     "name": "stdout",
     "output_type": "stream",
     "text": [
      "KOBE BRYANT\n",
      "kobe bryant\n",
      "Kobe Bryant\n"
     ]
    }
   ],
   "source": [
    "#字符串的大小写转换\n",
    "name = \"koBe bryant\"\n",
    "print(name.upper())\n",
    "print(name.lower())\n",
    "print(name.title())"
   ]
  },
  {
   "cell_type": "code",
   "execution_count": null,
   "metadata": {},
   "outputs": [],
   "source": [
    "#dir查询类中的方法\n",
    "dir(str)"
   ]
  },
  {
   "cell_type": "code",
   "execution_count": 47,
   "metadata": {},
   "outputs": [
    {
     "name": "stdout",
     "output_type": "stream",
     "text": [
      "Help on method_descriptor:\n",
      "\n",
      "upper(...)\n",
      "    S.upper() -> str\n",
      "    \n",
      "    Return a copy of S converted to uppercase.\n",
      "\n"
     ]
    }
   ],
   "source": [
    "#dir查询类方法的帮助手册\n",
    "help(str.upper)"
   ]
  },
  {
   "cell_type": "code",
   "execution_count": 56,
   "metadata": {},
   "outputs": [
    {
     "name": "stdout",
     "output_type": "stream",
     "text": [
      "3.5\n",
      "14.0\n",
      "9.0\n",
      "5.0\n"
     ]
    }
   ],
   "source": [
    "#数值的四则基本运算\n",
    "num1 = 2\n",
    "num2 = 7.0\n",
    "print(num2/num1)\n",
    "print(num2*num1)\n",
    "print(num2+num1)\n",
    "print(num2-num1)"
   ]
  },
  {
   "cell_type": "code",
   "execution_count": 58,
   "metadata": {},
   "outputs": [
    {
     "name": "stdout",
     "output_type": "stream",
     "text": [
      "81\n",
      "1\n",
      "4\n"
     ]
    }
   ],
   "source": [
    "#数值的算数计算\n",
    "x = 9\n",
    "y = 2\n",
    "print(x**y)\n",
    "print(x%y)\n",
    "print(x//y)"
   ]
  },
  {
   "cell_type": "code",
   "execution_count": 60,
   "metadata": {},
   "outputs": [
    {
     "name": "stdout",
     "output_type": "stream",
     "text": [
      "no\n"
     ]
    }
   ],
   "source": [
    "#条件判断和if语句\n",
    "x = 9\n",
    "y = 2\n",
    "if x == y:\n",
    "    print('yes')\n",
    "else:\n",
    "    print('no')"
   ]
  },
  {
   "cell_type": "code",
   "execution_count": 63,
   "metadata": {},
   "outputs": [
    {
     "name": "stdout",
     "output_type": "stream",
     "text": [
      "8\n"
     ]
    }
   ],
   "source": [
    "#赋值运算符\n",
    "a = 2\n",
    "b = 3\n",
    "a **= b\n",
    "print(a)"
   ]
  },
  {
   "cell_type": "code",
   "execution_count": 65,
   "metadata": {},
   "outputs": [
    {
     "name": "stdout",
     "output_type": "stream",
     "text": [
      "5\n",
      "3\n",
      "5\n",
      "False\n"
     ]
    }
   ],
   "source": [
    "print(3 and 5)\n",
    "print(3 or 5)\n",
    "print(0 or 5)\n",
    "print(3 and not 5)"
   ]
  },
  {
   "cell_type": "code",
   "execution_count": 50,
   "metadata": {},
   "outputs": [],
   "source": [
    "#if语句的单分支/二分支/多分支使用\n",
    "input_number = 11\n",
    "if input_number%2 == 0:\n",
    "    print(\"This is an even number\")"
   ]
  },
  {
   "cell_type": "code",
   "execution_count": 51,
   "metadata": {},
   "outputs": [
    {
     "name": "stdout",
     "output_type": "stream",
     "text": [
      "This is an odd number.\n"
     ]
    }
   ],
   "source": [
    "input_number = 11\n",
    "if input_number%2 == 0:\n",
    "    print(\"This is an even number.\")\n",
    "else:\n",
    "    print(\"This is an odd number.\")"
   ]
  },
  {
   "cell_type": "code",
   "execution_count": 54,
   "metadata": {},
   "outputs": [
    {
     "name": "stdout",
     "output_type": "stream",
     "text": [
      "B\n"
     ]
    }
   ],
   "source": [
    "score = 80\n",
    "if score >= 90:\n",
    "    grade = \"A\"\n",
    "elif score >= 80:\n",
    "    grade = \"B\"\n",
    "elif score >= 70:\n",
    "    grade = \"C\"\n",
    "elif score >= 60:\n",
    "    grade = \"D\"\n",
    "else:\n",
    "    grade = \"F\"\n",
    "print(grade)"
   ]
  },
  {
   "cell_type": "code",
   "execution_count": 66,
   "metadata": {},
   "outputs": [
    {
     "name": "stdout",
     "output_type": "stream",
     "text": [
      "1\n",
      "2\n",
      "3\n",
      "4\n",
      "5\n",
      "6\n",
      "7\n",
      "8\n",
      "9\n"
     ]
    }
   ],
   "source": [
    "#while循环打印 1-10\n",
    "i = 1\n",
    "while i < 10:\n",
    "    print(i)\n",
    "    i += 1"
   ]
  },
  {
   "cell_type": "code",
   "execution_count": null,
   "metadata": {},
   "outputs": [],
   "source": [
    "#判断用户输入的内容\n",
    "user_gender = input(\"请输入您的性别（F/M）：\")\n",
    "if user_gender == \"F\":\n",
    "    print(\"你是萌妹子\")\n",
    "elif user_gender == \"M\":\n",
    "    print(\"你是糙汉子\")\n",
    "else:\n",
    "    print(\"输入不正确，请输入F或者M\")"
   ]
  },
  {
   "cell_type": "code",
   "execution_count": 79,
   "metadata": {},
   "outputs": [
    {
     "name": "stdout",
     "output_type": "stream",
     "text": [
      "1\n",
      "25\n"
     ]
    }
   ],
   "source": [
    "# 内置函数的使用\n",
    "a = abs(-1)\n",
    "print(a)\n",
    "b = int(\"12\")\n",
    "c = 13\n",
    "print(b+c)"
   ]
  },
  {
   "cell_type": "code",
   "execution_count": 100,
   "metadata": {},
   "outputs": [
    {
     "name": "stdout",
     "output_type": "stream",
     "text": [
      "1.4142135623730951\n"
     ]
    }
   ],
   "source": [
    "#使用math模块进行数学计算\n",
    "import math\n",
    "a = math.sqrt(2)\n",
    "print(a)"
   ]
  },
  {
   "cell_type": "code",
   "execution_count": 101,
   "metadata": {},
   "outputs": [
    {
     "name": "stdout",
     "output_type": "stream",
     "text": [
      "0.5000000000000001\n",
      "60.00000000000001\n"
     ]
    }
   ],
   "source": [
    "#使用math模块进行数学计算\n",
    "import math as m\n",
    "result = m.cos(m.radians(60))\n",
    "print(result)\n",
    "rads = m.acos(0.5)\n",
    "degree = m.degrees(rads)\n",
    "print(degree)"
   ]
  },
  {
   "cell_type": "code",
   "execution_count": 102,
   "metadata": {},
   "outputs": [
    {
     "name": "stdout",
     "output_type": "stream",
     "text": [
      "0.5321193470116918\n",
      "49\n"
     ]
    }
   ],
   "source": [
    "#random模块产生随机数\n",
    "import random\n",
    "print(random.random())\n",
    "print(random.randint(1,100))"
   ]
  },
  {
   "cell_type": "code",
   "execution_count": 103,
   "metadata": {},
   "outputs": [
    {
     "name": "stdout",
     "output_type": "stream",
     "text": [
      "hello\n"
     ]
    }
   ],
   "source": [
    "#函数的定义和使用\n",
    "def hello_user():\n",
    "    print(\"hello\")\n",
    "hello_user()"
   ]
  },
  {
   "cell_type": "code",
   "execution_count": 104,
   "metadata": {},
   "outputs": [
    {
     "name": "stdout",
     "output_type": "stream",
     "text": [
      "Hello Lilei\n"
     ]
    }
   ],
   "source": [
    "#带参数的函数\n",
    "def hello_user(username):\n",
    "    print(\"Hello \" + username)\n",
    "hello_user(\"Lilei\")"
   ]
  },
  {
   "cell_type": "code",
   "execution_count": 107,
   "metadata": {},
   "outputs": [
    {
     "name": "stdout",
     "output_type": "stream",
     "text": [
      "李雷的成绩是99。\n",
      "韩梅梅的成绩是98。\n"
     ]
    }
   ],
   "source": [
    "#使用多个位置参数定义函数输入\n",
    "def TestGrade(name,grade):\n",
    "    print(name + '的成绩是' + grade + \"。\")\n",
    "#位置参数\n",
    "TestGrade(\"李雷\",'99')\n",
    "#关键字参数\n",
    "TestGrade(name = \"韩梅梅\",grade = '98')"
   ]
  },
  {
   "cell_type": "code",
   "execution_count": 109,
   "metadata": {},
   "outputs": [
    {
     "name": "stdout",
     "output_type": "stream",
     "text": [
      "2\n",
      "1\n"
     ]
    }
   ],
   "source": [
    "#函数的变量作用域\n",
    "#函数内部和外部有同名的变量名，优先使用内部定义的变量\n",
    "a = 1\n",
    "def hello():\n",
    "    a = 2\n",
    "    print(a)\n",
    "hello()\n",
    "print(a)"
   ]
  },
  {
   "cell_type": "code",
   "execution_count": 111,
   "metadata": {},
   "outputs": [
    {
     "name": "stdout",
     "output_type": "stream",
     "text": [
      "1\n",
      "1\n"
     ]
    }
   ],
   "source": [
    "#如果函数内部没有定义这个变量，则默认到函数外寻找外部变量\n",
    "a = 1\n",
    "def hello():\n",
    "    print(a)\n",
    "hello()\n",
    "print(a)"
   ]
  },
  {
   "cell_type": "code",
   "execution_count": 114,
   "metadata": {},
   "outputs": [
    {
     "name": "stdout",
     "output_type": "stream",
     "text": [
      "1\n",
      "2\n"
     ]
    }
   ],
   "source": [
    "#内部和外部都有这个名字的变量，然而内部的变量的使用再定义之前，则会报错\n",
    "#这个时候使用global可以声明全局变量，那么在函数内部也可以改变外部的变量值了\n",
    "a = 1\n",
    "def hello():\n",
    "    global a\n",
    "    print(a)\n",
    "    a = 2\n",
    "hello()\n",
    "print(a)"
   ]
  },
  {
   "cell_type": "code",
   "execution_count": null,
   "metadata": {},
   "outputs": [],
   "source": []
  }
 ],
 "metadata": {
  "kernelspec": {
   "display_name": "Python 3",
   "language": "python",
   "name": "python3"
  },
  "language_info": {
   "codemirror_mode": {
    "name": "ipython",
    "version": 3
   },
   "file_extension": ".py",
   "mimetype": "text/x-python",
   "name": "python",
   "nbconvert_exporter": "python",
   "pygments_lexer": "ipython3",
   "version": "3.6.5"
  }
 },
 "nbformat": 4,
 "nbformat_minor": 4
}
