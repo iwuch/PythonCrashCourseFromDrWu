{
 "cells": [
  {
   "cell_type": "markdown",
   "metadata": {},
   "source": [
    "# 一、实验准备"
   ]
  },
  {
   "cell_type": "markdown",
   "metadata": {},
   "source": [
    "## 1、背景介绍\n",
    "对数据科学家来说，预测证券市场走势是一项非常有诱惑力的工作，当然，他们这样做的目的很大程度上并不是为了获取物质回报，而是为了挑战自己。证券市场起起伏伏、变幻莫测，试想一下，如果在这个市场里存在一些我们或者我们的模型可以学习到的既定模式，让我们可以打败那些商科毕业的操盘手，将是多么美妙。"
   ]
  },
  {
   "cell_type": "markdown",
   "metadata": {},
   "source": [
    "## 2、实验目的\n",
    "构建更为合理的预测模型，为实际背景下的决策提供指导意义。"
   ]
  },
  {
   "cell_type": "markdown",
   "metadata": {},
   "source": [
    "## 3、实验建议\n",
    "（1）掌握数据描述，\n",
    "（2）对数据进行简单分析和预处理\n",
    "（3）机器学习模型（尤其是预测相关的模型）构建\n",
    "（4）参数的简单调整\n",
    "（5）以及模型评价，\n",
    "（5）数据可视化等能力；"
   ]
  },
  {
   "cell_type": "markdown",
   "metadata": {},
   "source": [
    "# 二、实验步骤"
   ]
  },
  {
   "cell_type": "markdown",
   "metadata": {},
   "source": [
    "## 1、数据获取\n",
    " Tushare是一个免费、开源的python财经数据接口包。主要实现对股票等金融数据从数据采集、清洗加工 到 数据存储的过程，能够为金融分析人员提供快速、整洁、和多样的便于分析的数据，为他们在数据获取方面极大地减轻工作量，使他们更加专注于策略和模型的研究与实现上。考虑到Python pandas包在金融量化分析中体现出的优势，Tushare返回的绝大部分的数据格式都是pandas DataFrame类型，非常便于用pandas/NumPy/Matplotlib进行数据分析和可视化。\n",
    "\n",
    "我们将使用以下代码提取上证指数："
   ]
  },
  {
   "cell_type": "code",
   "execution_count": 1,
   "metadata": {},
   "outputs": [],
   "source": [
    "#!pip install tushare\n",
    "#注意安装之后需要重启kernel，即点一下上方的循环按钮\n",
    "import pandas as pd\n",
    "import datetime\n",
    "import tushare as ts\n",
    "from pandas import Series, DataFrame"
   ]
  },
  {
   "cell_type": "code",
   "execution_count": 2,
   "metadata": {},
   "outputs": [
    {
     "name": "stdout",
     "output_type": "stream",
     "text": [
      "本接口即将停止更新，请尽快使用Pro版接口：https://waditu.com/document/2\n"
     ]
    }
   ],
   "source": [
    "start = datetime.datetime(2010, 1, 1)#起始时间\n",
    "end = datetime.datetime(2020, 9, 23)#截止时间\n",
    "df_maotai = ts.get_hist_data('600519',start=str(start),end=str(end))"
   ]
  },
  {
   "cell_type": "code",
   "execution_count": 3,
   "metadata": {},
   "outputs": [
    {
     "data": {
      "text/html": [
       "<div>\n",
       "<style scoped>\n",
       "    .dataframe tbody tr th:only-of-type {\n",
       "        vertical-align: middle;\n",
       "    }\n",
       "\n",
       "    .dataframe tbody tr th {\n",
       "        vertical-align: top;\n",
       "    }\n",
       "\n",
       "    .dataframe thead th {\n",
       "        text-align: right;\n",
       "    }\n",
       "</style>\n",
       "<table border=\"1\" class=\"dataframe\">\n",
       "  <thead>\n",
       "    <tr style=\"text-align: right;\">\n",
       "      <th></th>\n",
       "      <th>open</th>\n",
       "      <th>high</th>\n",
       "      <th>close</th>\n",
       "      <th>low</th>\n",
       "      <th>volume</th>\n",
       "      <th>price_change</th>\n",
       "      <th>p_change</th>\n",
       "      <th>ma5</th>\n",
       "      <th>ma10</th>\n",
       "      <th>ma20</th>\n",
       "      <th>v_ma5</th>\n",
       "      <th>v_ma10</th>\n",
       "      <th>v_ma20</th>\n",
       "      <th>turnover</th>\n",
       "    </tr>\n",
       "    <tr>\n",
       "      <th>date</th>\n",
       "      <th></th>\n",
       "      <th></th>\n",
       "      <th></th>\n",
       "      <th></th>\n",
       "      <th></th>\n",
       "      <th></th>\n",
       "      <th></th>\n",
       "      <th></th>\n",
       "      <th></th>\n",
       "      <th></th>\n",
       "      <th></th>\n",
       "      <th></th>\n",
       "      <th></th>\n",
       "      <th></th>\n",
       "    </tr>\n",
       "  </thead>\n",
       "  <tbody>\n",
       "    <tr>\n",
       "      <th>2018-05-08</th>\n",
       "      <td>698.03</td>\n",
       "      <td>712.13</td>\n",
       "      <td>708.90</td>\n",
       "      <td>698.03</td>\n",
       "      <td>62497.83</td>\n",
       "      <td>10.73</td>\n",
       "      <td>1.54</td>\n",
       "      <td>681.516</td>\n",
       "      <td>681.516</td>\n",
       "      <td>681.516</td>\n",
       "      <td>58410.15</td>\n",
       "      <td>58410.15</td>\n",
       "      <td>58410.15</td>\n",
       "      <td>0.50</td>\n",
       "    </tr>\n",
       "    <tr>\n",
       "      <th>2018-05-07</th>\n",
       "      <td>659.95</td>\n",
       "      <td>701.88</td>\n",
       "      <td>697.88</td>\n",
       "      <td>657.77</td>\n",
       "      <td>85591.43</td>\n",
       "      <td>35.01</td>\n",
       "      <td>5.28</td>\n",
       "      <td>674.670</td>\n",
       "      <td>674.670</td>\n",
       "      <td>674.670</td>\n",
       "      <td>57388.23</td>\n",
       "      <td>57388.23</td>\n",
       "      <td>57388.23</td>\n",
       "      <td>0.68</td>\n",
       "    </tr>\n",
       "    <tr>\n",
       "      <th>2018-05-04</th>\n",
       "      <td>670.98</td>\n",
       "      <td>674.83</td>\n",
       "      <td>662.95</td>\n",
       "      <td>660.57</td>\n",
       "      <td>37375.84</td>\n",
       "      <td>-7.93</td>\n",
       "      <td>-1.18</td>\n",
       "      <td>666.933</td>\n",
       "      <td>666.933</td>\n",
       "      <td>666.933</td>\n",
       "      <td>47987.16</td>\n",
       "      <td>47987.16</td>\n",
       "      <td>47987.16</td>\n",
       "      <td>0.30</td>\n",
       "    </tr>\n",
       "    <tr>\n",
       "      <th>2018-05-03</th>\n",
       "      <td>666.00</td>\n",
       "      <td>673.68</td>\n",
       "      <td>670.84</td>\n",
       "      <td>658.00</td>\n",
       "      <td>36326.53</td>\n",
       "      <td>3.01</td>\n",
       "      <td>0.45</td>\n",
       "      <td>668.925</td>\n",
       "      <td>668.925</td>\n",
       "      <td>668.925</td>\n",
       "      <td>53292.82</td>\n",
       "      <td>53292.82</td>\n",
       "      <td>53292.82</td>\n",
       "      <td>0.29</td>\n",
       "    </tr>\n",
       "    <tr>\n",
       "      <th>2018-05-02</th>\n",
       "      <td>660.00</td>\n",
       "      <td>668.99</td>\n",
       "      <td>667.01</td>\n",
       "      <td>645.06</td>\n",
       "      <td>70259.11</td>\n",
       "      <td>4.48</td>\n",
       "      <td>0.68</td>\n",
       "      <td>667.010</td>\n",
       "      <td>667.010</td>\n",
       "      <td>667.010</td>\n",
       "      <td>70259.11</td>\n",
       "      <td>70259.11</td>\n",
       "      <td>70259.11</td>\n",
       "      <td>0.56</td>\n",
       "    </tr>\n",
       "  </tbody>\n",
       "</table>\n",
       "</div>"
      ],
      "text/plain": [
       "              open    high   close     low    volume  price_change  p_change  \\\n",
       "date                                                                           \n",
       "2018-05-08  698.03  712.13  708.90  698.03  62497.83         10.73      1.54   \n",
       "2018-05-07  659.95  701.88  697.88  657.77  85591.43         35.01      5.28   \n",
       "2018-05-04  670.98  674.83  662.95  660.57  37375.84         -7.93     -1.18   \n",
       "2018-05-03  666.00  673.68  670.84  658.00  36326.53          3.01      0.45   \n",
       "2018-05-02  660.00  668.99  667.01  645.06  70259.11          4.48      0.68   \n",
       "\n",
       "                ma5     ma10     ma20     v_ma5    v_ma10    v_ma20  turnover  \n",
       "date                                                                           \n",
       "2018-05-08  681.516  681.516  681.516  58410.15  58410.15  58410.15      0.50  \n",
       "2018-05-07  674.670  674.670  674.670  57388.23  57388.23  57388.23      0.68  \n",
       "2018-05-04  666.933  666.933  666.933  47987.16  47987.16  47987.16      0.30  \n",
       "2018-05-03  668.925  668.925  668.925  53292.82  53292.82  53292.82      0.29  \n",
       "2018-05-02  667.010  667.010  667.010  70259.11  70259.11  70259.11      0.56  "
      ]
     },
     "execution_count": 3,
     "metadata": {},
     "output_type": "execute_result"
    }
   ],
   "source": [
    "df_maotai.head(10)\n",
    "df_maotai.shape\n",
    "df_maotai.tail()\n"
   ]
  },
  {
   "cell_type": "code",
   "execution_count": 4,
   "metadata": {},
   "outputs": [
    {
     "name": "stdout",
     "output_type": "stream",
     "text": [
      "本接口即将停止更新，请尽快使用Pro版接口：https://waditu.com/document/2\n"
     ]
    }
   ],
   "source": [
    "start = datetime.datetime(2010, 1, 1)#起始时间\n",
    "end = datetime.datetime(2020, 9, 23)#截止时间\n",
    "df = ts.get_hist_data('sh',start=str(start),end=str(end))"
   ]
  },
  {
   "cell_type": "code",
   "execution_count": 5,
   "metadata": {},
   "outputs": [
    {
     "data": {
      "text/html": [
       "<div>\n",
       "<style scoped>\n",
       "    .dataframe tbody tr th:only-of-type {\n",
       "        vertical-align: middle;\n",
       "    }\n",
       "\n",
       "    .dataframe tbody tr th {\n",
       "        vertical-align: top;\n",
       "    }\n",
       "\n",
       "    .dataframe thead th {\n",
       "        text-align: right;\n",
       "    }\n",
       "</style>\n",
       "<table border=\"1\" class=\"dataframe\">\n",
       "  <thead>\n",
       "    <tr style=\"text-align: right;\">\n",
       "      <th></th>\n",
       "      <th>open</th>\n",
       "      <th>high</th>\n",
       "      <th>close</th>\n",
       "      <th>low</th>\n",
       "      <th>volume</th>\n",
       "      <th>price_change</th>\n",
       "      <th>p_change</th>\n",
       "      <th>ma5</th>\n",
       "      <th>ma10</th>\n",
       "      <th>ma20</th>\n",
       "      <th>v_ma5</th>\n",
       "      <th>v_ma10</th>\n",
       "      <th>v_ma20</th>\n",
       "    </tr>\n",
       "    <tr>\n",
       "      <th>date</th>\n",
       "      <th></th>\n",
       "      <th></th>\n",
       "      <th></th>\n",
       "      <th></th>\n",
       "      <th></th>\n",
       "      <th></th>\n",
       "      <th></th>\n",
       "      <th></th>\n",
       "      <th></th>\n",
       "      <th></th>\n",
       "      <th></th>\n",
       "      <th></th>\n",
       "      <th></th>\n",
       "    </tr>\n",
       "  </thead>\n",
       "  <tbody>\n",
       "    <tr>\n",
       "      <th>2020-09-23</th>\n",
       "      <td>3278.84</td>\n",
       "      <td>3289.76</td>\n",
       "      <td>3279.71</td>\n",
       "      <td>3264.89</td>\n",
       "      <td>1691780.62</td>\n",
       "      <td>5.41</td>\n",
       "      <td>0.17</td>\n",
       "      <td>3295.896</td>\n",
       "      <td>3283.306</td>\n",
       "      <td>3320.103</td>\n",
       "      <td>2117778.02</td>\n",
       "      <td>2205112.52</td>\n",
       "      <td>2452866.16</td>\n",
       "    </tr>\n",
       "    <tr>\n",
       "      <th>2020-09-22</th>\n",
       "      <td>3290.67</td>\n",
       "      <td>3320.23</td>\n",
       "      <td>3274.30</td>\n",
       "      <td>3265.70</td>\n",
       "      <td>2140150.75</td>\n",
       "      <td>-42.64</td>\n",
       "      <td>-1.29</td>\n",
       "      <td>3296.738</td>\n",
       "      <td>3280.798</td>\n",
       "      <td>3322.605</td>\n",
       "      <td>2180308.62</td>\n",
       "      <td>2387444.21</td>\n",
       "      <td>2515502.64</td>\n",
       "    </tr>\n",
       "    <tr>\n",
       "      <th>2020-09-21</th>\n",
       "      <td>3348.90</td>\n",
       "      <td>3350.59</td>\n",
       "      <td>3316.94</td>\n",
       "      <td>3313.07</td>\n",
       "      <td>2165031.00</td>\n",
       "      <td>-21.15</td>\n",
       "      <td>-0.63</td>\n",
       "      <td>3301.014</td>\n",
       "      <td>3285.010</td>\n",
       "      <td>3327.569</td>\n",
       "      <td>2147647.27</td>\n",
       "      <td>2444495.41</td>\n",
       "      <td>2547051.82</td>\n",
       "    </tr>\n",
       "    <tr>\n",
       "      <th>2020-09-18</th>\n",
       "      <td>3270.91</td>\n",
       "      <td>3338.32</td>\n",
       "      <td>3338.09</td>\n",
       "      <td>3268.53</td>\n",
       "      <td>2562608.00</td>\n",
       "      <td>67.65</td>\n",
       "      <td>2.07</td>\n",
       "      <td>3293.388</td>\n",
       "      <td>3282.575</td>\n",
       "      <td>3331.004</td>\n",
       "      <td>2142489.32</td>\n",
       "      <td>2488608.89</td>\n",
       "      <td>2571914.19</td>\n",
       "    </tr>\n",
       "    <tr>\n",
       "      <th>2020-09-17</th>\n",
       "      <td>3277.32</td>\n",
       "      <td>3290.41</td>\n",
       "      <td>3270.44</td>\n",
       "      <td>3248.50</td>\n",
       "      <td>2029319.75</td>\n",
       "      <td>-13.48</td>\n",
       "      <td>-0.41</td>\n",
       "      <td>3277.840</td>\n",
       "      <td>3284.303</td>\n",
       "      <td>3333.133</td>\n",
       "      <td>2073365.37</td>\n",
       "      <td>2453984.64</td>\n",
       "      <td>2587527.97</td>\n",
       "    </tr>\n",
       "  </tbody>\n",
       "</table>\n",
       "</div>"
      ],
      "text/plain": [
       "               open     high    close      low      volume  price_change  \\\n",
       "date                                                                       \n",
       "2020-09-23  3278.84  3289.76  3279.71  3264.89  1691780.62          5.41   \n",
       "2020-09-22  3290.67  3320.23  3274.30  3265.70  2140150.75        -42.64   \n",
       "2020-09-21  3348.90  3350.59  3316.94  3313.07  2165031.00        -21.15   \n",
       "2020-09-18  3270.91  3338.32  3338.09  3268.53  2562608.00         67.65   \n",
       "2020-09-17  3277.32  3290.41  3270.44  3248.50  2029319.75        -13.48   \n",
       "\n",
       "            p_change       ma5      ma10      ma20       v_ma5      v_ma10  \\\n",
       "date                                                                         \n",
       "2020-09-23      0.17  3295.896  3283.306  3320.103  2117778.02  2205112.52   \n",
       "2020-09-22     -1.29  3296.738  3280.798  3322.605  2180308.62  2387444.21   \n",
       "2020-09-21     -0.63  3301.014  3285.010  3327.569  2147647.27  2444495.41   \n",
       "2020-09-18      2.07  3293.388  3282.575  3331.004  2142489.32  2488608.89   \n",
       "2020-09-17     -0.41  3277.840  3284.303  3333.133  2073365.37  2453984.64   \n",
       "\n",
       "                v_ma20  \n",
       "date                    \n",
       "2020-09-23  2452866.16  \n",
       "2020-09-22  2515502.64  \n",
       "2020-09-21  2547051.82  \n",
       "2020-09-18  2571914.19  \n",
       "2020-09-17  2587527.97  "
      ]
     },
     "execution_count": 5,
     "metadata": {},
     "output_type": "execute_result"
    }
   ],
   "source": [
    "df.head()"
   ]
  },
  {
   "cell_type": "code",
   "execution_count": 6,
   "metadata": {},
   "outputs": [
    {
     "data": {
      "text/plain": [
       "(588, 13)"
      ]
     },
     "execution_count": 6,
     "metadata": {},
     "output_type": "execute_result"
    }
   ],
   "source": [
    "df.shape"
   ]
  },
  {
   "cell_type": "markdown",
   "metadata": {},
   "source": [
    "数据框中指标包括：\n",
    "\n",
    "date：日期\n",
    "\n",
    "open：开盘价\n",
    "\n",
    "high：最高价\n",
    "\n",
    "close：收盘价\n",
    "\n",
    "low：最低价\n",
    "\n",
    "volume：成交量\n",
    "\n",
    "price_change：价格变动\n",
    "\n",
    "p_change：涨跌幅\n",
    "\n",
    "ma5：5日均价\n",
    "\n",
    "ma10：10日均价\n",
    "\n",
    "ma20:20日均价\n",
    "\n",
    "v_ma5:5日均量\n",
    "\n",
    "v_ma10:10日均量\n",
    "\n",
    "v_ma20:20日均量\n",
    "\n",
    "turnover:换手率[注：指数无此项]\n",
    "\n",
    "\n",
    "对于单只股票，我们可以先进行一些简单分析，例如移动平均值\n",
    "\n",
    "滚动平均 / 移动平均（MA）通过不断更新平均价格来平滑价格数据，有助于降低价格表中的“噪音”。此外，该移动平均线可能充当“阻力”，代表着股票的下跌和上升趋势，你可以从中预期它的未来趋势，不太可能偏离阻力点。"
   ]
  },
  {
   "cell_type": "markdown",
   "metadata": {},
   "source": [
    "## 2、简单分析\n",
    "对于单只股票，我们可以先进行一些简单分析，例如移动平均值\n",
    "\n",
    "滚动平均 / 移动平均（MA）通过不断更新平均价格来平滑价格数据，有助于降低价格表中的“噪音”。此外，该移动平均线可能充当“阻力”，代表着股票的下跌和上升趋势，你可以从中预期它的未来趋势，不太可能偏离阻力点。"
   ]
  },
  {
   "cell_type": "code",
   "execution_count": 7,
   "metadata": {},
   "outputs": [],
   "source": [
    "close_px = df['close']\n",
    "mavg10 = close_px.rolling(window=10).mean()\n",
    "mavg30 = close_px.rolling(window=30).mean()\n"
   ]
  },
  {
   "cell_type": "markdown",
   "metadata": {},
   "source": [
    "这将计算收盘价100天的移动平均值，并取每个滑窗的移动平均值。正如你所看到的，移动平均线在滑窗上稳步上升，并不遵循股票价格曲线的锯齿线。为了更好地理解，让我们用 Matplotlib 来绘制它。我们将用移动平均线来绘制股票价格表。"
   ]
  },
  {
   "cell_type": "code",
   "execution_count": 8,
   "metadata": {},
   "outputs": [
    {
     "name": "stderr",
     "output_type": "stream",
     "text": [
      "/opt/conda/lib/python3.6/site-packages/pandas/plotting/_core.py:402: UserWarning: FixedFormatter should only be used together with FixedLocator\n",
      "  ax.set_xticklabels(xticklabels)\n",
      "/opt/conda/lib/python3.6/site-packages/pandas/plotting/_core.py:402: UserWarning: FixedFormatter should only be used together with FixedLocator\n",
      "  ax.set_xticklabels(xticklabels)\n",
      "/opt/conda/lib/python3.6/site-packages/pandas/plotting/_core.py:402: UserWarning: FixedFormatter should only be used together with FixedLocator\n",
      "  ax.set_xticklabels(xticklabels)\n"
     ]
    },
    {
     "data": {
      "text/plain": [
       "<matplotlib.legend.Legend at 0x7f4ef7432a20>"
      ]
     },
     "execution_count": 8,
     "metadata": {},
     "output_type": "execute_result"
    },
    {
     "data": {
      "image/png": "[encoded data removed]",
      "text/plain": [
       "<Figure size 1008x576 with 1 Axes>"
      ]
     },
     "metadata": {},
     "output_type": "display_data"
    }
   ],
   "source": [
    "%matplotlib inline\n",
    "import matplotlib.pyplot as plt\n",
    "from matplotlib import style\n",
    "# Adjusting the size of matplotlib\n",
    "import matplotlib as mpl\n",
    "mpl.rc('figure', figsize=(14, 8))\n",
    "mpl.__version__\n",
    "# Adjusting the style of matplotlib\n",
    "style.use('ggplot')\n",
    "close_px.plot(label='sh')\n",
    "mavg10.plot(label='mavg10')\n",
    "mavg30.plot(label='mavg30')\n",
    "plt.legend()"
   ]
  },
  {
   "cell_type": "code",
   "execution_count": 9,
   "metadata": {},
   "outputs": [
    {
     "data": {
      "text/plain": [
       "date\n",
       "2020-09-23    3279.71\n",
       "2020-09-22    3274.30\n",
       "2020-09-21    3316.94\n",
       "2020-09-18    3338.09\n",
       "2020-09-17    3270.44\n",
       "2020-09-16    3283.92\n",
       "2020-09-15    3295.68\n",
       "2020-09-14    3278.81\n",
       "2020-09-11    3260.35\n",
       "2020-09-10    3234.82\n",
       "2020-09-09    3254.63\n",
       "2020-09-08    3316.42\n",
       "2020-09-07    3292.59\n",
       "2020-09-04    3355.37\n",
       "2020-09-03    3384.98\n",
       "2020-09-02    3404.80\n",
       "2020-09-01    3410.61\n",
       "2020-08-31    3395.68\n",
       "2020-08-28    3403.81\n",
       "2020-08-27    3350.11\n",
       "2020-08-26    3329.74\n",
       "2020-08-25    3373.58\n",
       "2020-08-24    3385.64\n",
       "2020-08-21    3380.68\n",
       "2020-08-20    3363.90\n",
       "2020-08-19    3408.13\n",
       "2020-08-18    3451.09\n",
       "2020-08-17    3438.80\n",
       "2020-08-14    3360.10\n",
       "2020-08-13    3320.73\n",
       "               ...   \n",
       "2018-06-12    3079.80\n",
       "2018-06-11    3052.78\n",
       "2018-06-08    3067.15\n",
       "2018-06-07    3109.50\n",
       "2018-06-06    3115.18\n",
       "2018-06-05    3114.21\n",
       "2018-06-04    3091.19\n",
       "2018-06-01    3075.14\n",
       "2018-05-31    3095.47\n",
       "2018-05-30    3041.44\n",
       "2018-05-29    3120.46\n",
       "2018-05-28    3135.08\n",
       "2018-05-25    3141.30\n",
       "2018-05-24    3154.65\n",
       "2018-05-23    3168.96\n",
       "2018-05-22    3214.35\n",
       "2018-05-21    3213.84\n",
       "2018-05-18    3193.30\n",
       "2018-05-17    3154.28\n",
       "2018-05-16    3169.57\n",
       "2018-05-15    3192.12\n",
       "2018-05-14    3174.03\n",
       "2018-05-11    3163.26\n",
       "2018-05-10    3174.41\n",
       "2018-05-09    3159.15\n",
       "2018-05-08    3161.50\n",
       "2018-05-07    3136.64\n",
       "2018-05-04    3091.03\n",
       "2018-05-03    3100.86\n",
       "2018-05-02    3081.18\n",
       "Name: close, Length: 588, dtype: float64"
      ]
     },
     "execution_count": 9,
     "metadata": {},
     "output_type": "execute_result"
    }
   ],
   "source": [
    "close_px"
   ]
  },
  {
   "cell_type": "markdown",
   "metadata": {},
   "source": [
    "此外，收益率也是我们考虑一只股票的重要影响因素"
   ]
  },
  {
   "cell_type": "code",
   "execution_count": 10,
   "metadata": {},
   "outputs": [
    {
     "name": "stderr",
     "output_type": "stream",
     "text": [
      "/opt/conda/lib/python3.6/site-packages/pandas/plotting/_core.py:402: UserWarning: FixedFormatter should only be used together with FixedLocator\n",
      "  ax.set_xticklabels(xticklabels)\n"
     ]
    },
    {
     "data": {
      "text/plain": [
       "<AxesSubplot:xlabel='date'>"
      ]
     },
     "execution_count": 10,
     "metadata": {},
     "output_type": "execute_result"
    },
    {
     "data": {
      "image/png": "[encoded data removed]",
      "text/plain": [
       "<Figure size 432x288 with 1 Axes>"
      ]
     },
     "metadata": {
      "needs_background": "light"
     },
     "output_type": "display_data"
    }
   ],
   "source": [
    "rets = close_px / close_px.shift(1) - 1\n",
    "rets.plot(label='return')"
   ]
  },
  {
   "cell_type": "markdown",
   "metadata": {},
   "source": [
    "从逻辑上讲，我们理想的股票收益应该尽可能高且稳定。如果你是风险规避者，你可能希望避开这种股票，因为你看到 2013 年下跌了 10%。这个决定很大程度上取决于你对股票的总体看法和对其他竞争对手股票的分析。"
   ]
  },
  {
   "cell_type": "markdown",
   "metadata": {},
   "source": [
    "当然我们也可以一口气调用多只股票,如上证指数、深证指数以及沪深300指数，研究这些科技公司股价之间的关系。\n",
    "\n",
    "以他们的调整后收盘价为例"
   ]
  },
  {
   "cell_type": "code",
   "execution_count": 11,
   "metadata": {},
   "outputs": [
    {
     "name": "stdout",
     "output_type": "stream",
     "text": [
      "本接口即将停止更新，请尽快使用Pro版接口：https://waditu.com/document/2\n",
      "本接口即将停止更新，请尽快使用Pro版接口：https://waditu.com/document/2\n",
      "本接口即将停止更新，请尽快使用Pro版接口：https://waditu.com/document/2\n"
     ]
    }
   ],
   "source": [
    "df_1 = ts.get_hist_data('sh',start=str(start),end=str(end))['close']\n",
    "df_2 = ts.get_hist_data('sz',start=str(start),end=str(end))['close']\n",
    "df_3 = ts.get_hist_data('hs300',start=str(start),end=str(end))['close']\n",
    "dfcomp = pd.DataFrame()\n",
    "dfcomp['sh'] = df_1\n",
    "dfcomp['sz'] = df_2\n",
    "dfcomp['hs300'] = df_3"
   ]
  },
  {
   "cell_type": "code",
   "execution_count": 12,
   "metadata": {
    "scrolled": true
   },
   "outputs": [
    {
     "data": {
      "text/html": [
       "<div>\n",
       "<style scoped>\n",
       "    .dataframe tbody tr th:only-of-type {\n",
       "        vertical-align: middle;\n",
       "    }\n",
       "\n",
       "    .dataframe tbody tr th {\n",
       "        vertical-align: top;\n",
       "    }\n",
       "\n",
       "    .dataframe thead th {\n",
       "        text-align: right;\n",
       "    }\n",
       "</style>\n",
       "<table border=\"1\" class=\"dataframe\">\n",
       "  <thead>\n",
       "    <tr style=\"text-align: right;\">\n",
       "      <th></th>\n",
       "      <th>sh</th>\n",
       "      <th>sz</th>\n",
       "      <th>hs300</th>\n",
       "    </tr>\n",
       "    <tr>\n",
       "      <th>date</th>\n",
       "      <th></th>\n",
       "      <th></th>\n",
       "      <th></th>\n",
       "    </tr>\n",
       "  </thead>\n",
       "  <tbody>\n",
       "    <tr>\n",
       "      <th>2020-09-23</th>\n",
       "      <td>3279.71</td>\n",
       "      <td>13110.07</td>\n",
       "      <td>4652.33</td>\n",
       "    </tr>\n",
       "    <tr>\n",
       "      <th>2020-09-22</th>\n",
       "      <td>3274.30</td>\n",
       "      <td>13023.43</td>\n",
       "      <td>4635.76</td>\n",
       "    </tr>\n",
       "    <tr>\n",
       "      <th>2020-09-21</th>\n",
       "      <td>3316.94</td>\n",
       "      <td>13149.50</td>\n",
       "      <td>4691.43</td>\n",
       "    </tr>\n",
       "    <tr>\n",
       "      <th>2020-09-18</th>\n",
       "      <td>3338.09</td>\n",
       "      <td>13245.09</td>\n",
       "      <td>4737.09</td>\n",
       "    </tr>\n",
       "    <tr>\n",
       "      <th>2020-09-17</th>\n",
       "      <td>3270.44</td>\n",
       "      <td>13015.19</td>\n",
       "      <td>4632.71</td>\n",
       "    </tr>\n",
       "  </tbody>\n",
       "</table>\n",
       "</div>"
      ],
      "text/plain": [
       "                 sh        sz    hs300\n",
       "date                                  \n",
       "2020-09-23  3279.71  13110.07  4652.33\n",
       "2020-09-22  3274.30  13023.43  4635.76\n",
       "2020-09-21  3316.94  13149.50  4691.43\n",
       "2020-09-18  3338.09  13245.09  4737.09\n",
       "2020-09-17  3270.44  13015.19  4632.71"
      ]
     },
     "execution_count": 12,
     "metadata": {},
     "output_type": "execute_result"
    }
   ],
   "source": [
    "dfcomp.head()"
   ]
  },
  {
   "cell_type": "markdown",
   "metadata": {},
   "source": [
    "在得到多只股票的股价后，我们可以考虑研究他们之间的相关性关系"
   ]
  },
  {
   "cell_type": "code",
   "execution_count": 13,
   "metadata": {},
   "outputs": [
    {
     "data": {
      "text/html": [
       "<div>\n",
       "<style scoped>\n",
       "    .dataframe tbody tr th:only-of-type {\n",
       "        vertical-align: middle;\n",
       "    }\n",
       "\n",
       "    .dataframe tbody tr th {\n",
       "        vertical-align: top;\n",
       "    }\n",
       "\n",
       "    .dataframe thead th {\n",
       "        text-align: right;\n",
       "    }\n",
       "</style>\n",
       "<table border=\"1\" class=\"dataframe\">\n",
       "  <thead>\n",
       "    <tr style=\"text-align: right;\">\n",
       "      <th></th>\n",
       "      <th>sh</th>\n",
       "      <th>sz</th>\n",
       "      <th>hs300</th>\n",
       "    </tr>\n",
       "  </thead>\n",
       "  <tbody>\n",
       "    <tr>\n",
       "      <th>sh</th>\n",
       "      <td>1.000000</td>\n",
       "      <td>0.947800</td>\n",
       "      <td>0.980642</td>\n",
       "    </tr>\n",
       "    <tr>\n",
       "      <th>sz</th>\n",
       "      <td>0.947800</td>\n",
       "      <td>1.000000</td>\n",
       "      <td>0.948882</td>\n",
       "    </tr>\n",
       "    <tr>\n",
       "      <th>hs300</th>\n",
       "      <td>0.980642</td>\n",
       "      <td>0.948882</td>\n",
       "      <td>1.000000</td>\n",
       "    </tr>\n",
       "  </tbody>\n",
       "</table>\n",
       "</div>"
      ],
      "text/plain": [
       "             sh        sz     hs300\n",
       "sh     1.000000  0.947800  0.980642\n",
       "sz     0.947800  1.000000  0.948882\n",
       "hs300  0.980642  0.948882  1.000000"
      ]
     },
     "execution_count": 13,
     "metadata": {},
     "output_type": "execute_result"
    }
   ],
   "source": [
    "retscomp = dfcomp.pct_change()\n",
    "corr = retscomp.corr()\n",
    "corr"
   ]
  },
  {
   "cell_type": "markdown",
   "metadata": {},
   "source": [
    "让我们绘制散点图来观察 Apple 和 GE 的收益分布。"
   ]
  },
  {
   "cell_type": "code",
   "execution_count": 14,
   "metadata": {},
   "outputs": [
    {
     "data": {
      "text/plain": [
       "Text(0, 0.5, 'Returns sz')"
      ]
     },
     "execution_count": 14,
     "metadata": {},
     "output_type": "execute_result"
    },
    {
     "data": {
      "image/png": "[encoded data removed]",
      "text/plain": [
       "<Figure size 432x288 with 1 Axes>"
      ]
     },
     "metadata": {
      "needs_background": "light"
     },
     "output_type": "display_data"
    }
   ],
   "source": [
    "plt.scatter(retscomp.sh, retscomp.sz)\n",
    "mpl.rc('figure', figsize=(8, 8))\n",
    "plt.xlabel('Returns sh')\n",
    "plt.ylabel('Returns sz')"
   ]
  },
  {
   "cell_type": "markdown",
   "metadata": {},
   "source": [
    "我们可以看到，上证指数的收益和沪深指数的收益之间存在着微弱的正相关关系。似乎在大多数情况下， 上证指数的回报率越高，沪深指数的回报率也就越高。\n",
    "\n",
    "让我们通过绘制散点矩阵进一步改进我们的分析，以可视化竞争股票之间可能的相关性。在对角点，我们将运行核密度估计(Kernel Density Estimate,KDE)。KDE 是一个基本的数据平滑问题，它基于有限的数据样本对总体进行推断。它有助于生成对总体分布的估计。"
   ]
  },
  {
   "cell_type": "code",
   "execution_count": 15,
   "metadata": {},
   "outputs": [
    {
     "name": "stderr",
     "output_type": "stream",
     "text": [
      "/opt/conda/lib/python3.6/site-packages/pandas/plotting/_tools.py:308: MatplotlibDeprecationWarning: \n",
      "The rowNum attribute was deprecated in Matplotlib 3.2 and will be removed two minor releases later. Use ax.get_subplotspec().rowspan.start instead.\n",
      "  layout[ax.rowNum, ax.colNum] = ax.get_visible()\n",
      "/opt/conda/lib/python3.6/site-packages/pandas/plotting/_tools.py:308: MatplotlibDeprecationWarning: \n",
      "The colNum attribute was deprecated in Matplotlib 3.2 and will be removed two minor releases later. Use ax.get_subplotspec().colspan.start instead.\n",
      "  layout[ax.rowNum, ax.colNum] = ax.get_visible()\n",
      "/opt/conda/lib/python3.6/site-packages/pandas/plotting/_tools.py:314: MatplotlibDeprecationWarning: \n",
      "The rowNum attribute was deprecated in Matplotlib 3.2 and will be removed two minor releases later. Use ax.get_subplotspec().rowspan.start instead.\n",
      "  if not layout[ax.rowNum + 1, ax.colNum]:\n",
      "/opt/conda/lib/python3.6/site-packages/pandas/plotting/_tools.py:314: MatplotlibDeprecationWarning: \n",
      "The colNum attribute was deprecated in Matplotlib 3.2 and will be removed two minor releases later. Use ax.get_subplotspec().colspan.start instead.\n",
      "  if not layout[ax.rowNum + 1, ax.colNum]:\n"
     ]
    },
    {
     "data": {
      "text/plain": [
       "array([[<AxesSubplot:xlabel='sh', ylabel='sh'>,\n",
       "        <AxesSubplot:xlabel='sz', ylabel='sh'>,\n",
       "        <AxesSubplot:xlabel='hs300', ylabel='sh'>],\n",
       "       [<AxesSubplot:xlabel='sh', ylabel='sz'>,\n",
       "        <AxesSubplot:xlabel='sz', ylabel='sz'>,\n",
       "        <AxesSubplot:xlabel='hs300', ylabel='sz'>],\n",
       "       [<AxesSubplot:xlabel='sh', ylabel='hs300'>,\n",
       "        <AxesSubplot:xlabel='sz', ylabel='hs300'>,\n",
       "        <AxesSubplot:xlabel='hs300', ylabel='hs300'>]], dtype=object)"
      ]
     },
     "execution_count": 15,
     "metadata": {},
     "output_type": "execute_result"
    },
    {
     "data": {
      "image/png": "[encoded data removed]",
      "text/plain": [
       "<Figure size 720x720 with 9 Axes>"
      ]
     },
     "metadata": {
      "needs_background": "light"
     },
     "output_type": "display_data"
    }
   ],
   "source": [
    "pd.plotting.scatter_matrix(retscomp, diagonal='kde', figsize=(10, 10))"
   ]
  },
  {
   "cell_type": "markdown",
   "metadata": {},
   "source": [
    "从这里我们可以得到大多数指数之间的分布近似正相关。\n",
    "\n",
    "为了证明正相关关系，我们将使用热图来可视化竞争股票之间的相关程度。注意颜色越浅代表这两只指数的相关性越强。"
   ]
  },
  {
   "cell_type": "code",
   "execution_count": 16,
   "metadata": {},
   "outputs": [
    {
     "data": {
      "text/plain": [
       "([<matplotlib.axis.YTick at 0x7f4edaf98550>,\n",
       "  <matplotlib.axis.YTick at 0x7f4edaf98128>,\n",
       "  <matplotlib.axis.YTick at 0x7f4edaf915c0>],\n",
       " [Text(0, 0, 'sh'), Text(0, 1, 'sz'), Text(0, 2, 'hs300')])"
      ]
     },
     "execution_count": 16,
     "metadata": {},
     "output_type": "execute_result"
    },
    {
     "data": {
      "image/png": "[encoded data removed]",
      "text/plain": [
       "<Figure size 576x576 with 2 Axes>"
      ]
     },
     "metadata": {
      "needs_background": "light"
     },
     "output_type": "display_data"
    }
   ],
   "source": [
    "plt.imshow(corr, cmap='hot', interpolation='none')\n",
    "plt.colorbar()\n",
    "plt.xticks(range(len(corr)), corr.columns)\n",
    "plt.yticks(range(len(corr)), corr.columns)"
   ]
  },
  {
   "cell_type": "markdown",
   "metadata": {},
   "source": [
    "## 3.构建预测模型\n"
   ]
  },
  {
   "cell_type": "markdown",
   "metadata": {},
   "source": [
    "### 3.1 特征工程"
   ]
  },
  {
   "cell_type": "markdown",
   "metadata": {},
   "source": [
    "我们将使用一些机器学习模型来预测股票，但首先我们需要设计一些特征：高-低百分比和百分比变化,股价的滞后项。还是以上证指数为例"
   ]
  },
  {
   "cell_type": "code",
   "execution_count": 17,
   "metadata": {},
   "outputs": [],
   "source": [
    "dfreg = df.loc[:,['close','volume']].copy()\n",
    "dfreg['HL_PCT'] = (df['high'] - df['low']) / df['close'] * 100.0\n",
    "dfreg['PCT_change'] = (df['close'] - df['open']) / df['open'] * 100.0"
   ]
  },
  {
   "cell_type": "code",
   "execution_count": 18,
   "metadata": {},
   "outputs": [],
   "source": [
    "dfreg['close -1'] = df['close'].shift(1)\n",
    "dfreg['close -2'] = df['close'].shift(2)\n",
    "dfreg['close -3'] = df['close'].shift(3)"
   ]
  },
  {
   "cell_type": "code",
   "execution_count": 19,
   "metadata": {},
   "outputs": [
    {
     "data": {
      "text/html": [
       "<div>\n",
       "<style scoped>\n",
       "    .dataframe tbody tr th:only-of-type {\n",
       "        vertical-align: middle;\n",
       "    }\n",
       "\n",
       "    .dataframe tbody tr th {\n",
       "        vertical-align: top;\n",
       "    }\n",
       "\n",
       "    .dataframe thead th {\n",
       "        text-align: right;\n",
       "    }\n",
       "</style>\n",
       "<table border=\"1\" class=\"dataframe\">\n",
       "  <thead>\n",
       "    <tr style=\"text-align: right;\">\n",
       "      <th></th>\n",
       "      <th>close</th>\n",
       "      <th>volume</th>\n",
       "      <th>HL_PCT</th>\n",
       "      <th>PCT_change</th>\n",
       "      <th>close -1</th>\n",
       "      <th>close -2</th>\n",
       "      <th>close -3</th>\n",
       "    </tr>\n",
       "    <tr>\n",
       "      <th>date</th>\n",
       "      <th></th>\n",
       "      <th></th>\n",
       "      <th></th>\n",
       "      <th></th>\n",
       "      <th></th>\n",
       "      <th></th>\n",
       "      <th></th>\n",
       "    </tr>\n",
       "  </thead>\n",
       "  <tbody>\n",
       "    <tr>\n",
       "      <th>2020-09-23</th>\n",
       "      <td>3279.71</td>\n",
       "      <td>1691780.62</td>\n",
       "      <td>0.758299</td>\n",
       "      <td>0.026534</td>\n",
       "      <td>NaN</td>\n",
       "      <td>NaN</td>\n",
       "      <td>NaN</td>\n",
       "    </tr>\n",
       "    <tr>\n",
       "      <th>2020-09-22</th>\n",
       "      <td>3274.30</td>\n",
       "      <td>2140150.75</td>\n",
       "      <td>1.665394</td>\n",
       "      <td>-0.497467</td>\n",
       "      <td>3279.71</td>\n",
       "      <td>NaN</td>\n",
       "      <td>NaN</td>\n",
       "    </tr>\n",
       "    <tr>\n",
       "      <th>2020-09-21</th>\n",
       "      <td>3316.94</td>\n",
       "      <td>2165031.00</td>\n",
       "      <td>1.131163</td>\n",
       "      <td>-0.954343</td>\n",
       "      <td>3274.30</td>\n",
       "      <td>3279.71</td>\n",
       "      <td>NaN</td>\n",
       "    </tr>\n",
       "    <tr>\n",
       "      <th>2020-09-18</th>\n",
       "      <td>3338.09</td>\n",
       "      <td>2562608.00</td>\n",
       "      <td>2.090717</td>\n",
       "      <td>2.053863</td>\n",
       "      <td>3316.94</td>\n",
       "      <td>3274.30</td>\n",
       "      <td>3279.71</td>\n",
       "    </tr>\n",
       "    <tr>\n",
       "      <th>2020-09-17</th>\n",
       "      <td>3270.44</td>\n",
       "      <td>2029319.75</td>\n",
       "      <td>1.281479</td>\n",
       "      <td>-0.209928</td>\n",
       "      <td>3338.09</td>\n",
       "      <td>3316.94</td>\n",
       "      <td>3274.30</td>\n",
       "    </tr>\n",
       "    <tr>\n",
       "      <th>2020-09-16</th>\n",
       "      <td>3283.92</td>\n",
       "      <td>2004433.62</td>\n",
       "      <td>0.955565</td>\n",
       "      <td>-0.280884</td>\n",
       "      <td>3270.44</td>\n",
       "      <td>3338.09</td>\n",
       "      <td>3316.94</td>\n",
       "    </tr>\n",
       "    <tr>\n",
       "      <th>2020-09-15</th>\n",
       "      <td>3295.68</td>\n",
       "      <td>1976844.00</td>\n",
       "      <td>1.029833</td>\n",
       "      <td>0.566044</td>\n",
       "      <td>3283.92</td>\n",
       "      <td>3270.44</td>\n",
       "      <td>3338.09</td>\n",
       "    </tr>\n",
       "    <tr>\n",
       "      <th>2020-09-14</th>\n",
       "      <td>3278.81</td>\n",
       "      <td>2139241.25</td>\n",
       "      <td>0.682565</td>\n",
       "      <td>0.088219</td>\n",
       "      <td>3295.68</td>\n",
       "      <td>3283.92</td>\n",
       "      <td>3270.44</td>\n",
       "    </tr>\n",
       "    <tr>\n",
       "      <th>2020-09-11</th>\n",
       "      <td>3260.35</td>\n",
       "      <td>2216988.25</td>\n",
       "      <td>1.286978</td>\n",
       "      <td>1.071679</td>\n",
       "      <td>3278.81</td>\n",
       "      <td>3295.68</td>\n",
       "      <td>3283.92</td>\n",
       "    </tr>\n",
       "    <tr>\n",
       "      <th>2020-09-10</th>\n",
       "      <td>3234.82</td>\n",
       "      <td>3124728.00</td>\n",
       "      <td>1.787735</td>\n",
       "      <td>-1.444445</td>\n",
       "      <td>3260.35</td>\n",
       "      <td>3278.81</td>\n",
       "      <td>3295.68</td>\n",
       "    </tr>\n",
       "  </tbody>\n",
       "</table>\n",
       "</div>"
      ],
      "text/plain": [
       "              close      volume    HL_PCT  PCT_change  close -1  close -2  \\\n",
       "date                                                                        \n",
       "2020-09-23  3279.71  1691780.62  0.758299    0.026534       NaN       NaN   \n",
       "2020-09-22  3274.30  2140150.75  1.665394   -0.497467   3279.71       NaN   \n",
       "2020-09-21  3316.94  2165031.00  1.131163   -0.954343   3274.30   3279.71   \n",
       "2020-09-18  3338.09  2562608.00  2.090717    2.053863   3316.94   3274.30   \n",
       "2020-09-17  3270.44  2029319.75  1.281479   -0.209928   3338.09   3316.94   \n",
       "2020-09-16  3283.92  2004433.62  0.955565   -0.280884   3270.44   3338.09   \n",
       "2020-09-15  3295.68  1976844.00  1.029833    0.566044   3283.92   3270.44   \n",
       "2020-09-14  3278.81  2139241.25  0.682565    0.088219   3295.68   3283.92   \n",
       "2020-09-11  3260.35  2216988.25  1.286978    1.071679   3278.81   3295.68   \n",
       "2020-09-10  3234.82  3124728.00  1.787735   -1.444445   3260.35   3278.81   \n",
       "\n",
       "            close -3  \n",
       "date                  \n",
       "2020-09-23       NaN  \n",
       "2020-09-22       NaN  \n",
       "2020-09-21       NaN  \n",
       "2020-09-18   3279.71  \n",
       "2020-09-17   3274.30  \n",
       "2020-09-16   3316.94  \n",
       "2020-09-15   3338.09  \n",
       "2020-09-14   3270.44  \n",
       "2020-09-11   3283.92  \n",
       "2020-09-10   3295.68  "
      ]
     },
     "execution_count": 19,
     "metadata": {},
     "output_type": "execute_result"
    }
   ],
   "source": [
    "dfreg.head(10)"
   ]
  },
  {
   "cell_type": "markdown",
   "metadata": {},
   "source": [
    "删除掉对应缺失值"
   ]
  },
  {
   "cell_type": "code",
   "execution_count": 20,
   "metadata": {},
   "outputs": [],
   "source": [
    "dfreg = dfreg.iloc[3:,:].copy()"
   ]
  },
  {
   "cell_type": "code",
   "execution_count": 21,
   "metadata": {},
   "outputs": [
    {
     "data": {
      "text/plain": [
       "(585, 7)"
      ]
     },
     "execution_count": 21,
     "metadata": {},
     "output_type": "execute_result"
    }
   ],
   "source": [
    "dfreg.shape"
   ]
  },
  {
   "cell_type": "code",
   "execution_count": 22,
   "metadata": {
    "scrolled": true
   },
   "outputs": [
    {
     "data": {
      "text/html": [
       "<div>\n",
       "<style scoped>\n",
       "    .dataframe tbody tr th:only-of-type {\n",
       "        vertical-align: middle;\n",
       "    }\n",
       "\n",
       "    .dataframe tbody tr th {\n",
       "        vertical-align: top;\n",
       "    }\n",
       "\n",
       "    .dataframe thead th {\n",
       "        text-align: right;\n",
       "    }\n",
       "</style>\n",
       "<table border=\"1\" class=\"dataframe\">\n",
       "  <thead>\n",
       "    <tr style=\"text-align: right;\">\n",
       "      <th></th>\n",
       "      <th>close</th>\n",
       "      <th>volume</th>\n",
       "      <th>HL_PCT</th>\n",
       "      <th>PCT_change</th>\n",
       "      <th>close -1</th>\n",
       "      <th>close -2</th>\n",
       "      <th>close -3</th>\n",
       "    </tr>\n",
       "    <tr>\n",
       "      <th>date</th>\n",
       "      <th></th>\n",
       "      <th></th>\n",
       "      <th></th>\n",
       "      <th></th>\n",
       "      <th></th>\n",
       "      <th></th>\n",
       "      <th></th>\n",
       "    </tr>\n",
       "  </thead>\n",
       "  <tbody>\n",
       "    <tr>\n",
       "      <th>2020-09-18</th>\n",
       "      <td>3338.09</td>\n",
       "      <td>2562608.00</td>\n",
       "      <td>2.090717</td>\n",
       "      <td>2.053863</td>\n",
       "      <td>3316.94</td>\n",
       "      <td>3274.30</td>\n",
       "      <td>3279.71</td>\n",
       "    </tr>\n",
       "    <tr>\n",
       "      <th>2020-09-17</th>\n",
       "      <td>3270.44</td>\n",
       "      <td>2029319.75</td>\n",
       "      <td>1.281479</td>\n",
       "      <td>-0.209928</td>\n",
       "      <td>3338.09</td>\n",
       "      <td>3316.94</td>\n",
       "      <td>3274.30</td>\n",
       "    </tr>\n",
       "    <tr>\n",
       "      <th>2020-09-16</th>\n",
       "      <td>3283.92</td>\n",
       "      <td>2004433.62</td>\n",
       "      <td>0.955565</td>\n",
       "      <td>-0.280884</td>\n",
       "      <td>3270.44</td>\n",
       "      <td>3338.09</td>\n",
       "      <td>3316.94</td>\n",
       "    </tr>\n",
       "    <tr>\n",
       "      <th>2020-09-15</th>\n",
       "      <td>3295.68</td>\n",
       "      <td>1976844.00</td>\n",
       "      <td>1.029833</td>\n",
       "      <td>0.566044</td>\n",
       "      <td>3283.92</td>\n",
       "      <td>3270.44</td>\n",
       "      <td>3338.09</td>\n",
       "    </tr>\n",
       "    <tr>\n",
       "      <th>2020-09-14</th>\n",
       "      <td>3278.81</td>\n",
       "      <td>2139241.25</td>\n",
       "      <td>0.682565</td>\n",
       "      <td>0.088219</td>\n",
       "      <td>3295.68</td>\n",
       "      <td>3283.92</td>\n",
       "      <td>3270.44</td>\n",
       "    </tr>\n",
       "  </tbody>\n",
       "</table>\n",
       "</div>"
      ],
      "text/plain": [
       "              close      volume    HL_PCT  PCT_change  close -1  close -2  \\\n",
       "date                                                                        \n",
       "2020-09-18  3338.09  2562608.00  2.090717    2.053863   3316.94   3274.30   \n",
       "2020-09-17  3270.44  2029319.75  1.281479   -0.209928   3338.09   3316.94   \n",
       "2020-09-16  3283.92  2004433.62  0.955565   -0.280884   3270.44   3338.09   \n",
       "2020-09-15  3295.68  1976844.00  1.029833    0.566044   3283.92   3270.44   \n",
       "2020-09-14  3278.81  2139241.25  0.682565    0.088219   3295.68   3283.92   \n",
       "\n",
       "            close -3  \n",
       "date                  \n",
       "2020-09-18   3279.71  \n",
       "2020-09-17   3274.30  \n",
       "2020-09-16   3316.94  \n",
       "2020-09-15   3338.09  \n",
       "2020-09-14   3270.44  "
      ]
     },
     "execution_count": 22,
     "metadata": {},
     "output_type": "execute_result"
    }
   ],
   "source": [
    "dfreg.head()"
   ]
  },
  {
   "cell_type": "markdown",
   "metadata": {},
   "source": [
    "划分数据集,取前425期作为训练集，后8期作为测试集"
   ]
  },
  {
   "cell_type": "code",
   "execution_count": 23,
   "metadata": {},
   "outputs": [],
   "source": [
    "y = dfreg['close']\n",
    "X = dfreg.loc[:,['volume','HL_PCT','PCT_change','close -1','close -2','close -3']]"
   ]
  },
  {
   "cell_type": "code",
   "execution_count": 24,
   "metadata": {},
   "outputs": [
    {
     "data": {
      "text/plain": [
       "585"
      ]
     },
     "execution_count": 24,
     "metadata": {},
     "output_type": "execute_result"
    }
   ],
   "source": [
    "len(y)"
   ]
  },
  {
   "cell_type": "code",
   "execution_count": 25,
   "metadata": {},
   "outputs": [],
   "source": [
    "from sklearn.model_selection import train_test_split"
   ]
  },
  {
   "cell_type": "markdown",
   "metadata": {},
   "source": [
    "训练集，测试集拆分：X_train，y_train：得到的训练数据。X_test， y_test：得到的测试数据。random_state：随机数"
   ]
  },
  {
   "cell_type": "code",
   "execution_count": 26,
   "metadata": {},
   "outputs": [],
   "source": [
    "X_train, X_test, y_train, y_test = train_test_split(X, y, test_size=0.3, random_state=1)"
   ]
  },
  {
   "cell_type": "code",
   "execution_count": 27,
   "metadata": {},
   "outputs": [
    {
     "data": {
      "text/html": [
       "<div>\n",
       "<style scoped>\n",
       "    .dataframe tbody tr th:only-of-type {\n",
       "        vertical-align: middle;\n",
       "    }\n",
       "\n",
       "    .dataframe tbody tr th {\n",
       "        vertical-align: top;\n",
       "    }\n",
       "\n",
       "    .dataframe thead th {\n",
       "        text-align: right;\n",
       "    }\n",
       "</style>\n",
       "<table border=\"1\" class=\"dataframe\">\n",
       "  <thead>\n",
       "    <tr style=\"text-align: right;\">\n",
       "      <th></th>\n",
       "      <th>volume</th>\n",
       "      <th>HL_PCT</th>\n",
       "      <th>PCT_change</th>\n",
       "      <th>close -1</th>\n",
       "      <th>close -2</th>\n",
       "      <th>close -3</th>\n",
       "    </tr>\n",
       "    <tr>\n",
       "      <th>date</th>\n",
       "      <th></th>\n",
       "      <th></th>\n",
       "      <th></th>\n",
       "      <th></th>\n",
       "      <th></th>\n",
       "      <th></th>\n",
       "    </tr>\n",
       "  </thead>\n",
       "  <tbody>\n",
       "    <tr>\n",
       "      <th>2019-05-23</th>\n",
       "      <td>1973403.12</td>\n",
       "      <td>1.338466</td>\n",
       "      <td>-0.983047</td>\n",
       "      <td>2852.99</td>\n",
       "      <td>2892.38</td>\n",
       "      <td>2909.91</td>\n",
       "    </tr>\n",
       "    <tr>\n",
       "      <th>2019-10-23</th>\n",
       "      <td>1238128.75</td>\n",
       "      <td>0.770664</td>\n",
       "      <td>-0.384359</td>\n",
       "      <td>2940.92</td>\n",
       "      <td>2954.93</td>\n",
       "      <td>2980.05</td>\n",
       "    </tr>\n",
       "    <tr>\n",
       "      <th>2020-02-19</th>\n",
       "      <td>3151411.50</td>\n",
       "      <td>0.888956</td>\n",
       "      <td>-0.138277</td>\n",
       "      <td>3030.15</td>\n",
       "      <td>3039.67</td>\n",
       "      <td>3031.23</td>\n",
       "    </tr>\n",
       "    <tr>\n",
       "      <th>2018-11-02</th>\n",
       "      <td>2250269.25</td>\n",
       "      <td>1.778829</td>\n",
       "      <td>1.027838</td>\n",
       "      <td>2665.43</td>\n",
       "      <td>2659.36</td>\n",
       "      <td>2641.34</td>\n",
       "    </tr>\n",
       "    <tr>\n",
       "      <th>2018-11-27</th>\n",
       "      <td>1236584.38</td>\n",
       "      <td>1.024205</td>\n",
       "      <td>-0.431196</td>\n",
       "      <td>2601.74</td>\n",
       "      <td>2567.44</td>\n",
       "      <td>2588.19</td>\n",
       "    </tr>\n",
       "    <tr>\n",
       "      <th>2019-12-03</th>\n",
       "      <td>1237787.38</td>\n",
       "      <td>0.954692</td>\n",
       "      <td>0.516398</td>\n",
       "      <td>2878.12</td>\n",
       "      <td>2899.47</td>\n",
       "      <td>2912.01</td>\n",
       "    </tr>\n",
       "    <tr>\n",
       "      <th>2020-03-16</th>\n",
       "      <td>3518786.75</td>\n",
       "      <td>4.064533</td>\n",
       "      <td>-3.729334</td>\n",
       "      <td>2779.64</td>\n",
       "      <td>2728.76</td>\n",
       "      <td>2702.13</td>\n",
       "    </tr>\n",
       "    <tr>\n",
       "      <th>2019-08-28</th>\n",
       "      <td>1830979.00</td>\n",
       "      <td>0.636888</td>\n",
       "      <td>-0.271227</td>\n",
       "      <td>2890.92</td>\n",
       "      <td>2886.24</td>\n",
       "      <td>2924.11</td>\n",
       "    </tr>\n",
       "    <tr>\n",
       "      <th>2019-01-15</th>\n",
       "      <td>1602655.25</td>\n",
       "      <td>1.520032</td>\n",
       "      <td>1.299377</td>\n",
       "      <td>2570.42</td>\n",
       "      <td>2559.64</td>\n",
       "      <td>2596.01</td>\n",
       "    </tr>\n",
       "    <tr>\n",
       "      <th>2019-07-24</th>\n",
       "      <td>1552457.62</td>\n",
       "      <td>0.980406</td>\n",
       "      <td>0.527867</td>\n",
       "      <td>2937.36</td>\n",
       "      <td>2944.54</td>\n",
       "      <td>2941.01</td>\n",
       "    </tr>\n",
       "    <tr>\n",
       "      <th>2020-04-10</th>\n",
       "      <td>2334547.75</td>\n",
       "      <td>1.538638</td>\n",
       "      <td>-1.080932</td>\n",
       "      <td>2783.05</td>\n",
       "      <td>2827.28</td>\n",
       "      <td>2811.17</td>\n",
       "    </tr>\n",
       "    <tr>\n",
       "      <th>2018-09-28</th>\n",
       "      <td>1342904.50</td>\n",
       "      <td>1.060485</td>\n",
       "      <td>0.969487</td>\n",
       "      <td>2716.51</td>\n",
       "      <td>2721.01</td>\n",
       "      <td>2725.84</td>\n",
       "    </tr>\n",
       "    <tr>\n",
       "      <th>2019-06-24</th>\n",
       "      <td>2104939.00</td>\n",
       "      <td>0.612004</td>\n",
       "      <td>0.128483</td>\n",
       "      <td>2982.07</td>\n",
       "      <td>2976.28</td>\n",
       "      <td>2996.79</td>\n",
       "    </tr>\n",
       "    <tr>\n",
       "      <th>2018-11-08</th>\n",
       "      <td>1596354.88</td>\n",
       "      <td>1.140904</td>\n",
       "      <td>-0.919518</td>\n",
       "      <td>2598.87</td>\n",
       "      <td>2630.52</td>\n",
       "      <td>2654.88</td>\n",
       "    </tr>\n",
       "    <tr>\n",
       "      <th>2019-04-29</th>\n",
       "      <td>2921148.75</td>\n",
       "      <td>1.885061</td>\n",
       "      <td>-0.910170</td>\n",
       "      <td>3078.34</td>\n",
       "      <td>2906.46</td>\n",
       "      <td>2926.39</td>\n",
       "    </tr>\n",
       "    <tr>\n",
       "      <th>2018-07-04</th>\n",
       "      <td>1232621.75</td>\n",
       "      <td>1.414214</td>\n",
       "      <td>-0.630260</td>\n",
       "      <td>2733.88</td>\n",
       "      <td>2747.23</td>\n",
       "      <td>2815.11</td>\n",
       "    </tr>\n",
       "    <tr>\n",
       "      <th>2020-02-25</th>\n",
       "      <td>4416227.50</td>\n",
       "      <td>2.430428</td>\n",
       "      <td>1.038876</td>\n",
       "      <td>2987.93</td>\n",
       "      <td>2991.33</td>\n",
       "      <td>2880.30</td>\n",
       "    </tr>\n",
       "    <tr>\n",
       "      <th>2018-06-14</th>\n",
       "      <td>1154694.88</td>\n",
       "      <td>1.105067</td>\n",
       "      <td>0.200456</td>\n",
       "      <td>3021.90</td>\n",
       "      <td>2907.82</td>\n",
       "      <td>2915.73</td>\n",
       "    </tr>\n",
       "    <tr>\n",
       "      <th>2020-09-10</th>\n",
       "      <td>3124728.00</td>\n",
       "      <td>1.787735</td>\n",
       "      <td>-1.444445</td>\n",
       "      <td>3260.35</td>\n",
       "      <td>3278.81</td>\n",
       "      <td>3295.68</td>\n",
       "    </tr>\n",
       "    <tr>\n",
       "      <th>2019-08-14</th>\n",
       "      <td>1440146.38</td>\n",
       "      <td>0.789274</td>\n",
       "      <td>-0.551604</td>\n",
       "      <td>2815.80</td>\n",
       "      <td>2823.82</td>\n",
       "      <td>2883.10</td>\n",
       "    </tr>\n",
       "    <tr>\n",
       "      <th>2020-09-03</th>\n",
       "      <td>2553462.75</td>\n",
       "      <td>1.517587</td>\n",
       "      <td>-0.559631</td>\n",
       "      <td>3355.37</td>\n",
       "      <td>3292.59</td>\n",
       "      <td>3316.42</td>\n",
       "    </tr>\n",
       "    <tr>\n",
       "      <th>2019-07-16</th>\n",
       "      <td>1318117.50</td>\n",
       "      <td>0.460577</td>\n",
       "      <td>-0.034710</td>\n",
       "      <td>2931.69</td>\n",
       "      <td>2901.18</td>\n",
       "      <td>2924.20</td>\n",
       "    </tr>\n",
       "    <tr>\n",
       "      <th>2018-06-05</th>\n",
       "      <td>1187355.88</td>\n",
       "      <td>1.114889</td>\n",
       "      <td>0.848443</td>\n",
       "      <td>3115.18</td>\n",
       "      <td>3109.50</td>\n",
       "      <td>3067.15</td>\n",
       "    </tr>\n",
       "    <tr>\n",
       "      <th>2019-06-13</th>\n",
       "      <td>2129578.00</td>\n",
       "      <td>1.116555</td>\n",
       "      <td>0.187589</td>\n",
       "      <td>2881.97</td>\n",
       "      <td>2887.62</td>\n",
       "      <td>2890.16</td>\n",
       "    </tr>\n",
       "    <tr>\n",
       "      <th>2020-06-30</th>\n",
       "      <td>2149572.25</td>\n",
       "      <td>0.861737</td>\n",
       "      <td>0.659672</td>\n",
       "      <td>3025.98</td>\n",
       "      <td>3090.57</td>\n",
       "      <td>3152.81</td>\n",
       "    </tr>\n",
       "    <tr>\n",
       "      <th>2018-08-23</th>\n",
       "      <td>984464.69</td>\n",
       "      <td>1.292290</td>\n",
       "      <td>0.359133</td>\n",
       "      <td>2729.43</td>\n",
       "      <td>2780.90</td>\n",
       "      <td>2777.98</td>\n",
       "    </tr>\n",
       "    <tr>\n",
       "      <th>2018-06-29</th>\n",
       "      <td>1256716.88</td>\n",
       "      <td>2.317537</td>\n",
       "      <td>2.065015</td>\n",
       "      <td>2775.56</td>\n",
       "      <td>2786.89</td>\n",
       "      <td>2759.13</td>\n",
       "    </tr>\n",
       "    <tr>\n",
       "      <th>2018-11-16</th>\n",
       "      <td>2421988.50</td>\n",
       "      <td>1.438537</td>\n",
       "      <td>0.349467</td>\n",
       "      <td>2703.51</td>\n",
       "      <td>2645.85</td>\n",
       "      <td>2651.51</td>\n",
       "    </tr>\n",
       "    <tr>\n",
       "      <th>2019-12-16</th>\n",
       "      <td>2118621.25</td>\n",
       "      <td>0.868854</td>\n",
       "      <td>0.451704</td>\n",
       "      <td>3022.42</td>\n",
       "      <td>3017.04</td>\n",
       "      <td>3017.07</td>\n",
       "    </tr>\n",
       "    <tr>\n",
       "      <th>2018-05-28</th>\n",
       "      <td>1287559.12</td>\n",
       "      <td>1.074933</td>\n",
       "      <td>-0.055152</td>\n",
       "      <td>3120.46</td>\n",
       "      <td>3041.44</td>\n",
       "      <td>3095.47</td>\n",
       "    </tr>\n",
       "    <tr>\n",
       "      <th>...</th>\n",
       "      <td>...</td>\n",
       "      <td>...</td>\n",
       "      <td>...</td>\n",
       "      <td>...</td>\n",
       "      <td>...</td>\n",
       "      <td>...</td>\n",
       "    </tr>\n",
       "    <tr>\n",
       "      <th>2019-11-13</th>\n",
       "      <td>1297658.38</td>\n",
       "      <td>0.684625</td>\n",
       "      <td>-0.267077</td>\n",
       "      <td>2909.87</td>\n",
       "      <td>2891.34</td>\n",
       "      <td>2909.20</td>\n",
       "    </tr>\n",
       "    <tr>\n",
       "      <th>2019-06-06</th>\n",
       "      <td>1770644.12</td>\n",
       "      <td>1.419478</td>\n",
       "      <td>-1.206360</td>\n",
       "      <td>2852.13</td>\n",
       "      <td>2925.72</td>\n",
       "      <td>2909.38</td>\n",
       "    </tr>\n",
       "    <tr>\n",
       "      <th>2018-08-10</th>\n",
       "      <td>1215322.38</td>\n",
       "      <td>1.023142</td>\n",
       "      <td>0.140073</td>\n",
       "      <td>2785.87</td>\n",
       "      <td>2780.96</td>\n",
       "      <td>2723.26</td>\n",
       "    </tr>\n",
       "    <tr>\n",
       "      <th>2019-06-12</th>\n",
       "      <td>2402557.75</td>\n",
       "      <td>0.715616</td>\n",
       "      <td>-0.268749</td>\n",
       "      <td>2910.74</td>\n",
       "      <td>2881.97</td>\n",
       "      <td>2887.62</td>\n",
       "    </tr>\n",
       "    <tr>\n",
       "      <th>2018-07-12</th>\n",
       "      <td>1469802.00</td>\n",
       "      <td>2.577828</td>\n",
       "      <td>2.404152</td>\n",
       "      <td>2831.18</td>\n",
       "      <td>2814.04</td>\n",
       "      <td>2798.13</td>\n",
       "    </tr>\n",
       "    <tr>\n",
       "      <th>2019-06-03</th>\n",
       "      <td>2159435.50</td>\n",
       "      <td>1.554628</td>\n",
       "      <td>-0.401828</td>\n",
       "      <td>2862.28</td>\n",
       "      <td>2861.42</td>\n",
       "      <td>2827.80</td>\n",
       "    </tr>\n",
       "    <tr>\n",
       "      <th>2020-09-09</th>\n",
       "      <td>3515097.50</td>\n",
       "      <td>1.568535</td>\n",
       "      <td>-0.803718</td>\n",
       "      <td>3234.82</td>\n",
       "      <td>3260.35</td>\n",
       "      <td>3278.81</td>\n",
       "    </tr>\n",
       "    <tr>\n",
       "      <th>2019-02-13</th>\n",
       "      <td>2437940.00</td>\n",
       "      <td>2.225595</td>\n",
       "      <td>1.740499</td>\n",
       "      <td>2719.70</td>\n",
       "      <td>2682.39</td>\n",
       "      <td>2754.36</td>\n",
       "    </tr>\n",
       "    <tr>\n",
       "      <th>2020-02-26</th>\n",
       "      <td>4690495.50</td>\n",
       "      <td>1.801916</td>\n",
       "      <td>0.319297</td>\n",
       "      <td>2991.33</td>\n",
       "      <td>2880.30</td>\n",
       "      <td>2970.93</td>\n",
       "    </tr>\n",
       "    <tr>\n",
       "      <th>2020-05-19</th>\n",
       "      <td>1972224.00</td>\n",
       "      <td>0.436076</td>\n",
       "      <td>0.030714</td>\n",
       "      <td>2883.74</td>\n",
       "      <td>2867.92</td>\n",
       "      <td>2813.77</td>\n",
       "    </tr>\n",
       "    <tr>\n",
       "      <th>2018-10-08</th>\n",
       "      <td>1495013.88</td>\n",
       "      <td>2.273505</td>\n",
       "      <td>-1.867633</td>\n",
       "      <td>2721.01</td>\n",
       "      <td>2725.84</td>\n",
       "      <td>2583.46</td>\n",
       "    </tr>\n",
       "    <tr>\n",
       "      <th>2018-08-24</th>\n",
       "      <td>1005162.69</td>\n",
       "      <td>1.593739</td>\n",
       "      <td>0.454532</td>\n",
       "      <td>2780.90</td>\n",
       "      <td>2777.98</td>\n",
       "      <td>2769.29</td>\n",
       "    </tr>\n",
       "    <tr>\n",
       "      <th>2019-11-05</th>\n",
       "      <td>1798915.88</td>\n",
       "      <td>1.346455</td>\n",
       "      <td>0.465460</td>\n",
       "      <td>2978.60</td>\n",
       "      <td>2978.71</td>\n",
       "      <td>2964.18</td>\n",
       "    </tr>\n",
       "    <tr>\n",
       "      <th>2018-06-01</th>\n",
       "      <td>1298722.00</td>\n",
       "      <td>1.375547</td>\n",
       "      <td>-0.311533</td>\n",
       "      <td>3091.19</td>\n",
       "      <td>3114.21</td>\n",
       "      <td>3115.18</td>\n",
       "    </tr>\n",
       "    <tr>\n",
       "      <th>2019-01-30</th>\n",
       "      <td>1205025.75</td>\n",
       "      <td>0.908921</td>\n",
       "      <td>-0.354773</td>\n",
       "      <td>2584.57</td>\n",
       "      <td>2618.23</td>\n",
       "      <td>2653.90</td>\n",
       "    </tr>\n",
       "    <tr>\n",
       "      <th>2018-09-12</th>\n",
       "      <td>900267.56</td>\n",
       "      <td>0.937461</td>\n",
       "      <td>-0.136480</td>\n",
       "      <td>2686.58</td>\n",
       "      <td>2681.64</td>\n",
       "      <td>2651.79</td>\n",
       "    </tr>\n",
       "    <tr>\n",
       "      <th>2019-09-05</th>\n",
       "      <td>3054387.00</td>\n",
       "      <td>1.446150</td>\n",
       "      <td>0.444047</td>\n",
       "      <td>2999.60</td>\n",
       "      <td>3024.74</td>\n",
       "      <td>3021.20</td>\n",
       "    </tr>\n",
       "    <tr>\n",
       "      <th>2018-10-22</th>\n",
       "      <td>2118884.50</td>\n",
       "      <td>4.134650</td>\n",
       "      <td>3.478274</td>\n",
       "      <td>2594.83</td>\n",
       "      <td>2603.30</td>\n",
       "      <td>2603.80</td>\n",
       "    </tr>\n",
       "    <tr>\n",
       "      <th>2019-04-04</th>\n",
       "      <td>4691176.50</td>\n",
       "      <td>1.148597</td>\n",
       "      <td>0.398307</td>\n",
       "      <td>3244.81</td>\n",
       "      <td>3239.66</td>\n",
       "      <td>3241.93</td>\n",
       "    </tr>\n",
       "    <tr>\n",
       "      <th>2019-09-03</th>\n",
       "      <td>1890012.12</td>\n",
       "      <td>0.510213</td>\n",
       "      <td>0.143885</td>\n",
       "      <td>2957.41</td>\n",
       "      <td>2985.86</td>\n",
       "      <td>2999.60</td>\n",
       "    </tr>\n",
       "    <tr>\n",
       "      <th>2019-08-02</th>\n",
       "      <td>1848884.38</td>\n",
       "      <td>0.733305</td>\n",
       "      <td>0.227517</td>\n",
       "      <td>2821.50</td>\n",
       "      <td>2777.56</td>\n",
       "      <td>2768.68</td>\n",
       "    </tr>\n",
       "    <tr>\n",
       "      <th>2019-12-26</th>\n",
       "      <td>1824404.25</td>\n",
       "      <td>0.896138</td>\n",
       "      <td>0.875472</td>\n",
       "      <td>3005.04</td>\n",
       "      <td>3040.02</td>\n",
       "      <td>3050.12</td>\n",
       "    </tr>\n",
       "    <tr>\n",
       "      <th>2019-07-26</th>\n",
       "      <td>1393433.88</td>\n",
       "      <td>0.810993</td>\n",
       "      <td>0.562830</td>\n",
       "      <td>2941.01</td>\n",
       "      <td>2952.34</td>\n",
       "      <td>2932.51</td>\n",
       "    </tr>\n",
       "    <tr>\n",
       "      <th>2019-02-18</th>\n",
       "      <td>2604360.00</td>\n",
       "      <td>1.980133</td>\n",
       "      <td>2.020135</td>\n",
       "      <td>2755.65</td>\n",
       "      <td>2761.22</td>\n",
       "      <td>2751.80</td>\n",
       "    </tr>\n",
       "    <tr>\n",
       "      <th>2018-08-17</th>\n",
       "      <td>1124453.00</td>\n",
       "      <td>2.425655</td>\n",
       "      <td>-2.016234</td>\n",
       "      <td>2698.47</td>\n",
       "      <td>2733.83</td>\n",
       "      <td>2714.61</td>\n",
       "    </tr>\n",
       "    <tr>\n",
       "      <th>2020-03-13</th>\n",
       "      <td>3664504.25</td>\n",
       "      <td>3.840786</td>\n",
       "      <td>2.966946</td>\n",
       "      <td>2789.25</td>\n",
       "      <td>2779.64</td>\n",
       "      <td>2728.76</td>\n",
       "    </tr>\n",
       "    <tr>\n",
       "      <th>2020-02-21</th>\n",
       "      <td>3645572.75</td>\n",
       "      <td>1.275138</td>\n",
       "      <td>0.576392</td>\n",
       "      <td>3031.23</td>\n",
       "      <td>3013.05</td>\n",
       "      <td>2987.93</td>\n",
       "    </tr>\n",
       "    <tr>\n",
       "      <th>2020-06-08</th>\n",
       "      <td>2311243.50</td>\n",
       "      <td>0.539865</td>\n",
       "      <td>-0.143101</td>\n",
       "      <td>2956.11</td>\n",
       "      <td>2943.75</td>\n",
       "      <td>2920.90</td>\n",
       "    </tr>\n",
       "    <tr>\n",
       "      <th>2019-10-08</th>\n",
       "      <td>1255358.12</td>\n",
       "      <td>0.935622</td>\n",
       "      <td>0.268776</td>\n",
       "      <td>2924.86</td>\n",
       "      <td>2947.71</td>\n",
       "      <td>2973.66</td>\n",
       "    </tr>\n",
       "    <tr>\n",
       "      <th>2020-07-29</th>\n",
       "      <td>3249240.50</td>\n",
       "      <td>2.566663</td>\n",
       "      <td>2.252024</td>\n",
       "      <td>3286.82</td>\n",
       "      <td>3310.01</td>\n",
       "      <td>3367.97</td>\n",
       "    </tr>\n",
       "  </tbody>\n",
       "</table>\n",
       "<p>409 rows × 6 columns</p>\n",
       "</div>"
      ],
      "text/plain": [
       "                volume    HL_PCT  PCT_change  close -1  close -2  close -3\n",
       "date                                                                      \n",
       "2019-05-23  1973403.12  1.338466   -0.983047   2852.99   2892.38   2909.91\n",
       "2019-10-23  1238128.75  0.770664   -0.384359   2940.92   2954.93   2980.05\n",
       "2020-02-19  3151411.50  0.888956   -0.138277   3030.15   3039.67   3031.23\n",
       "2018-11-02  2250269.25  1.778829    1.027838   2665.43   2659.36   2641.34\n",
       "2018-11-27  1236584.38  1.024205   -0.431196   2601.74   2567.44   2588.19\n",
       "2019-12-03  1237787.38  0.954692    0.516398   2878.12   2899.47   2912.01\n",
       "2020-03-16  3518786.75  4.064533   -3.729334   2779.64   2728.76   2702.13\n",
       "2019-08-28  1830979.00  0.636888   -0.271227   2890.92   2886.24   2924.11\n",
       "2019-01-15  1602655.25  1.520032    1.299377   2570.42   2559.64   2596.01\n",
       "2019-07-24  1552457.62  0.980406    0.527867   2937.36   2944.54   2941.01\n",
       "2020-04-10  2334547.75  1.538638   -1.080932   2783.05   2827.28   2811.17\n",
       "2018-09-28  1342904.50  1.060485    0.969487   2716.51   2721.01   2725.84\n",
       "2019-06-24  2104939.00  0.612004    0.128483   2982.07   2976.28   2996.79\n",
       "2018-11-08  1596354.88  1.140904   -0.919518   2598.87   2630.52   2654.88\n",
       "2019-04-29  2921148.75  1.885061   -0.910170   3078.34   2906.46   2926.39\n",
       "2018-07-04  1232621.75  1.414214   -0.630260   2733.88   2747.23   2815.11\n",
       "2020-02-25  4416227.50  2.430428    1.038876   2987.93   2991.33   2880.30\n",
       "2018-06-14  1154694.88  1.105067    0.200456   3021.90   2907.82   2915.73\n",
       "2020-09-10  3124728.00  1.787735   -1.444445   3260.35   3278.81   3295.68\n",
       "2019-08-14  1440146.38  0.789274   -0.551604   2815.80   2823.82   2883.10\n",
       "2020-09-03  2553462.75  1.517587   -0.559631   3355.37   3292.59   3316.42\n",
       "2019-07-16  1318117.50  0.460577   -0.034710   2931.69   2901.18   2924.20\n",
       "2018-06-05  1187355.88  1.114889    0.848443   3115.18   3109.50   3067.15\n",
       "2019-06-13  2129578.00  1.116555    0.187589   2881.97   2887.62   2890.16\n",
       "2020-06-30  2149572.25  0.861737    0.659672   3025.98   3090.57   3152.81\n",
       "2018-08-23   984464.69  1.292290    0.359133   2729.43   2780.90   2777.98\n",
       "2018-06-29  1256716.88  2.317537    2.065015   2775.56   2786.89   2759.13\n",
       "2018-11-16  2421988.50  1.438537    0.349467   2703.51   2645.85   2651.51\n",
       "2019-12-16  2118621.25  0.868854    0.451704   3022.42   3017.04   3017.07\n",
       "2018-05-28  1287559.12  1.074933   -0.055152   3120.46   3041.44   3095.47\n",
       "...                ...       ...         ...       ...       ...       ...\n",
       "2019-11-13  1297658.38  0.684625   -0.267077   2909.87   2891.34   2909.20\n",
       "2019-06-06  1770644.12  1.419478   -1.206360   2852.13   2925.72   2909.38\n",
       "2018-08-10  1215322.38  1.023142    0.140073   2785.87   2780.96   2723.26\n",
       "2019-06-12  2402557.75  0.715616   -0.268749   2910.74   2881.97   2887.62\n",
       "2018-07-12  1469802.00  2.577828    2.404152   2831.18   2814.04   2798.13\n",
       "2019-06-03  2159435.50  1.554628   -0.401828   2862.28   2861.42   2827.80\n",
       "2020-09-09  3515097.50  1.568535   -0.803718   3234.82   3260.35   3278.81\n",
       "2019-02-13  2437940.00  2.225595    1.740499   2719.70   2682.39   2754.36\n",
       "2020-02-26  4690495.50  1.801916    0.319297   2991.33   2880.30   2970.93\n",
       "2020-05-19  1972224.00  0.436076    0.030714   2883.74   2867.92   2813.77\n",
       "2018-10-08  1495013.88  2.273505   -1.867633   2721.01   2725.84   2583.46\n",
       "2018-08-24  1005162.69  1.593739    0.454532   2780.90   2777.98   2769.29\n",
       "2019-11-05  1798915.88  1.346455    0.465460   2978.60   2978.71   2964.18\n",
       "2018-06-01  1298722.00  1.375547   -0.311533   3091.19   3114.21   3115.18\n",
       "2019-01-30  1205025.75  0.908921   -0.354773   2584.57   2618.23   2653.90\n",
       "2018-09-12   900267.56  0.937461   -0.136480   2686.58   2681.64   2651.79\n",
       "2019-09-05  3054387.00  1.446150    0.444047   2999.60   3024.74   3021.20\n",
       "2018-10-22  2118884.50  4.134650    3.478274   2594.83   2603.30   2603.80\n",
       "2019-04-04  4691176.50  1.148597    0.398307   3244.81   3239.66   3241.93\n",
       "2019-09-03  1890012.12  0.510213    0.143885   2957.41   2985.86   2999.60\n",
       "2019-08-02  1848884.38  0.733305    0.227517   2821.50   2777.56   2768.68\n",
       "2019-12-26  1824404.25  0.896138    0.875472   3005.04   3040.02   3050.12\n",
       "2019-07-26  1393433.88  0.810993    0.562830   2941.01   2952.34   2932.51\n",
       "2019-02-18  2604360.00  1.980133    2.020135   2755.65   2761.22   2751.80\n",
       "2018-08-17  1124453.00  2.425655   -2.016234   2698.47   2733.83   2714.61\n",
       "2020-03-13  3664504.25  3.840786    2.966946   2789.25   2779.64   2728.76\n",
       "2020-02-21  3645572.75  1.275138    0.576392   3031.23   3013.05   2987.93\n",
       "2020-06-08  2311243.50  0.539865   -0.143101   2956.11   2943.75   2920.90\n",
       "2019-10-08  1255358.12  0.935622    0.268776   2924.86   2947.71   2973.66\n",
       "2020-07-29  3249240.50  2.566663    2.252024   3286.82   3310.01   3367.97\n",
       "\n",
       "[409 rows x 6 columns]"
      ]
     },
     "execution_count": 27,
     "metadata": {},
     "output_type": "execute_result"
    }
   ],
   "source": [
    "X_train"
   ]
  },
  {
   "cell_type": "markdown",
   "metadata": {},
   "source": [
    "### 3.2神经网络模型"
   ]
  },
  {
   "cell_type": "markdown",
   "metadata": {},
   "source": [
    "### 3.2.1 模型简介\n",
    "多层神经网络是一个在输入和输出层之间具有一层或多层的神经元前馈网络。用于多层神经网络的BP算法包含正向传播和反向传播过程。在正向传播过程中，样本输入值从输入层经隐单元层传递到输出层，然后进行误差反向传播过程，即将误差逐层传递到输入层，通过改变各神经元间的权值使得样本点的实际输出值和期望输出值间误差渐渐减少神经网络是一种非线性学习算法"
   ]
  },
  {
   "cell_type": "markdown",
   "metadata": {},
   "source": [
    "### 3.2.2 建模步骤"
   ]
  },
  {
   "cell_type": "markdown",
   "metadata": {},
   "source": [
    "### 3.3 随机森林"
   ]
  },
  {
   "cell_type": "markdown",
   "metadata": {},
   "source": [
    "随机森林是一种集成算法（Ensemble Learning），它属于Bagging类型，通过组合多个弱分类器，最终结果通过投票或取均值，使得整体模型的结果具有较高的精确度和泛化性能。其可以取得不错成绩，主要归功于“随机”和“森林”，一个使它具有抗过拟合能力，一个使它更加精准。"
   ]
  },
  {
   "cell_type": "markdown",
   "metadata": {},
   "source": [
    "### Bagging"
   ]
  },
  {
   "cell_type": "markdown",
   "metadata": {},
   "source": [
    "Bagging也叫自举汇聚法（bootstrap aggregating），是一种在原始数据集上通过有放回抽样重新选出k个新数据集来训练分类器的集成技术。它使用训练出来的分类器的集合来对新样本进行分类，然后用多数投票或者对输出求均值的方法统计所有分类器的分类结果，结果最高的类别即为最终标签。此类算法可以有效降低bias，并能够降低variance。"
   ]
  },
  {
   "cell_type": "markdown",
   "metadata": {},
   "source": [
    "【自助法】它通过自助法（bootstrap）重采样技术，从训练集里面采集固定个数的样本，但是每采集一个样本后，都将样本放回。也就是说，之前采集到的样本在放回后有可能继续被采集到。  \n",
    "【OOB】在Bagging的每轮随机采样中，训练集中大约有36.8%的数据没有被采样集采集中。对于这部分没采集到的数据，我们常常称之为袋外数据(Out Of Bag，简称OOB)。这些数据没有参与训练集模型的拟合，因此可以用来检测模型的泛化能力。  \n",
    "【随机性】对于我们的Bagging算法，一般会对样本使用boostrap进行随机采集，每棵树采集相同的样本数量，一般小于原始样本量。这样得到的采样集每次的内容都不同，通过这样的自助法生成k个分类树组成随机森林，做到样本随机性。  \n",
    "【输出】Bagging的集合策略也比较简单，对于分类问题，通常使用简单投票法，得到最多票数的类别或者类别之一为最终的模型输出。对于回归问题，通常使用简单平均法，对T个弱学习器得到的回归结果进行算术平均得到最终的模型输出。"
   ]
  },
  {
   "cell_type": "markdown",
   "metadata": {},
   "source": [
    "随机森林(Random Forest，RF）是Bagging算法的一种，其实在介绍完Bagging算法之后，随机森林几乎是呼之欲出的，RF相对于Bagging只是对其中一些细节做了自己的规定和设计。"
   ]
  },
  {
   "cell_type": "markdown",
   "metadata": {},
   "source": [
    "【弱分类器】首先，RF使用了CART决策树作为弱学习器。换句话说，其实我们只是将使用CART决策树作为弱学习器的Bagging方法称为随机森林。  \n",
    "【随机性】同时，在生成每棵树的时候，每个树选取的特征都仅仅是随机选出的少数特征，一般默认取特征总数m的开方。而一般的CART树则是会选取全部的特征进行建模。因此，不但特征是随机的，也保证了特征随机性。  \n",
    "【样本量】相对于一般的Bagging算法，RF会选择采集和训练集样本数N一样个数的样本。  \n",
    "【特点】由于随机性，对于降低模型的方差很有作用，故随机森林一般不需要额外做剪枝，即可以取得较好的泛化能力和抗过拟合能力（Low Variance）。当然对于训练集的拟合程度就会差一些，也就是模型的偏倚会大一些（High Bias），仅仅是相对的。"
   ]
  },
  {
   "cell_type": "markdown",
   "metadata": {},
   "source": [
    "### 3.3.2 建模"
   ]
  },
  {
   "cell_type": "markdown",
   "metadata": {},
   "source": [
    "1、默认参数条件下建模"
   ]
  },
  {
   "cell_type": "markdown",
   "metadata": {},
   "source": [
    "（1）建立模型"
   ]
  },
  {
   "cell_type": "code",
   "execution_count": 28,
   "metadata": {},
   "outputs": [
    {
     "name": "stderr",
     "output_type": "stream",
     "text": [
      "/opt/conda/lib/python3.6/site-packages/sklearn/ensemble/weight_boosting.py:29: DeprecationWarning: numpy.core.umath_tests is an internal NumPy module and should not be imported. It will be removed in a future NumPy release.\n",
      "  from numpy.core.umath_tests import inner1d\n"
     ]
    }
   ],
   "source": [
    "from sklearn.ensemble import RandomForestRegressor\n",
    "\n",
    "reg_rf0 = RandomForestRegressor(random_state=10,n_estimators=100, min_samples_leaf=70)"
   ]
  },
  {
   "cell_type": "markdown",
   "metadata": {},
   "source": [
    "(2)拟合数据"
   ]
  },
  {
   "cell_type": "code",
   "execution_count": 29,
   "metadata": {},
   "outputs": [
    {
     "data": {
      "text/plain": [
       "RandomForestRegressor(bootstrap=True, criterion='mse', max_depth=None,\n",
       "           max_features='auto', max_leaf_nodes=None,\n",
       "           min_impurity_decrease=0.0, min_impurity_split=None,\n",
       "           min_samples_leaf=70, min_samples_split=2,\n",
       "           min_weight_fraction_leaf=0.0, n_estimators=100, n_jobs=1,\n",
       "           oob_score=False, random_state=10, verbose=0, warm_start=False)"
      ]
     },
     "execution_count": 29,
     "metadata": {},
     "output_type": "execute_result"
    }
   ],
   "source": [
    "reg_rf0.fit(X_train,y_train)"
   ]
  },
  {
   "cell_type": "markdown",
   "metadata": {},
   "source": [
    "(3)预测"
   ]
  },
  {
   "cell_type": "code",
   "execution_count": 30,
   "metadata": {},
   "outputs": [],
   "source": [
    "pred_test_rf0  = reg_rf0.predict(X_test)\n",
    "pred_train_rf0  = reg_rf0.predict(X_train)\n",
    "mse_test = ((((pred_test_rf0 - y_test)/y_test)**2).mean())**0.5\n",
    "mse_train = ((((pred_train_rf0 - y_train)/y_train)**2).mean())**0.5"
   ]
  },
  {
   "cell_type": "code",
   "execution_count": 31,
   "metadata": {
    "scrolled": true
   },
   "outputs": [
    {
     "data": {
      "text/plain": [
       "0.03449098934347578"
      ]
     },
     "execution_count": 31,
     "metadata": {},
     "output_type": "execute_result"
    }
   ],
   "source": [
    "mse_test"
   ]
  },
  {
   "cell_type": "code",
   "execution_count": 32,
   "metadata": {
    "scrolled": true
   },
   "outputs": [
    {
     "data": {
      "text/plain": [
       "0.03449098934347578"
      ]
     },
     "execution_count": 32,
     "metadata": {},
     "output_type": "execute_result"
    }
   ],
   "source": [
    "mse_test"
   ]
  },
  {
   "cell_type": "code",
   "execution_count": 33,
   "metadata": {},
   "outputs": [
    {
     "name": "stderr",
     "output_type": "stream",
     "text": [
      "/opt/conda/lib/python3.6/site-packages/pandas/plotting/_core.py:402: UserWarning: FixedFormatter should only be used together with FixedLocator\n",
      "  ax.set_xticklabels(xticklabels)\n",
      "/opt/conda/lib/python3.6/site-packages/pandas/plotting/_core.py:402: UserWarning: FixedFormatter should only be used together with FixedLocator\n",
      "  ax.set_xticklabels(xticklabels)\n"
     ]
    },
    {
     "data": {
      "text/plain": [
       "<matplotlib.legend.Legend at 0x7f4ed8345ef0>"
      ]
     },
     "execution_count": 33,
     "metadata": {},
     "output_type": "execute_result"
    },
    {
     "data": {
      "image/png": "[encoded data removed]",
      "text/plain": [
       "<Figure size 576x576 with 1 Axes>"
      ]
     },
     "metadata": {
      "needs_background": "light"
     },
     "output_type": "display_data"
    }
   ],
   "source": [
    "pred_test_rf0 = Series(pred_test_rf0, index = y_test.index)\n",
    "y_test.plot(label='sh')\n",
    "pred_test_rf0.plot(label = 'rf')\n",
    "plt.ylim(2500, 3600)\n",
    "plt.legend()"
   ]
  },
  {
   "cell_type": "markdown",
   "metadata": {},
   "source": [
    "#### 可见参数调整后模型精度有相应的提升"
   ]
  },
  {
   "cell_type": "markdown",
   "metadata": {},
   "source": [
    "### 3.4 SVM算法"
   ]
  },
  {
   "cell_type": "markdown",
   "metadata": {},
   "source": [
    "#### 3.4.1 模型简介"
   ]
  },
  {
   "cell_type": "markdown",
   "metadata": {},
   "source": [
    "支持向量的目标就是找到一个分割面能够将两类给区分开来，同时和两类中离分割面最近的那些样本点保持最大的距离。这里有两个间隔：函数间隔和几何间隔（具体课看统计学习方法这本书中的方程式进行理解）"
   ]
  },
  {
   "cell_type": "markdown",
   "metadata": {},
   "source": [
    "#### 3.4.2 建模"
   ]
  },
  {
   "cell_type": "markdown",
   "metadata": {},
   "source": [
    "默认参数下建立模型"
   ]
  },
  {
   "cell_type": "markdown",
   "metadata": {},
   "source": [
    "1、建立模型"
   ]
  },
  {
   "cell_type": "code",
   "execution_count": 34,
   "metadata": {},
   "outputs": [],
   "source": [
    "from sklearn.svm import SVR\n",
    "\n",
    "reg_svm0 = SVR()"
   ]
  },
  {
   "cell_type": "markdown",
   "metadata": {},
   "source": [
    "2、训练模型"
   ]
  },
  {
   "cell_type": "code",
   "execution_count": 35,
   "metadata": {},
   "outputs": [
    {
     "data": {
      "text/plain": [
       "SVR(C=1.0, cache_size=200, coef0=0.0, degree=3, epsilon=0.1, gamma='auto',\n",
       "  kernel='rbf', max_iter=-1, shrinking=True, tol=0.001, verbose=False)"
      ]
     },
     "execution_count": 35,
     "metadata": {},
     "output_type": "execute_result"
    }
   ],
   "source": [
    "reg_svm0.fit(X_train,y_train)"
   ]
  },
  {
   "cell_type": "markdown",
   "metadata": {},
   "source": [
    "3、预测"
   ]
  },
  {
   "cell_type": "code",
   "execution_count": 36,
   "metadata": {},
   "outputs": [],
   "source": [
    "pred_test_svm0 = reg_svm0.predict(X_test)\n",
    "pred_train_svm0 = reg_svm0.predict(X_train)\n",
    "mse_test = ((((pred_test_svm0 - y_test)/y_test)**2).mean())**0.5\n",
    "mse_train = ((((pred_train_svm0 - y_train)/y_train)**2).mean())**0.5"
   ]
  },
  {
   "cell_type": "code",
   "execution_count": 37,
   "metadata": {},
   "outputs": [
    {
     "data": {
      "text/plain": [
       "0.07989471789091473"
      ]
     },
     "execution_count": 37,
     "metadata": {},
     "output_type": "execute_result"
    }
   ],
   "source": [
    "mse_test"
   ]
  },
  {
   "cell_type": "markdown",
   "metadata": {},
   "source": [
    "svm肯定需要调参~，对结果影响也很大。\n",
    "\n",
    "支持向量机重要参数\n",
    "\n",
    "SVR参数解释   \n",
    "（1）C: 目标函数的惩罚系数C，用来平衡分类间隔margin和错分样本的，default C = 1.0；  \n",
    "（2）kernel：参数选择有RBF, Linear, Poly, Sigmoid, 默认的是”RBF”;   \n",
    "（3）degree：if you choose ‘Poly’ in param 2, this is effective, degree决定了多项式的最高次幂；   \n",
    "（4）gamma：核函数的系数(‘Poly’, ‘RBF’ and ‘Sigmoid’), 默认是gamma = 1 / n_features;   \n",
    "（5）coef0：核函数中的独立项，’RBF’ and ‘Poly’有效；   \n",
    "（6）shrinking：是否进行启发式； \n",
    "（7）tol（default = 1e - 3）: svm结束标准的精度;   \n",
    "（8）cache_size: 制定训练所需要的内存（以MB为单位）；   \n",
    "（9）class_weight: 每个类所占据的权重，不同的类设置不同的惩罚参数C, 缺省的话自适应；   \n",
    "（10）verbose: 多线程相关参数 \n",
    "（11）max_iter: 最大迭代次数，default = 1， if max_iter = -1, no limited;    \n",
    "（12）decision_function_shape ： ‘ovo’ 一对一, ‘ovr’ 多对多 or None 无, default=None   \n",
    "（13）random_state ：用于概率估计的数据重排时的伪随机数生成器的种子。   "
   ]
  },
  {
   "cell_type": "markdown",
   "metadata": {},
   "source": [
    "本实验通过调整C和gamma来优化模型"
   ]
  },
  {
   "cell_type": "code",
   "execution_count": 38,
   "metadata": {},
   "outputs": [],
   "source": [
    "from sklearn.model_selection import GridSearchCV \n",
    "\n",
    "# 交叉验证分类器   \n",
    "def svm_cross_validation(X_train, y_train):        \n",
    "    model = SVR(kernel='rbf')    \n",
    "    param_grid = {'C': [1e-4,1e-3, 1e-2, 1e-1], 'gamma': [0.1,0.001, 0.0001]}    \n",
    "    grid_search = GridSearchCV(model, param_grid, n_jobs = 8, verbose=1)    \n",
    "    grid_search.fit(X_train, y_train)    \n",
    "    best_parameters = grid_search.best_estimator_.get_params()    \n",
    "    for para, val in list(best_parameters.items()):    \n",
    "        print(para, val)    \n",
    "    model = SVR(kernel='rbf', C=best_parameters['C'], gamma=best_parameters['gamma'])    \n",
    "    model.fit(X_train, y_train)    \n",
    "    return model"
   ]
  },
  {
   "cell_type": "code",
   "execution_count": 39,
   "metadata": {},
   "outputs": [
    {
     "name": "stdout",
     "output_type": "stream",
     "text": [
      "Fitting 3 folds for each of 12 candidates, totalling 36 fits\n",
      "C 0.01\n",
      "cache_size 200\n",
      "coef0 0.0\n",
      "degree 3\n",
      "epsilon 0.1\n",
      "gamma 0.0001\n",
      "kernel rbf\n",
      "max_iter -1\n",
      "shrinking True\n",
      "tol 0.001\n",
      "verbose False\n"
     ]
    },
    {
     "name": "stderr",
     "output_type": "stream",
     "text": [
      "[Parallel(n_jobs=8)]: Done  36 out of  36 | elapsed:    0.2s finished\n"
     ]
    },
    {
     "data": {
      "text/plain": [
       "SVR(C=0.01, cache_size=200, coef0=0.0, degree=3, epsilon=0.1, gamma=0.0001,\n",
       "  kernel='rbf', max_iter=-1, shrinking=True, tol=0.001, verbose=False)"
      ]
     },
     "execution_count": 39,
     "metadata": {},
     "output_type": "execute_result"
    }
   ],
   "source": [
    "svm_cross_validation(X_train, y_train)"
   ]
  },
  {
   "cell_type": "markdown",
   "metadata": {},
   "source": [
    "训练后可以得到所需结果，C = 0.1，gamma = 0.0001"
   ]
  },
  {
   "cell_type": "code",
   "execution_count": 40,
   "metadata": {},
   "outputs": [],
   "source": [
    "reg_svm1 = SVR(kernel='rbf',C=0.1,gamma = 0.0001).fit(X_train,y_train)"
   ]
  },
  {
   "cell_type": "code",
   "execution_count": 41,
   "metadata": {},
   "outputs": [],
   "source": [
    "pred_test_svm1 = reg_svm1.predict(X_test)\n",
    "pred_train_svm1 = reg_svm1.predict(X_train)\n",
    "mse_test = ((((pred_test_svm1 - y_test)/y_test)**2).mean())**0.5\n",
    "mse_train = ((((pred_train_svm1 - y_train)/y_train)**2).mean())**0.5"
   ]
  },
  {
   "cell_type": "code",
   "execution_count": 42,
   "metadata": {},
   "outputs": [
    {
     "data": {
      "text/plain": [
       "0.07990475296320622"
      ]
     },
     "execution_count": 42,
     "metadata": {},
     "output_type": "execute_result"
    }
   ],
   "source": [
    "mse_test"
   ]
  },
  {
   "cell_type": "markdown",
   "metadata": {},
   "source": [
    "### 3.5 GBDT "
   ]
  },
  {
   "cell_type": "markdown",
   "metadata": {},
   "source": [
    "#### 3.5.1 模型简介\n",
    "GBDT也是集成学习Boosting家族的成员，但是却和传统的Adaboost有很大的不同。回顾下Adaboost，我们是利用前一轮迭代弱学习器的误差率来更新训练集的权重，这样一轮轮的迭代下去。GBDT也是迭代，使用了前向分布算法，但是弱学习器限定了只能使用CART回归树模型，同时迭代思路和Adaboost也有所不同。\n",
    "\n",
    "#### 3.5.2 建立模型\n",
    "在sacikit-learn中，GradientBoostingClassifier为GBDT的分类类， 而GradientBoostingRegressor为GBDT的回归类。两者的参数类型完全相同，当然有些参数比如损失函数loss的可选择项并不相同。这些参数中，类似于Adaboost，我们把重要参数分为两类，第一类是Boosting框架的重要参数，第二类是弱学习器即CART回归树的重要参数。\n",
    "\n",
    "GBDT类库boosting框架参数\n",
    "\n",
    "1) n_estimators: 也就是弱学习器的最大迭代次数，或者说最大的弱学习器的个数。一般来说n_estimators太小，容易欠拟合，n_estimators太大，又容易过拟合，一般选择一个适中的数值。默认是100。在实际调参的过程中，我们常常将n_estimators和下面介绍的参数learning_rate一起考虑。\n",
    "\n",
    "2) learning_rate: 即每个弱学习器的权重缩减系数ν，也称作步长\n",
    "\n",
    "3) subsample: 子采样，取值为(0,1]。注意这里的子采样和随机森林不一样，随机森林使用的是放回抽样，而这里是不放回抽样。如果取值为1，则全部样本都使用，等于没有使用子采样。如果取值小于1，则只有一部分样本会去做GBDT的决策树拟合。选择小于1的比例可以减少方差，即防止过拟合，但是会增加样本拟合的偏差，因此取值不能太低。推荐在[0.5, 0.8]之间，默认是1.0，即不使用子采样。\n",
    "\n",
    "4) loss: 即我们GBDT算法中的损失函数。分类模型和回归模型的损失函数是不一样的。 对于分类模型，有对数似然损失函数\"deviance\"和指数损失函数\"exponential\"两者输入选择。默认是对数似然损失函数\"deviance\"。在原理篇中对这些分类损失函数有详细的介绍。一般来说，推荐使用默认的\"deviance\"。它对二元分离和多元分类各自都有比较好的优化。而指数损失函数等于把我们带到了Adaboost算法。"
   ]
  },
  {
   "cell_type": "code",
   "execution_count": 43,
   "metadata": {},
   "outputs": [
    {
     "name": "stderr",
     "output_type": "stream",
     "text": [
      "/opt/conda/lib/python3.6/site-packages/sklearn/cross_validation.py:41: DeprecationWarning: This module was deprecated in version 0.18 in favor of the model_selection module into which all the refactored classes and functions are moved. Also note that the interface of the new CV iterators are different from that of this module. This module will be removed in 0.20.\n",
      "  \"This module will be removed in 0.20.\", DeprecationWarning)\n",
      "/opt/conda/lib/python3.6/site-packages/sklearn/grid_search.py:42: DeprecationWarning: This module was deprecated in version 0.18 in favor of the model_selection module into which all the refactored classes and functions are moved. This module will be removed in 0.20.\n",
      "  DeprecationWarning)\n"
     ]
    }
   ],
   "source": [
    "from sklearn.ensemble import GradientBoostingRegressor\n",
    "from sklearn.grid_search import GridSearchCV\n",
    "\n",
    "reg_gbdt = GradientBoostingRegressor(random_state=10).fit(X_train,y_train)\n",
    "pred_test_gbdt = reg_gbdt.predict(X_test)\n",
    "pred_train_gbdt = reg_gbdt.predict(X_train)"
   ]
  },
  {
   "cell_type": "code",
   "execution_count": 44,
   "metadata": {},
   "outputs": [],
   "source": [
    "mse_test = ((((pred_test_gbdt - y_test)/y_test)**2).mean())**0.5\n",
    "mse_train = ((((pred_train_gbdt - y_train)/y_train)**2).mean())**0.5"
   ]
  },
  {
   "cell_type": "code",
   "execution_count": 45,
   "metadata": {},
   "outputs": [
    {
     "data": {
      "text/plain": [
       "0.015073226458048435"
      ]
     },
     "execution_count": 45,
     "metadata": {},
     "output_type": "execute_result"
    }
   ],
   "source": [
    "mse_test"
   ]
  },
  {
   "cell_type": "markdown",
   "metadata": {},
   "source": [
    "我们下面看看怎么通过调参提高模型的泛化能力。\n",
    "\n",
    "首先我们从步长(learning rate)和迭代次数(n_estimators)入手。一般来说,开始选择一个较小的步长来网格搜索最好的迭代次数。这里，我们将步长初始值设置为0.1。对于迭代次数进行网格搜索如下："
   ]
  },
  {
   "cell_type": "code",
   "execution_count": 46,
   "metadata": {},
   "outputs": [
    {
     "data": {
      "text/plain": [
       "([mean: -0.01593, std: 0.01825, params: {'n_estimators': 20},\n",
       "  mean: -0.01755, std: 0.01929, params: {'n_estimators': 30},\n",
       "  mean: -0.01636, std: 0.01846, params: {'n_estimators': 40},\n",
       "  mean: -0.01735, std: 0.01921, params: {'n_estimators': 50},\n",
       "  mean: -0.01718, std: 0.01909, params: {'n_estimators': 60},\n",
       "  mean: -0.01705, std: 0.01874, params: {'n_estimators': 70},\n",
       "  mean: -0.01641, std: 0.01847, params: {'n_estimators': 80}],\n",
       " {'n_estimators': 20},\n",
       " -0.015931792160813706)"
      ]
     },
     "execution_count": 46,
     "metadata": {},
     "output_type": "execute_result"
    }
   ],
   "source": [
    "param_test1 = {'n_estimators':list(range(20,81,10))}\n",
    "gsearch1 = GridSearchCV(estimator = GradientBoostingRegressor(learning_rate=0.1, min_samples_split=300,\n",
    "                                  min_samples_leaf=20,max_depth=8,max_features='sqrt', subsample=0.8,random_state=10), \n",
    "                       param_grid = param_test1,iid=False,cv=5)\n",
    "gsearch1.fit(X_train,y_train)\n",
    "gsearch1.grid_scores_, gsearch1.best_params_, gsearch1.best_score_"
   ]
  },
  {
   "cell_type": "markdown",
   "metadata": {},
   "source": [
    "可见最好的迭代次数是50。找到了一个合适的迭代次数，现在我们开始对决策树进行调参。首先我们对决策树最大深度max_depth和内部节点再划分所需最小样本数min_samples_split进行网格搜索。"
   ]
  },
  {
   "cell_type": "code",
   "execution_count": 47,
   "metadata": {},
   "outputs": [
    {
     "data": {
      "text/plain": [
       "([mean: 0.94238, std: 0.01492, params: {'max_depth': 3, 'min_samples_split': 80},\n",
       "  mean: 0.93839, std: 0.01807, params: {'max_depth': 3, 'min_samples_split': 100},\n",
       "  mean: 0.93772, std: 0.01882, params: {'max_depth': 3, 'min_samples_split': 120},\n",
       "  mean: 0.93859, std: 0.01893, params: {'max_depth': 3, 'min_samples_split': 140},\n",
       "  mean: 0.94461, std: 0.01284, params: {'max_depth': 5, 'min_samples_split': 80},\n",
       "  mean: 0.94253, std: 0.01665, params: {'max_depth': 5, 'min_samples_split': 100},\n",
       "  mean: 0.93868, std: 0.01772, params: {'max_depth': 5, 'min_samples_split': 120},\n",
       "  mean: 0.93917, std: 0.02029, params: {'max_depth': 5, 'min_samples_split': 140},\n",
       "  mean: 0.94435, std: 0.01379, params: {'max_depth': 7, 'min_samples_split': 80},\n",
       "  mean: 0.94211, std: 0.01695, params: {'max_depth': 7, 'min_samples_split': 100},\n",
       "  mean: 0.93854, std: 0.01779, params: {'max_depth': 7, 'min_samples_split': 120},\n",
       "  mean: 0.93919, std: 0.02032, params: {'max_depth': 7, 'min_samples_split': 140},\n",
       "  mean: 0.94432, std: 0.01378, params: {'max_depth': 9, 'min_samples_split': 80},\n",
       "  mean: 0.94211, std: 0.01695, params: {'max_depth': 9, 'min_samples_split': 100},\n",
       "  mean: 0.93854, std: 0.01779, params: {'max_depth': 9, 'min_samples_split': 120},\n",
       "  mean: 0.93919, std: 0.02032, params: {'max_depth': 9, 'min_samples_split': 140},\n",
       "  mean: 0.94432, std: 0.01378, params: {'max_depth': 11, 'min_samples_split': 80},\n",
       "  mean: 0.94211, std: 0.01695, params: {'max_depth': 11, 'min_samples_split': 100},\n",
       "  mean: 0.93854, std: 0.01779, params: {'max_depth': 11, 'min_samples_split': 120},\n",
       "  mean: 0.93919, std: 0.02032, params: {'max_depth': 11, 'min_samples_split': 140},\n",
       "  mean: 0.94432, std: 0.01378, params: {'max_depth': 13, 'min_samples_split': 80},\n",
       "  mean: 0.94211, std: 0.01695, params: {'max_depth': 13, 'min_samples_split': 100},\n",
       "  mean: 0.93854, std: 0.01779, params: {'max_depth': 13, 'min_samples_split': 120},\n",
       "  mean: 0.93919, std: 0.02032, params: {'max_depth': 13, 'min_samples_split': 140}],\n",
       " {'max_depth': 5, 'min_samples_split': 80},\n",
       " 0.9446098788292989)"
      ]
     },
     "execution_count": 47,
     "metadata": {},
     "output_type": "execute_result"
    }
   ],
   "source": [
    "param_test2 = {'max_depth':list(range(3,14,2)), 'min_samples_split':list(range(80,150,20))}\n",
    "gsearch2 = GridSearchCV(estimator = GradientBoostingRegressor(learning_rate=0.1, n_estimators=50, min_samples_leaf=20, \n",
    "      max_features='sqrt', subsample=0.8, random_state=10), \n",
    "   param_grid = param_test2,iid=False, cv=5)\n",
    "gsearch2.fit(X_train,y_train)\n",
    "gsearch2.grid_scores_, gsearch2.best_params_, gsearch2.best_score_"
   ]
  },
  {
   "cell_type": "markdown",
   "metadata": {},
   "source": [
    "可见最好的最大树深度是3，内部节点再划分所需最小样本数是80。由于决策树深度5是一个比较合理的值，我们把它定下来，对于内部节点再划分所需最小样本数min_samples_split，我们暂时不能一起定下来，因为这个还和决策树其他的参数存在关联。下面我们再对内部节点再划分所需最小样本数min_samples_split和叶子节点最少样本数min_samples_leaf一起调参。"
   ]
  },
  {
   "cell_type": "code",
   "execution_count": 48,
   "metadata": {},
   "outputs": [
    {
     "data": {
      "text/plain": [
       "([mean: 0.94479, std: 0.01640, params: {'min_samples_leaf': 10, 'min_samples_split': 80},\n",
       "  mean: 0.94197, std: 0.01962, params: {'min_samples_leaf': 10, 'min_samples_split': 100},\n",
       "  mean: 0.93955, std: 0.02227, params: {'min_samples_leaf': 10, 'min_samples_split': 120},\n",
       "  mean: 0.94039, std: 0.02132, params: {'min_samples_leaf': 10, 'min_samples_split': 140},\n",
       "  mean: 0.94238, std: 0.01492, params: {'min_samples_leaf': 20, 'min_samples_split': 80},\n",
       "  mean: 0.93839, std: 0.01807, params: {'min_samples_leaf': 20, 'min_samples_split': 100},\n",
       "  mean: 0.93772, std: 0.01882, params: {'min_samples_leaf': 20, 'min_samples_split': 120},\n",
       "  mean: 0.93859, std: 0.01893, params: {'min_samples_leaf': 20, 'min_samples_split': 140},\n",
       "  mean: 0.93550, std: 0.01429, params: {'min_samples_leaf': 30, 'min_samples_split': 80},\n",
       "  mean: 0.93319, std: 0.01769, params: {'min_samples_leaf': 30, 'min_samples_split': 100},\n",
       "  mean: 0.93217, std: 0.01774, params: {'min_samples_leaf': 30, 'min_samples_split': 120},\n",
       "  mean: 0.93085, std: 0.01956, params: {'min_samples_leaf': 30, 'min_samples_split': 140},\n",
       "  mean: 0.91506, std: 0.01958, params: {'min_samples_leaf': 40, 'min_samples_split': 80},\n",
       "  mean: 0.91224, std: 0.01984, params: {'min_samples_leaf': 40, 'min_samples_split': 100},\n",
       "  mean: 0.91145, std: 0.02037, params: {'min_samples_leaf': 40, 'min_samples_split': 120},\n",
       "  mean: 0.91057, std: 0.02124, params: {'min_samples_leaf': 40, 'min_samples_split': 140},\n",
       "  mean: 0.88993, std: 0.02111, params: {'min_samples_leaf': 50, 'min_samples_split': 80},\n",
       "  mean: 0.88993, std: 0.02111, params: {'min_samples_leaf': 50, 'min_samples_split': 100},\n",
       "  mean: 0.88911, std: 0.02073, params: {'min_samples_leaf': 50, 'min_samples_split': 120},\n",
       "  mean: 0.88736, std: 0.02166, params: {'min_samples_leaf': 50, 'min_samples_split': 140}],\n",
       " {'min_samples_leaf': 10, 'min_samples_split': 80},\n",
       " 0.9447899234565351)"
      ]
     },
     "execution_count": 48,
     "metadata": {},
     "output_type": "execute_result"
    }
   ],
   "source": [
    "param_test3 = {'min_samples_split':list(range(80,150,20)), 'min_samples_leaf':list(range(10,60,10))}\n",
    "gsearch3 = GridSearchCV(estimator = GradientBoostingRegressor(learning_rate=0.1, n_estimators=50,max_depth=3,\n",
    "                                     max_features='sqrt', subsample=0.8, random_state=10), \n",
    "                       param_grid = param_test3,iid=False, cv=5)\n",
    "gsearch3.fit(X_train,y_train)\n",
    "gsearch3.grid_scores_, gsearch3.best_params_, gsearch3.best_score_"
   ]
  },
  {
   "cell_type": "markdown",
   "metadata": {},
   "source": [
    "现在我们再对最大特征数max_features进行网格搜索。"
   ]
  },
  {
   "cell_type": "code",
   "execution_count": 49,
   "metadata": {},
   "outputs": [
    {
     "data": {
      "text/plain": [
       "([mean: 0.94479, std: 0.01640, params: {'max_features': 2},\n",
       "  mean: 0.95217, std: 0.01756, params: {'max_features': 3},\n",
       "  mean: 0.95742, std: 0.01331, params: {'max_features': 4},\n",
       "  mean: 0.95784, std: 0.01435, params: {'max_features': 5}],\n",
       " {'max_features': 5},\n",
       " 0.9578389422318712)"
      ]
     },
     "execution_count": 49,
     "metadata": {},
     "output_type": "execute_result"
    }
   ],
   "source": [
    "param_test4 = {'max_features':list(range(2,6,1))}\n",
    "gsearch4 = GridSearchCV(estimator = GradientBoostingRegressor(learning_rate=0.1, n_estimators=50,max_depth=3, min_samples_leaf = 10, \n",
    "               min_samples_split = 80, subsample=0.8, random_state=10), \n",
    "                       param_grid = param_test4,iid=False, cv=5)\n",
    "gsearch4.fit(X_train,y_train)\n",
    "gsearch4.grid_scores_, gsearch4.best_params_, gsearch4.best_score_"
   ]
  },
  {
   "cell_type": "markdown",
   "metadata": {},
   "source": [
    "用我们搜索到的最佳参数，我们再看看最终的模型拟合："
   ]
  },
  {
   "cell_type": "code",
   "execution_count": 50,
   "metadata": {},
   "outputs": [],
   "source": [
    "reg_gbdt1 = GradientBoostingRegressor(learning_rate=0.1, n_estimators=50,max_depth=3, min_samples_leaf = 10, \n",
    "               min_samples_split = 80, max_features=5,subsample=0.8, random_state=10).fit(X_train,y_train)\n",
    "\n",
    "pred_test_gbdt1 = reg_gbdt1.predict(X_test)\n",
    "pred_train_gbdt1 = reg_gbdt1.predict(X_train)"
   ]
  },
  {
   "cell_type": "code",
   "execution_count": 51,
   "metadata": {},
   "outputs": [],
   "source": [
    "mse_test = ((((pred_test_gbdt1 - y_test)/y_test)**2).mean())**0.5\n",
    "mse_train = ((((pred_train_gbdt1 - y_train)/y_train)**2).mean())**0.5"
   ]
  },
  {
   "cell_type": "code",
   "execution_count": 52,
   "metadata": {},
   "outputs": [
    {
     "name": "stdout",
     "output_type": "stream",
     "text": [
      "0.011029390304071962\n",
      "0.014728299549804497\n"
     ]
    }
   ],
   "source": [
    "print(mse_train)\n",
    "print(mse_test)"
   ]
  },
  {
   "cell_type": "code",
   "execution_count": 53,
   "metadata": {},
   "outputs": [
    {
     "name": "stderr",
     "output_type": "stream",
     "text": [
      "/opt/conda/lib/python3.6/site-packages/pandas/plotting/_core.py:402: UserWarning: FixedFormatter should only be used together with FixedLocator\n",
      "  ax.set_xticklabels(xticklabels)\n"
     ]
    },
    {
     "ename": "NameError",
     "evalue": "name 'pred_test_rf2' is not defined",
     "output_type": "error",
     "traceback": [
      "\u001b[0;31m---------------------------------------------------------------------------\u001b[0m",
      "\u001b[0;31mNameError\u001b[0m                                 Traceback (most recent call last)",
      "\u001b[0;32m<ipython-input-53-aa89ebbb16bd>\u001b[0m in \u001b[0;36m<module>\u001b[0;34m\u001b[0m\n\u001b[1;32m      2\u001b[0m \u001b[0mpred_test_gbdt\u001b[0m \u001b[0;34m=\u001b[0m \u001b[0mSeries\u001b[0m\u001b[0;34m(\u001b[0m\u001b[0mpred_test_gbdt\u001b[0m\u001b[0;34m,\u001b[0m \u001b[0mindex\u001b[0m \u001b[0;34m=\u001b[0m \u001b[0my_test\u001b[0m\u001b[0;34m.\u001b[0m\u001b[0mindex\u001b[0m\u001b[0;34m)\u001b[0m\u001b[0;34m\u001b[0m\u001b[0m\n\u001b[1;32m      3\u001b[0m \u001b[0my_test\u001b[0m\u001b[0;34m.\u001b[0m\u001b[0mplot\u001b[0m\u001b[0;34m(\u001b[0m\u001b[0mlabel\u001b[0m\u001b[0;34m=\u001b[0m\u001b[0;34m'sh'\u001b[0m\u001b[0;34m)\u001b[0m\u001b[0;34m\u001b[0m\u001b[0m\n\u001b[0;32m----> 4\u001b[0;31m \u001b[0mpred_test_rf2\u001b[0m\u001b[0;34m.\u001b[0m\u001b[0mplot\u001b[0m\u001b[0;34m(\u001b[0m\u001b[0mlabel\u001b[0m\u001b[0;34m=\u001b[0m\u001b[0;34m'rf_adjust'\u001b[0m\u001b[0;34m)\u001b[0m\u001b[0;34m\u001b[0m\u001b[0m\n\u001b[0m\u001b[1;32m      5\u001b[0m \u001b[0mpred_test_gbdt1\u001b[0m\u001b[0;34m.\u001b[0m\u001b[0mplot\u001b[0m\u001b[0;34m(\u001b[0m\u001b[0mlabel\u001b[0m \u001b[0;34m=\u001b[0m \u001b[0;34m'gbdt_adjust'\u001b[0m\u001b[0;34m)\u001b[0m\u001b[0;34m\u001b[0m\u001b[0m\n\u001b[1;32m      6\u001b[0m \u001b[0mpred_test_gbdt\u001b[0m\u001b[0;34m.\u001b[0m\u001b[0mplot\u001b[0m\u001b[0;34m(\u001b[0m\u001b[0mlabel\u001b[0m \u001b[0;34m=\u001b[0m \u001b[0;34m'gbdt_initial'\u001b[0m\u001b[0;34m)\u001b[0m\u001b[0;34m\u001b[0m\u001b[0m\n",
      "\u001b[0;31mNameError\u001b[0m: name 'pred_test_rf2' is not defined"
     ]
    },
    {
     "data": {
      "image/png": "[encoded data removed]",
      "text/plain": [
       "<Figure size 576x576 with 1 Axes>"
      ]
     },
     "metadata": {
      "needs_background": "light"
     },
     "output_type": "display_data"
    }
   ],
   "source": [
    "pred_test_gbdt1 = Series(pred_test_gbdt1, index = y_test.index)\n",
    "pred_test_gbdt = Series(pred_test_gbdt, index = y_test.index)\n",
    "y_test.plot(label='sh')\n",
    "pred_test_rf2.plot(label='rf_adjust')\n",
    "pred_test_gbdt1.plot(label = 'gbdt_adjust')\n",
    "pred_test_gbdt.plot(label = 'gbdt_initial')\n",
    "plt.legend()"
   ]
  },
  {
   "cell_type": "markdown",
   "metadata": {},
   "source": [
    "#### 从而我们可以看出，GBDT与RF算法在预测股价上具有较大的优势。"
   ]
  },
  {
   "cell_type": "code",
   "execution_count": null,
   "metadata": {},
   "outputs": [],
   "source": []
  },
  {
   "cell_type": "code",
   "execution_count": null,
   "metadata": {},
   "outputs": [],
   "source": []
  }
 ],
 "metadata": {
  "anaconda-cloud": {},
  "kernelspec": {
   "display_name": "Python 3",
   "language": "python",
   "name": "python3"
  },
  "language_info": {
   "codemirror_mode": {
    "name": "ipython",
    "version": 3
   },
   "file_extension": ".py",
   "mimetype": "text/x-python",
   "name": "python",
   "nbconvert_exporter": "python",
   "pygments_lexer": "ipython3",
   "version": "3.6.5"
  }
 },
 "nbformat": 4,
 "nbformat_minor": 4
}
