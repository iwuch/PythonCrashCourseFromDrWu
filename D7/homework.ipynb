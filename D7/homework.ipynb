{
 "cells": [
  {
   "cell_type": "code",
   "execution_count": 3,
   "metadata": {},
   "outputs": [
    {
     "data": {
      "text/plain": [
       "'/data/nas/workspace/jupyter/pythonCrashCourse/D7/hottest_50_books.html'"
      ]
     },
     "execution_count": 3,
     "metadata": {},
     "output_type": "execute_result"
    }
   ],
   "source": [
    "import pandas as pd\n",
    "from pyecharts import options as opts\n",
    "from pyecharts.charts import Page, WordCloud\n",
    "from pyecharts.globals import SymbolType\n",
    "\n",
    "hottest_50_books_pd = pd.read_csv(\"hottest_books_list.csv\")\n",
    "titles = hottest_50_books_pd['title']\n",
    "counts = hottest_50_books_pd['counts']\n",
    "words = zip(titles,counts)\n",
    "\n",
    "#以下代码可以由zip函数一行搞定\n",
    "# book_names = []\n",
    "# book_counts= []\n",
    "# for title in titles:\n",
    "# \ttitle = title.encode(\"raw_unicode_escape\")\n",
    "# \tbook_names.append(title.decode())\n",
    "\n",
    "# for count in counts:\n",
    "# \tbook_counts.append(int(count))\n",
    "\n",
    "# words = []\n",
    "\n",
    "# for i in range(len(book_counts)):\n",
    "# \ttemp_tuple = (book_names[i],book_counts[i])\n",
    "# \twords.append(temp_tuple)\n",
    "\n",
    "def wordcloud_base() -> WordCloud:\n",
    "    c = (\n",
    "        WordCloud()\n",
    "        .add(\"\",words, word_size_range=[20, 100])\n",
    "        .set_global_opts(title_opts=opts.TitleOpts(title=\"Hottest 50 Books WordCloud\"))\n",
    "    )\n",
    "    return c\n",
    "\n",
    "wd = wordcloud_base()\n",
    "wd.render(\"hottest_50_books.html\")\n"
   ]
  },
  {
   "cell_type": "code",
   "execution_count": null,
   "metadata": {},
   "outputs": [],
   "source": []
  }
 ],
 "metadata": {
  "kernelspec": {
   "display_name": "Python 3",
   "language": "python",
   "name": "python3"
  },
  "language_info": {
   "codemirror_mode": {
    "name": "ipython",
    "version": 3
   },
   "file_extension": ".py",
   "mimetype": "text/x-python",
   "name": "python",
   "nbconvert_exporter": "python",
   "pygments_lexer": "ipython3",
   "version": "3.6.5"
  }
 },
 "nbformat": 4,
 "nbformat_minor": 4
}
