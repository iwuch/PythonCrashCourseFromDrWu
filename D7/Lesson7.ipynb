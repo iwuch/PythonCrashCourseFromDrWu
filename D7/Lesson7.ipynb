{
 "cells": [
  {
   "cell_type": "code",
   "execution_count": 2,
   "metadata": {},
   "outputs": [
    {
     "name": "stdout",
     "output_type": "stream",
     "text": [
      "0    1\n",
      "1    3\n",
      "2    5\n",
      "3    7\n",
      "dtype: int64\n"
     ]
    }
   ],
   "source": [
    "#创建一个Series类型数据（带标签的数组）\n",
    "import pandas as pd\n",
    "data = pd.Series([1,3,5,7])\n",
    "print(data)"
   ]
  },
  {
   "cell_type": "code",
   "execution_count": 4,
   "metadata": {},
   "outputs": [
    {
     "name": "stdout",
     "output_type": "stream",
     "text": [
      "0    1\n",
      "1    3\n",
      "2    5\n",
      "3    7\n",
      "dtype: int64\n",
      "RangeIndex(start=0, stop=4, step=1)\n",
      "[1 3 5 7]\n"
     ]
    }
   ],
   "source": [
    "#Series的index和values属性\n",
    "lst = [1,3,5,7]\n",
    "data = pd.Series([1,3,5,7])\n",
    "print(data)\n",
    "print(data.index)\n",
    "print(data.values)"
   ]
  },
  {
   "cell_type": "code",
   "execution_count": 5,
   "metadata": {},
   "outputs": [
    {
     "name": "stdout",
     "output_type": "stream",
     "text": [
      "[1 3 5 7]\n",
      "RangeIndex(start=0, stop=4, step=1)\n"
     ]
    }
   ],
   "source": [
    "print(data.values)\n",
    "print(data.index)"
   ]
  },
  {
   "cell_type": "code",
   "execution_count": 8,
   "metadata": {},
   "outputs": [
    {
     "name": "stdout",
     "output_type": "stream",
     "text": [
      "a    1\n",
      "j    3\n",
      "k    5\n",
      "z    7\n",
      "dtype: int64\n"
     ]
    }
   ],
   "source": [
    "#Series对象中的index参数\n",
    "list_data = [1,3,5,7]\n",
    "data = pd.Series(list_data,index=['a','j','k','z'])\n",
    "print(data)"
   ]
  },
  {
   "cell_type": "code",
   "execution_count": 9,
   "metadata": {},
   "outputs": [
    {
     "name": "stdout",
     "output_type": "stream",
     "text": [
      "j    1\n",
      "z    3\n",
      "x    5\n",
      "k    7\n",
      "dtype: int64\n"
     ]
    }
   ],
   "source": [
    "#修改index参数\n",
    "list_data = [1,3,5,7]\n",
    "data = pd.Series(list_data,index = ['a','j','k','z'])\n",
    "data.index = ['j','z','x','k']\n",
    "print(data)"
   ]
  },
  {
   "cell_type": "code",
   "execution_count": 10,
   "metadata": {},
   "outputs": [
    {
     "name": "stdout",
     "output_type": "stream",
     "text": [
      "4\n"
     ]
    }
   ],
   "source": [
    "#len方法来获取data的长度值属性\n",
    "print(len(data))"
   ]
  },
  {
   "cell_type": "code",
   "execution_count": 14,
   "metadata": {},
   "outputs": [
    {
     "name": "stdout",
     "output_type": "stream",
     "text": [
      "a    1\n",
      "k    5\n",
      "z    7\n",
      "dtype: int64\n"
     ]
    }
   ],
   "source": [
    "#通过索引列表来获取多个值\n",
    "list_data = [1,3,5,7]\n",
    "data = pd.Series(list_data,index = ['a','j','k','z'])\n",
    "print(data[['a','k','z']])"
   ]
  },
  {
   "cell_type": "code",
   "execution_count": 15,
   "metadata": {},
   "outputs": [
    {
     "name": "stdout",
     "output_type": "stream",
     "text": [
      "0    1\n",
      "1    3\n",
      "dtype: int64\n"
     ]
    }
   ],
   "source": [
    "#通过切片来访问Series中的多个值\n",
    "lst = [1,3,5,7]\n",
    "data = pd.Series(lst)\n",
    "print(data[0:2])"
   ]
  },
  {
   "cell_type": "code",
   "execution_count": 16,
   "metadata": {},
   "outputs": [
    {
     "name": "stdout",
     "output_type": "stream",
     "text": [
      "5    2\n",
      "1    2\n",
      "7    1\n",
      "6    1\n",
      "3    1\n",
      "2    1\n",
      "dtype: int64\n"
     ]
    }
   ],
   "source": [
    "#统计Series中各个数据的出现次数\n",
    "lst = [1,3,5,7,1,5,2,6]\n",
    "data = pd.Series(lst)\n",
    "print(data.value_counts())"
   ]
  },
  {
   "cell_type": "code",
   "execution_count": 18,
   "metadata": {},
   "outputs": [
    {
     "name": "stdout",
     "output_type": "stream",
     "text": [
      "True\n"
     ]
    }
   ],
   "source": [
    "list_data = [1,3,5,7]\n",
    "data = pd.Series(list_data,index = ['a','j','k','z'])\n",
    "print('a' in data)"
   ]
  },
  {
   "cell_type": "code",
   "execution_count": 19,
   "metadata": {},
   "outputs": [
    {
     "name": "stdout",
     "output_type": "stream",
     "text": [
      "Beijing     1000\n",
      "Shanghai     800\n",
      "Shenzhen     500\n",
      "dtype: int64\n"
     ]
    }
   ],
   "source": [
    "#由字典创建Series类型数据\n",
    "dict_data = {\n",
    "    \"Beijing\":1000,\n",
    "    \"Shanghai\":800,\n",
    "    \"Shenzhen\":500\n",
    "}\n",
    "data = pd.Series(dict_data)\n",
    "print(data)"
   ]
  },
  {
   "cell_type": "code",
   "execution_count": 25,
   "metadata": {},
   "outputs": [
    {
     "name": "stdout",
     "output_type": "stream",
     "text": [
      "Guangzhou       NaN\n",
      "Beijing      1000.0\n",
      "Shanghai      800.0\n",
      "Shenzhen      500.0\n",
      "dtype: float64\n"
     ]
    }
   ],
   "source": [
    "#使用字典和index数组来实例化Series\n",
    "dict_data = {\n",
    "    \"Beijing\":1000,\n",
    "    \"Shanghai\":800,\n",
    "    \"Shenzhen\":500\n",
    "}\n",
    "list_index = [\"Guangzhou\",\"Beijing\",\"Shanghai\",\"Shenzhen\"]\n",
    "data = pd.Series(dict_data,index=list_index)\n",
    "print(data)"
   ]
  },
  {
   "cell_type": "code",
   "execution_count": 24,
   "metadata": {},
   "outputs": [
    {
     "name": "stdout",
     "output_type": "stream",
     "text": [
      "Guangzhou     True\n",
      "Beijing      False\n",
      "Shanghai     False\n",
      "Shenzhen     False\n",
      "dtype: bool\n"
     ]
    }
   ],
   "source": [
    "#isnull来判定Series内容是否为空\n",
    "print(data.isnull())"
   ]
  },
  {
   "cell_type": "code",
   "execution_count": 26,
   "metadata": {},
   "outputs": [
    {
     "name": "stdout",
     "output_type": "stream",
     "text": [
      "Guangzhou       NaN\n",
      "Beijing      2000.0\n",
      "Shanghai     1600.0\n",
      "Shenzhen     1000.0\n",
      "dtype: float64\n"
     ]
    }
   ],
   "source": [
    "#可以进行乘法运算对内容进行运算\n",
    "print(data*2)"
   ]
  },
  {
   "cell_type": "code",
   "execution_count": 27,
   "metadata": {},
   "outputs": [
    {
     "name": "stdout",
     "output_type": "stream",
     "text": [
      "Guangzhou          NaN\n",
      "Beijing      1000000.0\n",
      "Shanghai      640000.0\n",
      "Shenzhen      250000.0\n",
      "dtype: float64\n"
     ]
    }
   ],
   "source": [
    "#可以使用numpy中的方法来对Series中的数据进行运算\n",
    "import numpy as np\n",
    "print(np.square(data))"
   ]
  },
  {
   "cell_type": "code",
   "execution_count": 32,
   "metadata": {},
   "outputs": [
    {
     "name": "stdout",
     "output_type": "stream",
     "text": [
      "Guangzhou       NaN\n",
      "Beijing      6000.0\n",
      "Shanghai      900.0\n",
      "Shenzhen      700.0\n",
      "dtype: float64\n"
     ]
    }
   ],
   "source": [
    "index_list = [\"Guangzhou\",\"Beijing\",\"Shanghai\",\"Shenzhen\"]\n",
    "dict_data1 = {\n",
    "    \"Beijing\":1000,\n",
    "    \"Shanghai\":800,\n",
    "    \"Shenzhen\":500\n",
    "}\n",
    "dict_data2 = {\n",
    "    \"Beijing\":5000,\n",
    "    \"Shanghai\":100,\n",
    "    \"Shenzhen\":200\n",
    "}\n",
    "data1 = pd.Series(dict_data1,index=index_list)\n",
    "data2 = pd.Series(dict_data2,index=index_list)\n",
    "print(data1+data2)"
   ]
  },
  {
   "cell_type": "code",
   "execution_count": 34,
   "metadata": {},
   "outputs": [
    {
     "name": "stdout",
     "output_type": "stream",
     "text": [
      "City\n",
      "Guangzhou       NaN\n",
      "Beijing      1000.0\n",
      "Shanghai      800.0\n",
      "Shenzhen      500.0\n",
      "Name: CityData, dtype: float64\n"
     ]
    }
   ],
   "source": [
    "#通过设置name属性来指定数据和index的标签名\n",
    "data.name = \"CityData\"\n",
    "data.index.name = \"City\"\n",
    "print(data)"
   ]
  },
  {
   "cell_type": "code",
   "execution_count": 38,
   "metadata": {},
   "outputs": [
    {
     "name": "stdout",
     "output_type": "stream",
     "text": [
      "     student  score gender\n",
      "0      lilei     98      M\n",
      "1  hanmeimei     99      F\n",
      "2  madongmei    100      F\n"
     ]
    }
   ],
   "source": [
    "#通过列表字典来实例化创建DF对象,每一个key代表一个特征\n",
    "dict_data = {\n",
    "    'student':['lilei','hanmeimei','madongmei'],\n",
    "    'score':[98,99,100],\n",
    "    'gender':['M','F','F']\n",
    "}\n",
    "data = pd.DataFrame(dict_data)\n",
    "print(data)"
   ]
  },
  {
   "cell_type": "code",
   "execution_count": 39,
   "metadata": {},
   "outputs": [
    {
     "name": "stdout",
     "output_type": "stream",
     "text": [
      "  gender    student  score\n",
      "0      M      lilei     98\n",
      "1      F  hanmeimei     99\n",
      "2      F  madongmei    100\n"
     ]
    }
   ],
   "source": [
    "#通过columns属性类控制数据特征的顺序\n",
    "dict_data = {\n",
    "    'student':['lilei','hanmeimei','madongmei'],\n",
    "    'score':[98,99,100],\n",
    "    'gender':['M','F','F']\n",
    "}\n",
    "data = pd.DataFrame(dict_data,columns=['gender','student','score'])\n",
    "print(data)"
   ]
  },
  {
   "cell_type": "code",
   "execution_count": 40,
   "metadata": {},
   "outputs": [
    {
     "name": "stdout",
     "output_type": "stream",
     "text": [
      "Index(['gender', 'student', 'score'], dtype='object')\n"
     ]
    }
   ],
   "source": [
    "print(data.columns)"
   ]
  },
  {
   "cell_type": "code",
   "execution_count": 41,
   "metadata": {},
   "outputs": [
    {
     "name": "stdout",
     "output_type": "stream",
     "text": [
      "  gender    student  score\n",
      "a      M      lilei     98\n",
      "b      F  hanmeimei     99\n",
      "c      F  madongmei    100\n"
     ]
    }
   ],
   "source": [
    "#通过index参数来指定DataFrame数据的索引值\n",
    "dict_data = {\n",
    "    'student':['lilei','hanmeimei','madongmei'],\n",
    "    'score':[98,99,100],\n",
    "    'gender':['M','F','F']\n",
    "}\n",
    "data = pd.DataFrame(dict_data,\n",
    "    columns = ['gender','student','score'],\n",
    "    index = ['a','b','c']\n",
    "    )\n",
    "print(data)"
   ]
  },
  {
   "cell_type": "code",
   "execution_count": 42,
   "metadata": {},
   "outputs": [
    {
     "name": "stdout",
     "output_type": "stream",
     "text": [
      "a        lilei\n",
      "b    hanmeimei\n",
      "c    madongmei\n",
      "Name: student, dtype: object\n",
      "a        lilei\n",
      "b    hanmeimei\n",
      "c    madongmei\n",
      "Name: student, dtype: object\n"
     ]
    }
   ],
   "source": [
    "#获取DF数据中的一列（某一个特征维度的所有值）\n",
    "print(data['student'])\n",
    "print(data.student)"
   ]
  },
  {
   "cell_type": "code",
   "execution_count": 43,
   "metadata": {},
   "outputs": [
    {
     "name": "stdout",
     "output_type": "stream",
     "text": [
      "gender         M\n",
      "student    lilei\n",
      "score         98\n",
      "Name: a, dtype: object\n"
     ]
    }
   ],
   "source": [
    "#通过定位获取DataFrame数据中的某一行数据\n",
    "print(data.iloc[0])"
   ]
  },
  {
   "cell_type": "code",
   "execution_count": 44,
   "metadata": {},
   "outputs": [
    {
     "name": "stdout",
     "output_type": "stream",
     "text": [
      "  gender    student  score\n",
      "a      M      lilei     70\n",
      "b      F  hanmeimei     99\n",
      "c      F  madongmei    100\n"
     ]
    },
    {
     "name": "stderr",
     "output_type": "stream",
     "text": [
      "/opt/conda/lib/python3.6/site-packages/ipykernel_launcher.py:2: SettingWithCopyWarning: \n",
      "A value is trying to be set on a copy of a slice from a DataFrame\n",
      "\n",
      "See the caveats in the documentation: https://pandas.pydata.org/pandas-docs/stable/user_guide/indexing.html#returning-a-view-versus-a-copy\n",
      "  \n"
     ]
    }
   ],
   "source": [
    "slice_data = data['score']\n",
    "slice_data[0] = 70\n",
    "print(data)"
   ]
  },
  {
   "cell_type": "code",
   "execution_count": 45,
   "metadata": {},
   "outputs": [
    {
     "name": "stdout",
     "output_type": "stream",
     "text": [
      "  gender    student  score\n",
      "a      M      lilei     95\n",
      "b      F  hanmeimei     95\n",
      "c      F  madongmei     95\n"
     ]
    }
   ],
   "source": [
    "#给某一列赋值一个常数\n",
    "data['score'] = 95\n",
    "print(data)"
   ]
  },
  {
   "cell_type": "code",
   "execution_count": 46,
   "metadata": {},
   "outputs": [
    {
     "name": "stdout",
     "output_type": "stream",
     "text": [
      "  gender    student  score\n",
      "a      M      lilei     95\n",
      "b      F  hanmeimei     96\n",
      "c      F  madongmei     97\n"
     ]
    }
   ],
   "source": [
    "#给每一列赋值一个等差数列\n",
    "data['score'] = range(95,98)\n",
    "print(data)"
   ]
  },
  {
   "cell_type": "code",
   "execution_count": 47,
   "metadata": {},
   "outputs": [
    {
     "name": "stdout",
     "output_type": "stream",
     "text": [
      "  gender    student  score\n",
      "a      M      lilei     80\n",
      "b      F  hanmeimei     90\n",
      "c      F  madongmei    100\n"
     ]
    }
   ],
   "source": [
    "#通过index来设定索引编号\n",
    "score = pd.Series([100,90,80],index=['c','b','a'])\n",
    "data['score'] = score\n",
    "print(data)"
   ]
  },
  {
   "cell_type": "code",
   "execution_count": 48,
   "metadata": {},
   "outputs": [
    {
     "name": "stdout",
     "output_type": "stream",
     "text": [
      "  gender    student\n",
      "a      M      lilei\n",
      "b      F  hanmeimei\n",
      "c      F  madongmei\n"
     ]
    }
   ],
   "source": [
    "#通过del来删除某一个数据列\n",
    "del data['score']\n",
    "print(data)"
   ]
  },
  {
   "cell_type": "code",
   "execution_count": 49,
   "metadata": {},
   "outputs": [
    {
     "name": "stdout",
     "output_type": "stream",
     "text": [
      "  gender    student\n",
      "c      F  madongmei\n",
      "a      M      lilei\n",
      "b      F  hanmeimei\n"
     ]
    }
   ],
   "source": [
    "#通过reindex方法来重新排列行顺序\n",
    "data = data.reindex(['c','a','b'])\n",
    "print(data)"
   ]
  },
  {
   "cell_type": "code",
   "execution_count": 50,
   "metadata": {},
   "outputs": [
    {
     "name": "stdout",
     "output_type": "stream",
     "text": [
      "  gender    student\n",
      "c      F  madongmei\n",
      "a      M      lilei\n",
      "b      F  hanmeimei\n",
      "d    NaN        NaN\n"
     ]
    }
   ],
   "source": [
    "#通过reindex方法来重新排列行顺序，并且产生缺失值\n",
    "data = data.reindex(['c','a','b','d'])\n",
    "print(data)"
   ]
  },
  {
   "cell_type": "code",
   "execution_count": 51,
   "metadata": {},
   "outputs": [
    {
     "name": "stdout",
     "output_type": "stream",
     "text": [
      "  gender    student\n",
      "c      F  madongmei\n",
      "a      M      lilei\n",
      "b      F  hanmeimei\n",
      "d    NaN        NaN\n"
     ]
    }
   ],
   "source": [
    "#通过fill_value来补全缺失的数据\n",
    "data = data.reindex(['c','a','b','d'],fill_value=0)\n",
    "print(data)"
   ]
  },
  {
   "cell_type": "code",
   "execution_count": 76,
   "metadata": {},
   "outputs": [
    {
     "name": "stdout",
     "output_type": "stream",
     "text": [
      "  gender    student  score\n",
      "a      M      lilei   80.0\n",
      "b      F  hanmeimei    NaN\n",
      "c      F  madongmei  100.0\n",
      "d      F  madongmei  100.0\n"
     ]
    }
   ],
   "source": [
    "dict_data = {\n",
    "    'student':['lilei','hanmeimei','madongmei'],\n",
    "    'score':[98,99,100],\n",
    "    'gender':['M','F','F']\n",
    "}\n",
    "data = pd.DataFrame(dict_data,\n",
    "    columns = ['gender','student','score'],\n",
    "    index = ['a','b','c']\n",
    "    )\n",
    "score = pd.Series([100,80],index=['c','a'])\n",
    "data['score'] = score\n",
    "data = data.reindex(index=['a','b','c','d'],method='ffill')\n",
    "print(data)"
   ]
  },
  {
   "cell_type": "code",
   "execution_count": 77,
   "metadata": {},
   "outputs": [
    {
     "name": "stdout",
     "output_type": "stream",
     "text": [
      "  gender    student  score\n",
      "a      M      lilei   80.0\n",
      "c      F  madongmei  100.0\n",
      "d      F  madongmei  100.0\n"
     ]
    }
   ],
   "source": [
    "print(data.dropna())"
   ]
  },
  {
   "cell_type": "code",
   "execution_count": 78,
   "metadata": {},
   "outputs": [
    {
     "name": "stdout",
     "output_type": "stream",
     "text": [
      "  gender    student  score\n",
      "a      M      lilei   80.0\n",
      "b      F  hanmeimei    NaN\n",
      "c      F  madongmei  100.0\n",
      "d      F  madongmei  100.0\n"
     ]
    }
   ],
   "source": [
    "print(data.dropna(how='all'))"
   ]
  },
  {
   "cell_type": "code",
   "execution_count": 79,
   "metadata": {},
   "outputs": [
    {
     "name": "stdout",
     "output_type": "stream",
     "text": [
      "  gender    student  score\n",
      "a      M      lilei   80.0\n",
      "b      F  hanmeimei    0.0\n",
      "c      F  madongmei  100.0\n",
      "d      F  madongmei  100.0\n"
     ]
    }
   ],
   "source": [
    "print(data.fillna(0))"
   ]
  },
  {
   "cell_type": "code",
   "execution_count": 80,
   "metadata": {},
   "outputs": [
    {
     "name": "stdout",
     "output_type": "stream",
     "text": [
      "  gender    student  score\n",
      "a      M      lilei   80.0\n",
      "b      F  hanmeimei   60.0\n",
      "c      F  madongmei  100.0\n",
      "d      F  madongmei  100.0\n"
     ]
    }
   ],
   "source": [
    "print(data.fillna({'score':60}))"
   ]
  },
  {
   "cell_type": "code",
   "execution_count": 81,
   "metadata": {},
   "outputs": [
    {
     "name": "stdout",
     "output_type": "stream",
     "text": [
      "  gender    student  score\n",
      "a      M      lilei   80.0\n",
      "b      F  hanmeimei    NaN\n",
      "c      F  madongmei  100.0\n"
     ]
    }
   ],
   "source": [
    "data = data.drop('d')\n",
    "print(data)"
   ]
  },
  {
   "cell_type": "code",
   "execution_count": 82,
   "metadata": {},
   "outputs": [
    {
     "name": "stdout",
     "output_type": "stream",
     "text": [
      "  gender    student  score\n",
      "a      M      lilei     98\n",
      "b      F  hanmeimei     99\n",
      "c      F  madongmei    100\n"
     ]
    }
   ],
   "source": [
    "dict_data = {\n",
    "    'student':['lilei','hanmeimei','madongmei'],\n",
    "    'score':[98,99,100],\n",
    "    'gender':['M','F','F']\n",
    "}\n",
    "data = pd.DataFrame(dict_data,\n",
    "    columns = ['gender','student','score'],\n",
    "    index = ['a','b','c']\n",
    "    )\n",
    "print(data[data['score']>=90])"
   ]
  },
  {
   "cell_type": "code",
   "execution_count": 83,
   "metadata": {},
   "outputs": [
    {
     "name": "stdout",
     "output_type": "stream",
     "text": [
      "  student  score gender\n",
      "0       a     98      M\n",
      "2       c    100      F\n",
      "3       d     95      F\n",
      "5       f     98      M\n"
     ]
    }
   ],
   "source": [
    "dict_data = {\n",
    "    'student':['a','b','c','d','e','f'],\n",
    "    'score':[98,99,100,95,96,98],\n",
    "    'gender':['M','F','F','F','M','M']\n",
    "}\n",
    "data = pd.DataFrame(dict_data)\n",
    "select_list = [95,98,100]\n",
    "print(data[data['score'].isin(select_list)])"
   ]
  },
  {
   "cell_type": "code",
   "execution_count": 85,
   "metadata": {},
   "outputs": [
    {
     "name": "stdout",
     "output_type": "stream",
     "text": [
      "        count\n",
      "tag_id       \n",
      "a          35\n",
      "b          30\n",
      "c          42\n"
     ]
    }
   ],
   "source": [
    "data = pd.DataFrame({\n",
    "        'tag_id' : ['a','b','c','a','a','c'],\n",
    "        'count'  : [10,30,20,10,15,22]\n",
    "})\n",
    "grouped_data = data.groupby('tag_id')\n",
    "print(grouped_data.sum())"
   ]
  },
  {
   "cell_type": "code",
   "execution_count": 90,
   "metadata": {},
   "outputs": [
    {
     "name": "stdout",
     "output_type": "stream",
     "text": [
      "  gender    student  score\n",
      "a      M      lilei     98\n",
      "b      F  hanmeimei     99\n",
      "c      F  madongmei    100\n"
     ]
    }
   ],
   "source": [
    "dict_data = {\n",
    "    'student':['lilei','hanmeimei','madongmei'],\n",
    "    'score':[98,99,100],\n",
    "    'gender':['M','F','F']\n",
    "}\n",
    "data = pd.DataFrame(dict_data,\n",
    "    columns = ['gender','student','score'],\n",
    "    index = ['a','b','c']\n",
    "    )\n",
    "print(data.sort_index())"
   ]
  },
  {
   "cell_type": "code",
   "execution_count": 91,
   "metadata": {},
   "outputs": [
    {
     "name": "stdout",
     "output_type": "stream",
     "text": [
      "  gender    student  score\n",
      "c      F  madongmei    100\n",
      "b      F  hanmeimei     99\n",
      "a      M      lilei     98\n"
     ]
    }
   ],
   "source": [
    "print(data.sort_index(ascending=False))"
   ]
  },
  {
   "cell_type": "code",
   "execution_count": 92,
   "metadata": {},
   "outputs": [
    {
     "name": "stdout",
     "output_type": "stream",
     "text": [
      "  gender    student  score\n",
      "a      M      lilei     98\n",
      "b      F  hanmeimei     99\n",
      "c      F  madongmei    100\n"
     ]
    }
   ],
   "source": [
    "print(data.sort_values(by=\"score\"))"
   ]
  },
  {
   "cell_type": "code",
   "execution_count": 93,
   "metadata": {},
   "outputs": [
    {
     "name": "stdout",
     "output_type": "stream",
     "text": [
      "gender                         MFF\n",
      "student    lileihanmeimeimadongmei\n",
      "score                          297\n",
      "dtype: object\n"
     ]
    }
   ],
   "source": [
    "print(data.sum())"
   ]
  },
  {
   "cell_type": "code",
   "execution_count": 94,
   "metadata": {},
   "outputs": [
    {
     "name": "stdout",
     "output_type": "stream",
     "text": [
      "b1  1    5\n",
      "    2    3\n",
      "b2  1    5\n",
      "    2    2\n",
      "b3  1    4\n",
      "b4  2    4\n",
      "    3    2\n",
      "dtype: int64\n"
     ]
    }
   ],
   "source": [
    "book_ratings = pd.Series(\n",
    "    np.random.randint(1,6,size=7),\n",
    "    index = [\n",
    "        ['b1','b1','b2','b2','b3','b4','b4'],\n",
    "        [1,2,1,2,1,2,3]\n",
    "    ]\n",
    ")\n",
    "print(book_ratings)"
   ]
  },
  {
   "cell_type": "code",
   "execution_count": 95,
   "metadata": {},
   "outputs": [
    {
     "name": "stdout",
     "output_type": "stream",
     "text": [
      "  book_name  book_id  rating\n",
      "0         a       11       1\n",
      "1         a       11       4\n",
      "2         b       22       3\n",
      "3         b       22       5\n",
      "4         c       33       2\n",
      "5         d       44       2\n",
      "6         e       55       4\n",
      "7         e       55       5\n",
      "8         f       66       3\n"
     ]
    }
   ],
   "source": [
    "book_name = pd.DataFrame({\n",
    "        'book_name':['a','b','c','d','e','f'],\n",
    "        'book_id':[11,22,33,44,55,66]\n",
    "})\n",
    "id_rating = pd.DataFrame({\n",
    "        'book_id':[11,22,22,44,55,66,33,11,55],\n",
    "        'rating':[1,3,5,2,4,3,2,4,5]\n",
    "})\n",
    "print(pd.merge(book_name,id_rating))"
   ]
  },
  {
   "cell_type": "code",
   "execution_count": 96,
   "metadata": {},
   "outputs": [
    {
     "name": "stdout",
     "output_type": "stream",
     "text": [
      "  key  data1  data2\n",
      "0   a      1      8\n",
      "1   a      3      8\n",
      "2   b      2      9\n",
      "3   b      5      9\n",
      "4   c      4      7\n"
     ]
    }
   ],
   "source": [
    "data1 = pd.DataFrame({\n",
    "    'key':['a','b','a','c','b','d'],\n",
    "    'data1':[1,2,3,4,5,6]\n",
    "})\n",
    "data2 = pd.DataFrame({\n",
    "    'key':['a','b','c'],\n",
    "    'data2':[8,9,7]\n",
    "})\n",
    "print(pd.merge(data1,data2))"
   ]
  },
  {
   "cell_type": "code",
   "execution_count": 97,
   "metadata": {},
   "outputs": [
    {
     "name": "stdout",
     "output_type": "stream",
     "text": [
      "  key  data1  data2\n",
      "0   a      1    8.0\n",
      "1   a      3    8.0\n",
      "2   b      2    9.0\n",
      "3   b      5    9.0\n",
      "4   c      4    7.0\n",
      "5   d      6    NaN\n"
     ]
    }
   ],
   "source": [
    "data1 = pd.DataFrame({\n",
    "    'key':['a','b','a','c','b','d'],\n",
    "    'data1':[1,2,3,4,5,6]\n",
    "})\n",
    "data2 = pd.DataFrame({\n",
    "    'key':['a','b','c'],\n",
    "    'data2':[8,9,7]\n",
    "})\n",
    "print(pd.merge(data1,data2,how='outer'))"
   ]
  },
  {
   "cell_type": "code",
   "execution_count": 98,
   "metadata": {},
   "outputs": [
    {
     "name": "stdout",
     "output_type": "stream",
     "text": [
      "  key  data1  data2\n",
      "0   a      1      8\n",
      "1   a      3      8\n",
      "2   b      2      9\n",
      "3   b      5      9\n",
      "4   c      4      7\n"
     ]
    }
   ],
   "source": [
    "data1 = pd.DataFrame({\n",
    "    'key':['a','b','a','c','b','d'],\n",
    "    'data1':[1,2,3,4,5,6]\n",
    "})\n",
    "data2 = pd.DataFrame({\n",
    "    'key':['a','b','c'],\n",
    "    'data2':[8,9,7]\n",
    "})\n",
    "print(pd.merge(data1,data2,on='key'))"
   ]
  },
  {
   "cell_type": "code",
   "execution_count": 102,
   "metadata": {},
   "outputs": [
    {
     "name": "stdout",
     "output_type": "stream",
     "text": [
      "  lkey  data1 rkey  data2\n",
      "0    a      1    a      8\n",
      "1    a      3    a      8\n",
      "2    b      2    b      9\n",
      "3    b      5    b      9\n",
      "4    c      4    c      7\n"
     ]
    }
   ],
   "source": [
    "data1 = pd.DataFrame({\n",
    "    'lkey':['a','b','a','c','b','d'],\n",
    "    'data1':[1,2,3,4,5,6]\n",
    "})\n",
    "data2 = pd.DataFrame({\n",
    "    'rkey':['a','b','c'],\n",
    "    'data2':[8,9,7]\n",
    "})\n",
    "print(pd.merge(data1,data2,left_on='lkey',right_on='rkey'))"
   ]
  },
  {
   "cell_type": "code",
   "execution_count": 103,
   "metadata": {},
   "outputs": [
    {
     "name": "stdout",
     "output_type": "stream",
     "text": [
      "           1     258    5\n",
      "0          2  4081.0  4.0\n",
      "1          2   260.0  5.0\n",
      "2          2  9296.0  5.0\n",
      "3          2  2318.0  3.0\n",
      "4          2    26.0  4.0\n",
      "...      ...     ...  ...\n",
      "348205  5694  6364.0  3.0\n",
      "348206  2760     3.0  3.0\n",
      "348207  2760    49.0  2.0\n",
      "348208  2760    52.0  2.0\n",
      "348209  1157     NaN  NaN\n",
      "\n",
      "[348210 rows x 3 columns]\n"
     ]
    }
   ],
   "source": [
    "data = pd.read_csv('rating.csv')\n",
    "print(data)"
   ]
  },
  {
   "cell_type": "code",
   "execution_count": 104,
   "metadata": {},
   "outputs": [
    {
     "name": "stdout",
     "output_type": "stream",
     "text": [
      "             0       1    2\n",
      "0            1   258.0  5.0\n",
      "1            2  4081.0  4.0\n",
      "2            2   260.0  5.0\n",
      "3            2  9296.0  5.0\n",
      "4            2  2318.0  3.0\n",
      "...        ...     ...  ...\n",
      "1094944  13260  3620.0  2.0\n",
      "1094945  13260  4353.0  4.0\n",
      "1094946  16722   427.0  4.0\n",
      "1094947  13260  3640.0  3.0\n",
      "1094948   1326     NaN  NaN\n",
      "\n",
      "[1094949 rows x 3 columns]\n"
     ]
    }
   ],
   "source": [
    "data = pd.read_csv('rating.csv',header=None)\n",
    "print(data)"
   ]
  },
  {
   "cell_type": "code",
   "execution_count": 2,
   "metadata": {},
   "outputs": [
    {
     "name": "stdout",
     "output_type": "stream",
     "text": [
      "         user_id  book_id  rating\n",
      "0              1      258       5\n",
      "1              2     4081       4\n",
      "2              2      260       5\n",
      "3              2     9296       5\n",
      "4              2     2318       3\n",
      "...          ...      ...     ...\n",
      "2929427    36744      828       5\n",
      "2929428    36744     1265       3\n",
      "2929429    36744      490       3\n",
      "2929430    36744     8737       5\n",
      "2929431    36744     2451       5\n",
      "\n",
      "[2929432 rows x 3 columns]\n"
     ]
    }
   ],
   "source": [
    "import pandas as pd\n",
    "data = pd.read_csv('rating.csv',names=['user_id','book_id','rating'])\n",
    "print(data)"
   ]
  },
  {
   "cell_type": "code",
   "execution_count": 3,
   "metadata": {},
   "outputs": [
    {
     "name": "stdout",
     "output_type": "stream",
     "text": [
      "         book_id  rating\n",
      "user_id                 \n",
      "1            258       5\n",
      "2           4081       4\n",
      "2            260       5\n",
      "2           9296       5\n",
      "2           2318       3\n",
      "...          ...     ...\n",
      "36744        828       5\n",
      "36744       1265       3\n",
      "36744        490       3\n",
      "36744       8737       5\n",
      "36744       2451       5\n",
      "\n",
      "[2929432 rows x 2 columns]\n"
     ]
    },
    {
     "name": "stderr",
     "output_type": "stream",
     "text": [
      "/opt/conda/lib/python3.6/site-packages/numpy/lib/arraysetops.py:580: FutureWarning: elementwise comparison failed; returning scalar instead, but in the future will perform elementwise comparison\n",
      "  mask |= (ar1 == a)\n"
     ]
    }
   ],
   "source": [
    "data = pd.read_csv('rating.csv',names=['user_id','book_id','rating'],index_col=\"user_id\")\n",
    "print(data)"
   ]
  },
  {
   "cell_type": "code",
   "execution_count": 4,
   "metadata": {},
   "outputs": [
    {
     "name": "stdout",
     "output_type": "stream",
     "text": [
      "         user_id  book_id  rating\n",
      "0              1      258       5\n",
      "1              2     4081       4\n",
      "2              2      260       5\n",
      "3              2     9296       5\n",
      "4              2     2318       3\n",
      "...          ...      ...     ...\n",
      "2929427    36744      828       5\n",
      "2929428    36744     1265       3\n",
      "2929429    36744      490       3\n",
      "2929430    36744     8737       5\n",
      "2929431    36744     2451       5\n",
      "\n",
      "[2929432 rows x 3 columns]\n"
     ]
    }
   ],
   "source": [
    "data = pd.read_table('rating.csv',names=['user_id','book_id','rating'],sep=\",\")\n",
    "print(data)"
   ]
  },
  {
   "cell_type": "code",
   "execution_count": 1,
   "metadata": {},
   "outputs": [
    {
     "name": "stdout",
     "output_type": "stream",
     "text": [
      "    0    1   2     3   4\n",
      "0   1  2.0   3   4.0   5\n",
      "1   6  7.0   8   NaN  10\n",
      "2  11  NaN  13  14.0  15\n"
     ]
    }
   ],
   "source": [
    "import pandas as pd\n",
    "data = pd.read_csv(\"data.csv\",header=None)\n",
    "print(data)"
   ]
  },
  {
   "cell_type": "code",
   "execution_count": 4,
   "metadata": {},
   "outputs": [],
   "source": [
    "import pandas as pd\n",
    "data = pd.DataFrame({\n",
    "    \"student\":['lilei','hanmeimei','madongmei'],\n",
    "    \"gender\":['M','F','F'],\n",
    "    \"score\":[90,80,1000]\n",
    "})\n",
    "data.to_csv(\"student.csv\",index=False)"
   ]
  },
  {
   "cell_type": "code",
   "execution_count": null,
   "metadata": {},
   "outputs": [],
   "source": []
  },
  {
   "cell_type": "code",
   "execution_count": 10,
   "metadata": {},
   "outputs": [
    {
     "name": "stdout",
     "output_type": "stream",
     "text": [
      "  gender  score    student\n",
      "0      M     90      lilei\n",
      "1      F     80  hanmeimei\n",
      "2      F    100  madongmei\n"
     ]
    }
   ],
   "source": [
    "#需要安装1.2.0版本的xlrd和xlwt\n",
    "# !pip install xlrd==1.2.0\n",
    "# !pip install xlwt==1.2.0\n",
    "file = pd.ExcelFile('student.xlsx')\n",
    "data = file.parse('student',index_col=0)\n",
    "print(data)"
   ]
  },
  {
   "cell_type": "code",
   "execution_count": 11,
   "metadata": {},
   "outputs": [
    {
     "name": "stdout",
     "output_type": "stream",
     "text": [
      "Numpy reading time:16089.790105819702ms\n",
      "Pandas reading time:572.4649429321289ms\n"
     ]
    }
   ],
   "source": [
    "import pandas as pd\n",
    "import numpy as np\n",
    "import time\n",
    "\n",
    "start_time = time.time()\n",
    "data = np.genfromtxt('rating.csv',delimiter=',')\n",
    "end_time = time.time()\n",
    "print(f'Numpy reading time:{1000*(end_time-start_time)}ms')\n",
    "\n",
    "start_time = time.time()\n",
    "data = pd.read_csv('rating.csv',header=None)\n",
    "end_time = time.time()\n",
    "print(f'Pandas reading time:{1000*(end_time-start_time)}ms')"
   ]
  },
  {
   "cell_type": "code",
   "execution_count": null,
   "metadata": {},
   "outputs": [],
   "source": []
  }
 ],
 "metadata": {
  "kernelspec": {
   "display_name": "Python 3",
   "language": "python",
   "name": "python3"
  },
  "language_info": {
   "codemirror_mode": {
    "name": "ipython",
    "version": 3
   },
   "file_extension": ".py",
   "mimetype": "text/x-python",
   "name": "python",
   "nbconvert_exporter": "python",
   "pygments_lexer": "ipython3",
   "version": "3.6.5"
  }
 },
 "nbformat": 4,
 "nbformat_minor": 4
}
